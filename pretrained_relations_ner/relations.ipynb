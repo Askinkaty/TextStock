{
 "cells": [
  {
   "metadata": {},
   "cell_type": "markdown",
   "source": "### Relation extraction",
   "id": "44c7a41494914a8f"
  },
  {
   "metadata": {
    "ExecuteTime": {
     "end_time": "2024-12-30T19:48:45.931735Z",
     "start_time": "2024-12-30T19:48:44.322289Z"
    }
   },
   "cell_type": "code",
   "source": [
    "from transformers import pipeline\n",
    "import torch \n",
    "\n",
    "device = torch.device('cuda' if torch.cuda.is_available() else 'cpu')\n",
    "\n",
    "re_pipeline = pipeline(\"zero-shot-classification\", model=\"facebook/bart-large-mnli\", device=device)\n",
    "text = \"Apple acquired Beats Electronics for $3 billion.\"\n",
    "candidate_labels = [\"acquisition\", \"partnership\", \"investment\"]\n",
    "result = re_pipeline(text, candidate_labels,\n",
    "                     hypothesis_template=\"The type of relations between two entities is {}\",\n",
    "                     pairs=[\"Apple\", \"Beats Electronics\"])\n",
    "print(result)"
   ],
   "id": "710c4267751d96a0",
   "outputs": [
    {
     "name": "stderr",
     "output_type": "stream",
     "text": [
      "Device set to use cuda\n"
     ]
    },
    {
     "name": "stdout",
     "output_type": "stream",
     "text": [
      "{'sequence': 'Apple acquired Beats Electronics for $3 billion.', 'labels': ['acquisition', 'investment', 'partnership'], 'scores': [0.7058990597724915, 0.17961826920509338, 0.11448264867067337]}\n"
     ]
    }
   ],
   "execution_count": 6
  },
  {
   "metadata": {},
   "cell_type": "markdown",
   "source": "### Aspect-based sentiment\n",
   "id": "1167529f3c99fe39"
  },
  {
   "metadata": {
    "ExecuteTime": {
     "end_time": "2024-12-30T17:45:55.167125Z",
     "start_time": "2024-12-30T17:45:53.167193Z"
    }
   },
   "cell_type": "code",
   "source": [
    "from transformers import pipeline\n",
    "\n",
    "classifier = pipeline(\"zero-shot-classification\", model=\"facebook/bart-large-mnli\", device=device)\n",
    "\n",
    "text = \"We anticipate strong demand for our new product line, but uncertainties in the global economy remain a concern.\"\n",
    "\n",
    "# Sentiment towards future guidance (implied)\n",
    "future_guidance_phrase = \"strong demand for our new product line\"\n",
    "labels_guidance = [\"positive\", \"negative\", \"neutral\"]\n",
    "result_guidance = classifier(text, labels_guidance, hypothesis_template=f\"The sentiment towards {future_guidance_phrase} is {{}}.\")\n",
    "print(f\"Sentiment towards future guidance: {result_guidance}\")\n",
    "\n",
    "# Sentiment towards risk\n",
    "risk_phrase = \"uncertainties in the global economy\"\n",
    "labels_risk = [\"positive\", \"negative\", \"neutral\"]\n",
    "result_risk = classifier(text, labels_risk, hypothesis_template=f\"The sentiment regarding {risk_phrase} is {{}}.\")\n",
    "print(f\"Sentiment towards risk: {result_risk}\")"
   ],
   "id": "3c9528fd8d1bf8b3",
   "outputs": [
    {
     "name": "stdout",
     "output_type": "stream",
     "text": [
      "Sentiment towards future guidance: {'sequence': 'We anticipate strong demand for our new product line, but uncertainties in the global economy remain a concern.', 'labels': ['positive', 'neutral', 'negative'], 'scores': [0.7057256102561951, 0.25031501054763794, 0.04395933076739311]}\n",
      "Sentiment towards risk: {'sequence': 'We anticipate strong demand for our new product line, but uncertainties in the global economy remain a concern.', 'labels': ['negative', 'positive', 'neutral'], 'scores': [0.9156321287155151, 0.04542168229818344, 0.03894618898630142]}\n"
     ]
    }
   ],
   "execution_count": 15
  },
  {
   "metadata": {},
   "cell_type": "markdown",
   "source": "### Roles",
   "id": "51e9fef54f2e06d0"
  },
  {
   "metadata": {
    "ExecuteTime": {
     "end_time": "2025-01-13T15:58:51.453800Z",
     "start_time": "2025-01-13T15:58:47.029523Z"
    }
   },
   "cell_type": "code",
   "source": [
    "import spacy\n",
    "\n",
    "# Load spaCy model (you might need a larger model for better results)\n",
    "nlp = spacy.load(\"en_core_web_lg\")\n",
    "\n",
    "# This is a simplified example and might require a custom component or extension\n",
    "# for full SRL. spaCy's focus is more on core NLP tasks.\n",
    "# However, you can use dependency parsing to infer some semantic roles.\n",
    "\n",
    "sentence = \"The investor sold the shares yesterday.\"\n",
    "doc = nlp(sentence)\n",
    "\n",
    "for token in doc:\n",
    "    if token.dep_ in [\"nsubj\", \"dobj\", \"pobj\", \"npadvmod\"]:  # Common argument types\n",
    "        print(f\"Word: {token.text}, Dependency: {token.dep_}, Head: {token.head.text}\")"
   ],
   "id": "521a46eeebe31e91",
   "outputs": [
    {
     "name": "stdout",
     "output_type": "stream",
     "text": [
      "Word: investor, Dependency: nsubj, Head: sold\n",
      "Word: shares, Dependency: dobj, Head: sold\n",
      "Word: yesterday, Dependency: npadvmod, Head: sold\n"
     ]
    }
   ],
   "execution_count": 1
  }
 ],
 "metadata": {
  "kernelspec": {
   "display_name": "Python 3",
   "language": "python",
   "name": "python3"
  },
  "language_info": {
   "codemirror_mode": {
    "name": "ipython",
    "version": 2
   },
   "file_extension": ".py",
   "mimetype": "text/x-python",
   "name": "python",
   "nbconvert_exporter": "python",
   "pygments_lexer": "ipython2",
   "version": "2.7.6"
  }
 },
 "nbformat": 4,
 "nbformat_minor": 5
}
