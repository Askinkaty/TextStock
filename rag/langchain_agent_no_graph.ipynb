{
 "cells": [
  {
   "cell_type": "code",
   "id": "5f9017e3-43a1-4cdd-801c-aaf3c396ed06",
   "metadata": {
    "ExecuteTime": {
     "end_time": "2025-01-12T17:01:22.154203Z",
     "start_time": "2025-01-12T17:01:21.149900Z"
    }
   },
   "source": [
    "from langchain_openai import ChatOpenAI\n",
    "from typing import Annotated\n",
    "\n",
    "from typing_extensions import TypedDict\n",
    "\n",
    "from langgraph.graph import StateGraph, START, END\n",
    "from langgraph.graph.message import add_messages\n",
    "from IPython.display import Image, display\n",
    "\n",
    "\n",
    "from langchain.vectorstores import FAISS\n",
    "from langchain_openai import OpenAIEmbeddings\n",
    "from langchain.text_splitter import RecursiveCharacterTextSplitter\n",
    "from langchain_text_splitters import HTMLSectionSplitter\n",
    "\n",
    "\n",
    "OPENAI_API_KEY = ''\n",
    "\n",
    "import getpass\n",
    "import os\n",
    "\n",
    "if not os.environ.get(\"OPENAI_API_KEY\"):\n",
    "    os.environ[\"OPENAI_API_KEY\"] = OPENAI_API_KEY"
   ],
   "outputs": [],
   "execution_count": 1
  },
  {
   "metadata": {
    "ExecuteTime": {
     "end_time": "2025-01-12T17:01:22.157978Z",
     "start_time": "2025-01-12T17:01:22.155603Z"
    }
   },
   "cell_type": "code",
   "source": [
    "docs = []\n",
    "documents_path = '../data/financial_reports/earning_call_scripts/Transcripts/AMZN'"
   ],
   "id": "a59eb16c50a9a0e5",
   "outputs": [],
   "execution_count": 2
  },
  {
   "metadata": {
    "ExecuteTime": {
     "end_time": "2025-01-12T17:01:22.170855Z",
     "start_time": "2025-01-12T17:01:22.158885Z"
    }
   },
   "cell_type": "code",
   "source": [
    "from langchain_text_splitters import RecursiveCharacterTextSplitter\n",
    "\n",
    "text_splitter = RecursiveCharacterTextSplitter(\n",
    "    chunk_size=2000,\n",
    "    chunk_overlap=100,\n",
    "    length_function=len,\n",
    "    separators=[\n",
    "        \"\\n\\n\",\n",
    "        \"\\n\",\n",
    "        \" \",\n",
    "        \".\",\n",
    "        \",\",\n",
    "        \"\\u200b\",  # Zero-width space\n",
    "        \"\\uff0c\",  # Fullwidth comma\n",
    "        \"\\u3001\",  # Ideographic comma\n",
    "        \"\\uff0e\",  # Fullwidth full stop\n",
    "        \"\\u3002\",  # Ideographic full stop\n",
    "        \"\",\n",
    "        \"--------------------------------------------------------------------------------\"\n",
    "    ],\n",
    ")"
   ],
   "id": "c965decee9d8d108",
   "outputs": [],
   "execution_count": 3
  },
  {
   "metadata": {
    "ExecuteTime": {
     "end_time": "2025-01-12T17:01:22.175557Z",
     "start_time": "2025-01-12T17:01:22.171998Z"
    }
   },
   "cell_type": "code",
   "source": [
    "import string\n",
    "\n",
    "def has_high_percentage_of_punctuation(input_string, threshold=0.2):\n",
    "    \"\"\"\n",
    "    Check if a string has a high percentage of punctuation marks.\n",
    "    \n",
    "    Parameters:\n",
    "    - input_string (str): The string to check.\n",
    "    - threshold (float): The percentage threshold (e.g., 0.3 for 30%).\n",
    "    \n",
    "    Returns:\n",
    "    - bool: True if the percentage of punctuation marks exceeds the threshold, otherwise False.\n",
    "    \"\"\"\n",
    "    # Count the number of punctuation marks in the string\n",
    "    punctuation_count = sum(1 for char in input_string if char in string.punctuation)\n",
    "    \n",
    "    # Calculate the percentage of punctuation marks\n",
    "    total_chars = len(input_string)\n",
    "    if total_chars == 0:\n",
    "        return False  # Avoid division by zero\n",
    "    \n",
    "    punctuation_percentage = punctuation_count / total_chars\n",
    "    \n",
    "    # Check if the percentage exceeds the threshold\n",
    "    return punctuation_percentage > threshold\n",
    "\n"
   ],
   "id": "448fd2ee38f1531c",
   "outputs": [],
   "execution_count": 4
  },
  {
   "metadata": {
    "ExecuteTime": {
     "end_time": "2025-01-12T17:01:22.247549Z",
     "start_time": "2025-01-12T17:01:22.176282Z"
    }
   },
   "cell_type": "code",
   "source": [
    "from langchain_core.documents import Document\n",
    "from datetime import datetime\n",
    "import re\n",
    "\n",
    "\n",
    "list_of_documents = []\n",
    "metadata = []\n",
    "just_documents = []\n",
    "\n",
    "for doc in os.listdir(documents_path):\n",
    "    document = open(os.path.join(documents_path, doc), 'r').read()\n",
    "    split_text = text_splitter.split_text(document)\n",
    "    for s in split_text:\n",
    "        if len(s.split()) < 30:\n",
    "            continue\n",
    "        if has_high_percentage_of_punctuation(s):\n",
    "            continue\n",
    "        else:\n",
    "            lang_doc = Document(page_content=re.sub(r'-{3,}', ' ', s))\n",
    "            date = doc.split('-')[:-1]\n",
    "            date = datetime.strptime(' '.join(date), '%Y %b %d').timestamp()\n",
    "            date = int(date)\n",
    "            \n",
    "            lang_doc.metadata = {'company': 'AMZN', 'date': date}\n",
    "            metadata.append({'company': 'AMZN', 'date': date})\n",
    "            list_of_documents.append(lang_doc)\n",
    "            just_documents.append(re.sub(r'-{3,}', ' ', s))"
   ],
   "id": "f2d201549b3486a",
   "outputs": [],
   "execution_count": 5
  },
  {
   "metadata": {
    "ExecuteTime": {
     "end_time": "2025-01-12T17:01:22.251655Z",
     "start_time": "2025-01-12T17:01:22.248705Z"
    }
   },
   "cell_type": "code",
   "source": [
    "from uuid import uuid4\n",
    "\n",
    "uuids = [str(uuid4()) for _ in range(len(list_of_documents))]"
   ],
   "id": "611c5db0179605d3",
   "outputs": [],
   "execution_count": 6
  },
  {
   "metadata": {
    "ExecuteTime": {
     "end_time": "2025-01-12T17:01:22.310391Z",
     "start_time": "2025-01-12T17:01:22.253076Z"
    }
   },
   "cell_type": "code",
   "source": "embeddings = OpenAIEmbeddings()",
   "id": "c5ace6246cdf86e2",
   "outputs": [],
   "execution_count": 7
  },
  {
   "metadata": {
    "ExecuteTime": {
     "end_time": "2025-01-12T17:01:22.777565Z",
     "start_time": "2025-01-12T17:01:22.311309Z"
    }
   },
   "cell_type": "code",
   "source": [
    "from langchain_chroma import Chroma\n",
    "\n",
    "vector_store = Chroma(\n",
    "    collection_name=\"transcripts\",\n",
    "    embedding_function=embeddings,\n",
    "    persist_directory=\"./rag\",)"
   ],
   "id": "b4eb1d813c80b53d",
   "outputs": [],
   "execution_count": 8
  },
  {
   "metadata": {
    "ExecuteTime": {
     "end_time": "2025-01-12T17:01:26.339224Z",
     "start_time": "2025-01-12T17:01:22.779098Z"
    }
   },
   "cell_type": "code",
   "source": "vector_store.add_documents(documents=list_of_documents, ids=uuids)\n",
   "id": "231efc26b74da0b2",
   "outputs": [
    {
     "data": {
      "text/plain": [
       "['fd48d4a2-01a9-4ebd-9b34-3e779540f4c4',\n",
       " '49967722-a443-4662-a222-8bf9e78c00d7',\n",
       " 'e75e05ca-6f3b-4c5f-8b39-d7bff252db9b',\n",
       " '91694418-5ff7-42ff-a018-2e8b98f5ff87',\n",
       " '76314e33-5013-4c92-aa15-65b38f6d81ad',\n",
       " 'fe6d49a6-3d78-4e74-9e78-5187c448f5b7',\n",
       " '83c84f99-1570-4a1d-b1f5-ede15ddbb9c7',\n",
       " '49b58786-f511-4387-b3e0-49cba8d79b62',\n",
       " 'ff5af806-846d-47ec-9303-e1050d8c6d67',\n",
       " '54faed4f-5f87-4f77-b68a-bccb4fd245e4',\n",
       " '02eb820e-8d91-4562-8350-50d91151dec8',\n",
       " 'b46251d1-5cea-43ef-9e88-c25170a1a98f',\n",
       " '47eba3ba-0ef5-4392-af4c-c185c1f622a6',\n",
       " 'da3ac3d3-ba7e-4278-84de-044851daefc2',\n",
       " 'b66955b2-f018-4a19-b26c-5920fce8a032',\n",
       " 'e12b9945-a144-48d2-9d8c-611db0d5f97a',\n",
       " 'f9685869-fec8-4171-b23c-d189469439e1',\n",
       " 'b2e5b6c4-b5ba-4c00-a14a-4e66fdba9890',\n",
       " 'c3cb4dfd-1ba3-4bed-86fb-f55c19210bff',\n",
       " '275c5ba5-f896-47b1-9ae6-e117ed120bd9',\n",
       " 'f28497e1-a57d-4a26-9163-b28c3cc1f4a9',\n",
       " 'afa741e9-ee2e-4ff8-b5eb-1fd000185e0a',\n",
       " '22c229f2-8ece-4ab0-8a1a-c2d0a169cbef',\n",
       " 'df38f866-0b09-4027-8580-7e2061c7ad2a',\n",
       " 'e16a9bd5-5c4f-4033-85f3-2a8a8de996c7',\n",
       " 'b90306a0-c637-4104-80bc-01104a6ea5d4',\n",
       " '1fcd89b4-2d02-49c7-bf7e-09bc7b53d124',\n",
       " '7937fd67-44d8-4fa8-84e2-a13a06a34a7e',\n",
       " '71c7a18e-a7fb-4fb5-877a-ee0f3838cd74',\n",
       " 'e1f1dde7-2d98-4d2c-8d38-ae4bca70711f',\n",
       " 'cea82941-366f-4faf-aeda-027850c9655a',\n",
       " '86f95a4f-a426-489b-b44a-e8b5e2441e0b',\n",
       " '40c6a8b2-94b3-4a27-97fd-ef714255ae43',\n",
       " 'ec11d473-ab20-4c0e-9a4e-3ec9388c564c',\n",
       " 'ef154ee6-0e4f-445b-a8d9-1f3136a3d3a7',\n",
       " '0d174366-d69c-4be5-bf68-ec3d61723244',\n",
       " 'a65655ca-3df6-4a7f-9ad8-402bf04b312f',\n",
       " '0fbe0814-6c72-42a0-ab3f-d2bd7428cb38',\n",
       " '6ca1d8bf-f46e-4eb2-b147-74e1fd7451d1',\n",
       " 'b4fb76c6-c6fa-4243-9829-f554b7c93aae',\n",
       " '90fa3006-dc78-4c3f-89d5-3f1813a82ec5',\n",
       " 'a73169c2-1699-40e9-8dc2-52bf395bf187',\n",
       " '5091213c-dc1a-4564-9109-86c409d5490b',\n",
       " '95c52d8d-b423-4ff2-8fd0-d81e3b83182a',\n",
       " 'd6180c65-9b59-40b7-8a4f-ec07c34c1a1a',\n",
       " 'df951a3a-2085-4fc0-a5a5-f4638264aef4',\n",
       " '219b97fb-852d-4275-a0cc-4a8a62b85e9e',\n",
       " '1139dde4-7d28-4d53-8ced-814ac0c8f120',\n",
       " 'ab20c740-7b40-4932-b952-dd9a569540ed',\n",
       " '701f2804-37f4-4f7d-bac8-04e82c593040',\n",
       " '3796fdf1-9f00-4ce9-89f9-fdd5c4daf70f',\n",
       " 'e00fca2c-5c5a-46c1-a12d-4f75414ed629',\n",
       " '44489b52-e817-4a45-819b-b8cfc301c66c',\n",
       " '10522ae5-72da-4322-b751-94a490428393',\n",
       " 'bec9afcc-11a1-4da4-9e48-300f42ef5e92',\n",
       " 'f7310701-c3ac-46f8-934d-22a5c388ef1d',\n",
       " '31aec450-eef8-4e89-bd6d-224631f7562e',\n",
       " 'dc65d106-5804-461a-8914-2bb94a2db81e',\n",
       " 'eabbaf47-93fa-46b8-a920-cf8f51a34e00',\n",
       " '016928f0-8e94-45c9-9318-d95630293a3c',\n",
       " '866003bb-1a22-4278-b4d8-6d40ebd0d7f6',\n",
       " '8c1dd2bb-2d36-4a10-84ee-ea90f150adea',\n",
       " 'c509a176-589f-49f6-86f1-98308fee8a60',\n",
       " '7250161d-2e1a-402c-864c-41b71f078861',\n",
       " 'ea926a24-18ee-411d-84cf-f22c0e20934c',\n",
       " '133beb3a-b8ef-47bd-8e6e-2457012761a7',\n",
       " '239d6009-4b7f-4b32-a4bc-87fa1cb90205',\n",
       " '7f617062-1880-4076-96cd-e4d4e979bed4',\n",
       " '5642cada-c6c2-46da-8f21-1bef4e5ac4ac',\n",
       " 'f7a14480-7aca-4879-bd45-886966319fda',\n",
       " '91572677-688e-472c-8c17-1dedbae5bd5b',\n",
       " 'c7902c83-e409-48c8-90e9-eb57312531f2',\n",
       " 'c17332fa-6706-47c1-b836-fc4457e98917',\n",
       " '8ab4f0fd-ad72-4e74-81db-82809868fb73',\n",
       " '55273720-3531-470b-90fb-4b9f18291c50',\n",
       " 'e9d6c889-8282-48e6-a148-db681b4fd730',\n",
       " '2884a4d2-f6fd-4f25-9870-9ccdc48cdb93',\n",
       " '9509a466-4682-4c9e-9795-e91c8278d6aa',\n",
       " '7e70e386-2a12-404a-a313-5abddcb5c3b0',\n",
       " 'b2d2fada-01cb-4bbe-90a7-e2499c3d55ea',\n",
       " 'bea981c7-8070-424e-bdf5-04141310c7f8',\n",
       " 'cf95004d-0416-47d5-aaa3-2f47ae5dac6e',\n",
       " 'b4c349f7-bb6d-42a8-8217-f381e8652d9c',\n",
       " '92d777bd-418a-4481-a1ed-0a8eb1fee0ee',\n",
       " '73776e6c-ccda-4fa0-8c9f-fab4b498b4a6',\n",
       " '6f699e84-5817-4299-85f0-cedc38e9cf54',\n",
       " 'db2b50ed-c280-4646-aef4-2c57f0463bd7',\n",
       " '58e5b75c-c254-4ef5-a7e6-287982a29581',\n",
       " '2fdfe42c-f5c1-4915-b7c3-5e5b158c112d',\n",
       " 'a9c71865-27a6-480b-a033-9ee5021d886f',\n",
       " '46b6ab17-82ba-47e5-8caf-67f122f0b429',\n",
       " '155ecb70-645d-49d9-a4ba-90f1156e3ea8',\n",
       " 'a3d5c5c5-9d8a-4177-93b8-a92002cccca5',\n",
       " '62b698c5-30b0-486a-94e6-4d1ad4cf7606',\n",
       " '43184b27-78ff-4610-8301-a92b33813522',\n",
       " '24c36fd6-a6fe-4fd4-9384-92d6d173db02',\n",
       " '2a9f54c0-201d-4dbe-afeb-0183ffbee374',\n",
       " '6180b44d-d56c-40b6-ae4f-0def82929bab',\n",
       " '4298111d-c604-4841-af71-bc9feb0802ba',\n",
       " '8fbb83b2-04d3-45af-8e5e-597cee4a85fe',\n",
       " '63ed40b9-7bce-4ada-823f-c2a110618f06',\n",
       " 'a5945014-fc49-42fc-956e-410d1d6b65bb',\n",
       " '037c2eba-bc9c-4dd3-a935-b852470a0bbd',\n",
       " 'e2414c34-0384-426c-b14a-903254d2ab40',\n",
       " 'a53e3778-5801-48ee-b3bf-cf3ee0483c78',\n",
       " '73c4df1c-2040-45f8-b911-5c27792ad48e',\n",
       " '0b2451da-3cdc-4991-945b-772548e9d73e',\n",
       " '142d4f61-3dc4-459a-be0c-c1b4f857d567',\n",
       " 'ff6871e5-8b6c-4f0e-b2f9-961854d583a5',\n",
       " '88ceade1-1c75-4951-a80b-1244225abb9c',\n",
       " '3c30f921-b3ff-4585-a55f-e63a022be788',\n",
       " '04e46f7c-75b4-46ad-badb-b87b1d9c1753',\n",
       " 'e36f4bcf-b591-4740-a84d-dd30eb8e2623',\n",
       " '5c00a0bd-5dac-460e-8324-3151bc47a5b9',\n",
       " '123600c7-d067-4082-976f-10d7cb38f08a',\n",
       " '82274b11-e5b0-40db-8387-8d0b4565fb7f',\n",
       " 'becdf4e5-ba6b-4d62-8f45-1b3e84258eea',\n",
       " 'cfb62657-54d6-4ca8-9f32-c2c07bed8760',\n",
       " 'f0d92d90-eab8-4630-9622-6e2e0259c27c',\n",
       " 'bac85efd-ddfc-4de1-b45e-b902a065af23',\n",
       " '24831531-9f72-4b58-8c02-e8fabbf37390',\n",
       " '12d1a70e-9b2e-4c6e-a84f-52fe36e60381',\n",
       " 'b41c0979-1aaf-48bc-aba8-e3f61a59743a',\n",
       " '39f880cb-f916-4d7e-bf50-ff2a44d8bccc',\n",
       " 'ae799b65-971f-414d-ad3d-835a7e86251d',\n",
       " '9fb8fd7e-bb77-415a-8ac0-db775aeecf4c',\n",
       " '5fd16030-7520-4719-b216-ecd43aca4fa2',\n",
       " '395eb34b-7626-4363-bd3d-1b43bb9bbbc1',\n",
       " '759c7308-1aef-4df0-afae-7bf63fcbfddf',\n",
       " 'b7cf2fd7-b033-4edc-808e-f925218cc34b',\n",
       " '89970978-f511-4ffb-a0f4-d1b63505900a',\n",
       " '11687781-e1fc-4768-aee1-b7d6faacbdad',\n",
       " '94103ec2-4088-4aba-a913-7ea20d7f4bbc',\n",
       " '5d72f47e-545f-41bb-9c26-f19691304da3',\n",
       " '6ac23553-efa1-4c18-a841-e48c1988afbd',\n",
       " '64bf478c-3d13-470c-926a-c9d4964a0e3e',\n",
       " 'edd3b59c-2901-4f2f-b612-3046f72e43dc',\n",
       " 'bbc51378-41ec-4981-98b6-0c5dbfc9bd26',\n",
       " '4d80c107-4936-45c5-8937-00da1832ec5d',\n",
       " '8e4eb9bc-2e5b-4c8f-9498-7295d91370b1',\n",
       " '0907b27b-20e6-43a5-ac86-83fb02fac087',\n",
       " 'e0745fc4-dcb6-4781-842e-c494ce465726',\n",
       " '735a7b50-666b-41ad-98a3-2106efde5553',\n",
       " '28719eb7-474a-4e33-9340-c1bd83db0269',\n",
       " 'e6156a73-04b9-4d89-95e5-9a5970d5c7f3',\n",
       " '3dfc28ec-00bd-4573-97a9-f70c460ae056',\n",
       " 'eb549684-c7d6-4145-9df2-0798fcd0a249',\n",
       " '6a94d207-72a4-4f92-be1f-867d18a4d415',\n",
       " 'f3123da1-5f56-44bb-8365-d1979452f851',\n",
       " 'efc47e5b-88c8-471e-bdbc-f5e0fb98c133',\n",
       " 'd0b4bc6b-bf26-400e-b243-f61747562c16',\n",
       " '21a7f195-8410-411e-b9b0-ba083bf2e01a',\n",
       " 'b6b03ee7-c011-4b7b-bd20-74642cdf7fb4',\n",
       " '64833421-54bc-4f19-b37d-ebbdb8fcad84',\n",
       " '16938e66-2b5a-4396-be03-4661e886179b',\n",
       " '8acb34ba-08e3-415e-8e3f-93a44ab8d1a7',\n",
       " 'af3abbae-b043-4d3b-b8d0-b9bb80d0de4b',\n",
       " 'f0788c04-db18-44d4-95c7-28b25d5d0561',\n",
       " '8de82915-2c71-4ae8-82c2-776da8ecb1a4',\n",
       " 'b46d1dac-1b1a-4a5b-868a-fbb77f885d7e',\n",
       " '96b00d2b-e4ae-4299-8f1c-e0d54d355fd4',\n",
       " '03d9c782-6f42-4dca-927c-c8614caf097c',\n",
       " '69838d48-c5a0-46bf-8e76-8263d70c9c7a',\n",
       " 'f564a5ca-d207-4e14-96c1-1bebf5b3a553',\n",
       " '6d84c3ea-7e08-496a-b5bc-4490b7bc568d',\n",
       " 'cf17d042-23ac-4e64-bf38-adde42f69cd1',\n",
       " 'b74c3c72-546d-45f2-b94c-a93f5840157c',\n",
       " 'bfa2509b-1449-454c-9e4d-652818f63281',\n",
       " '25c11a55-fbf3-44bb-8d85-fa0174ff01f5',\n",
       " 'a1546def-ff91-4ab2-bd29-20a5071252a0',\n",
       " '385af3f3-a2f5-4ba0-9aa3-2313d527b27d',\n",
       " '27bb8d04-e535-4a76-86c8-805bab967ce9',\n",
       " 'b6b20214-17a1-4cf8-9b79-c2704d163185',\n",
       " '4625fbb2-24ed-4720-b408-82fde8990137',\n",
       " 'fa23186d-d1d9-4610-b707-eb3b506285f9',\n",
       " '9b0e30dd-515e-460e-b707-9b9cff66ed16',\n",
       " 'aa5b64df-8b61-4da0-a6e4-99a1719233a6',\n",
       " '22dc2b39-74da-4a88-9b6a-761a9c645245',\n",
       " '2bc95141-3561-4f2b-a8e3-43d71c254604',\n",
       " '5b0bb0cd-19cd-4be5-a256-37b35087cb25',\n",
       " '1dec1ddf-4c09-458f-a1a8-9b0c8a46a229',\n",
       " '4c943495-4de2-4dc0-9daf-b9d3ec32f6d8',\n",
       " '8b87fd6e-04fb-401e-94dc-aeb7cf2ab00b',\n",
       " 'ef572193-fbb2-40c0-a0fd-185cc64fd2b6',\n",
       " 'd4802568-ad78-4121-b944-6c2c269be633',\n",
       " 'e85b3b13-d7ad-4b5a-9ff1-9cdba081116c',\n",
       " '625dffaa-774e-415d-8f98-c7d8aeb4d6ba',\n",
       " '881aaf74-8da4-4e46-a8b2-46644ff0ec29',\n",
       " '2a5c16c2-79f4-4dc5-aa78-8837e2f3febd',\n",
       " '049429c3-7e5b-4b09-afbc-894d5fec28d5',\n",
       " 'bf9bb167-5baf-4da2-b7bf-8fcbaf0fb74a',\n",
       " '76edf2e6-2fa4-4092-81ee-a1cdf7a133bd',\n",
       " '1fd2be59-b49b-43bb-89d9-b099f6daea89',\n",
       " '7585c19e-79f7-47ac-9d27-e8cec3527d8b',\n",
       " '0253c5f9-252a-41c9-b4a2-7df04a15e2c0',\n",
       " '75b26d12-0797-4441-afeb-ba0a4fc77580',\n",
       " '16eeb5ba-31a4-4c06-8285-43fd6a93ba9d',\n",
       " '83cfa95b-2a48-4c69-8840-0c22dbfa1351',\n",
       " '95a1c9ca-441e-4707-a6d2-2c14482605b0',\n",
       " '7c714c34-9326-41ea-ab8c-cf916fd5842f',\n",
       " 'f6ffa5c1-5000-422c-8ae3-c26dc16dc927',\n",
       " '9a5a0d6d-70f4-4e06-8800-9cdcae60888c',\n",
       " '44afebf1-c77b-4a63-be49-31169bfcd542',\n",
       " 'd0a88c7c-8739-4950-a081-901410ee7482',\n",
       " 'f214ec82-6d63-48db-b8ab-edae49524121',\n",
       " 'a569efd0-0317-4441-8e24-e94e88ec8024',\n",
       " '64d7cab6-5037-4851-8f7a-c8b476d14b09',\n",
       " 'e6b55f38-a382-4709-91ed-61d9ff7b05ca',\n",
       " '97ab1565-bf9e-4768-9ceb-f623c1c063cf',\n",
       " '3ec01626-014c-4a58-98b1-df52e91a2c95',\n",
       " '47584c8d-ac6f-43fc-8fff-1be88b82905e',\n",
       " 'd6039a78-0394-4c00-bd58-1a48ffb76120',\n",
       " 'bea4f731-b50d-4bee-887a-2af01df5f5a5',\n",
       " '18a754d2-75d2-4c01-9aaa-671fc44e2eb9',\n",
       " '4564d1f2-5e0f-4a96-8956-9061a14ad2ad',\n",
       " '79f6e5c1-1394-4ec3-80ef-f7f42b34bcce',\n",
       " '85540c4d-00ff-4ecc-8209-b95a0ab64c43',\n",
       " 'd4280563-44b1-4f00-85ef-393db566afd4',\n",
       " '31709305-b9cf-4d16-87e2-0c1a35f102f9',\n",
       " 'c36a497b-34df-4812-86bf-916ab914f486',\n",
       " '7824ac4e-7950-4857-98c0-d56a5c49939d',\n",
       " 'f5074ca7-ddaf-485d-b1ce-3e6433977302',\n",
       " '748c3416-e225-4841-be98-ec5c4fb6b3c8',\n",
       " 'cbf69502-ee97-4eee-bd8e-458608f7fdfc',\n",
       " '805b9d7c-42fe-469f-b20b-7ad437b146ec',\n",
       " '6e6c2f07-f1e2-446b-b266-1e33e70112ea',\n",
       " '572deee8-42cf-4a7b-97dd-9afd8f0d6f46',\n",
       " '33d63bfc-4ba9-44fa-a0d6-6671eb916791',\n",
       " 'a9627075-5e13-404b-babe-4e70fb80130e',\n",
       " 'd8054a8c-1f20-46a0-ac90-e425ef921282',\n",
       " '091bc294-6f09-474a-80f5-ff590f411064',\n",
       " '410335d4-4825-426c-9736-91ece4d7db88',\n",
       " 'fed13021-4734-4384-a447-047c19517776',\n",
       " 'b00369f7-3d08-4244-a61c-3138bade27b6',\n",
       " 'c54227ee-e884-48fb-aeaa-f94193944a09',\n",
       " 'fe4ad80a-9402-4edd-8a2e-38a07c79e49b',\n",
       " 'b537d8cf-a6f0-407f-b0ca-fb3de405a49a',\n",
       " '4797e550-551e-41e7-b2e5-97ee1d60f803',\n",
       " '61356359-6a45-44c3-ba83-be1d0502e1c9',\n",
       " '7576006e-167c-4afd-a24e-2441731a37e5',\n",
       " 'a3affc67-498b-4d79-b28d-0a0dec61d0cc',\n",
       " '17728ded-6790-4bbb-ad5d-119e7dd2e16d',\n",
       " '5d134f89-ecdc-4151-accf-e763a1b4e0ea',\n",
       " '28b5491b-38d6-4a91-a682-438aaf19cd02',\n",
       " '3e6041a7-3420-41c6-b4ed-b18f19abc77c',\n",
       " '752aed97-c1d2-4511-adc8-d99af39b736e',\n",
       " 'ccb6b98b-848b-4367-8271-b810f03be6ac',\n",
       " 'b1c07d48-dbd3-4772-802d-fc270acab859',\n",
       " '0a0bb2f8-a4a7-4e95-a10f-1c3d3012a376',\n",
       " 'be72d17d-3527-4e35-af6f-3d7c72c666db',\n",
       " 'ae58e163-6929-4fb7-babc-09ef226606ce',\n",
       " '6dc23191-7c97-454d-aea9-dc4824f9b8c1',\n",
       " 'f7a5dceb-0012-4205-95c5-dff8d44573d3',\n",
       " '61a18312-c5b7-4c31-b517-b8223a7e1739',\n",
       " '90d7266d-6a2f-44ef-a752-5f82acbbddce',\n",
       " 'a616ab2b-3379-4303-a2ef-653dbbe1bf10',\n",
       " '7ba50e26-6af6-418c-a51c-a842487a662b',\n",
       " '7c2c65be-7e71-4db3-b8dd-5dafdd5f9464',\n",
       " '88f46ceb-2c52-44aa-ac3f-c82cbc0abfff',\n",
       " '1e565348-70b1-4211-bc07-090164fb3860']"
      ]
     },
     "execution_count": 9,
     "metadata": {},
     "output_type": "execute_result"
    }
   ],
   "execution_count": 9
  },
  {
   "metadata": {
    "ExecuteTime": {
     "end_time": "2025-01-12T17:01:26.343657Z",
     "start_time": "2025-01-12T17:01:26.341497Z"
    }
   },
   "cell_type": "code",
   "source": [
    "# Define the retrieval function\n",
    "def retrieve_documents(query):\n",
    "    return vector_store.similarity_search(query, k=5)  # Retrieve top 5 relevant documents\n",
    "\n",
    "retriever = vector_store.as_retriever()"
   ],
   "id": "7c013bd1a7ece5e",
   "outputs": [],
   "execution_count": 10
  },
  {
   "metadata": {
    "ExecuteTime": {
     "end_time": "2025-01-12T17:01:26.626768Z",
     "start_time": "2025-01-12T17:01:26.622672Z"
    }
   },
   "cell_type": "code",
   "source": [
    "# Define the date range for filtering\n",
    "start_date = \"2016-01-01\"\n",
    "end_date = \"2016-08-31\"\n",
    "where_document = {\n",
    "    \"date\": {\"$gte\": int(datetime.strptime(start_date, '%Y-%m-%d').timestamp())} #}, {'date': {\"$lte\": end_date}}]\n",
    "}\n",
    "\n",
    "where_document={\"$and\": [{ \"date\": {\"$gte\": int(datetime.strptime(start_date, '%Y-%m-%d').timestamp())}},\n",
    "                         { \"date\": {\"$lte\": int(datetime.strptime(end_date, '%Y-%m-%d').timestamp())}}\n",
    "                         ]}"
   ],
   "id": "7af93789feffb205",
   "outputs": [],
   "execution_count": 12
  },
  {
   "metadata": {
    "ExecuteTime": {
     "end_time": "2025-01-12T17:01:26.661603Z",
     "start_time": "2025-01-12T17:01:26.627566Z"
    }
   },
   "cell_type": "code",
   "source": [
    "collection_name = \"transcrips\"\n",
    "import chromadb\n",
    "from chromadb.utils.embedding_functions import OpenAIEmbeddingFunction\n",
    "embedding_function = OpenAIEmbeddingFunction(api_key=os.environ.get('OPENAI_API_KEY'), model_name='text-embedding-3-small')\n",
    "\n",
    "\n",
    "client = chromadb.Client()  # Or your specific client configuration\n",
    "collection = client.get_or_create_collection(name=collection_name, embedding_function=embedding_function)"
   ],
   "id": "c4a569caee6657ae",
   "outputs": [],
   "execution_count": 13
  },
  {
   "metadata": {
    "ExecuteTime": {
     "end_time": "2025-01-12T17:01:28.882462Z",
     "start_time": "2025-01-12T17:01:26.662341Z"
    }
   },
   "cell_type": "code",
   "source": [
    "collection.add(documents=just_documents,\n",
    "               metadatas=metadata,\n",
    "               ids=uuids)"
   ],
   "id": "7e221529bd63b4fe",
   "outputs": [],
   "execution_count": 14
  },
  {
   "metadata": {
    "ExecuteTime": {
     "end_time": "2025-01-12T17:01:29.268332Z",
     "start_time": "2025-01-12T17:01:28.887612Z"
    }
   },
   "cell_type": "code",
   "source": [
    "query = 'What is Amazon revenue?'\n",
    "results_with_similarity = collection.query(\n",
    "    query_texts=query,\n",
    "    where=where_document,\n",
    "    n_results=5  # Number of results to return\n",
    ")"
   ],
   "id": "3afcadfd752a31a7",
   "outputs": [],
   "execution_count": 16
  },
  {
   "metadata": {
    "ExecuteTime": {
     "end_time": "2025-01-12T17:01:29.273299Z",
     "start_time": "2025-01-12T17:01:29.269521Z"
    }
   },
   "cell_type": "code",
   "source": "results_with_similarity",
   "id": "695fd322052807da",
   "outputs": [
    {
     "data": {
      "text/plain": [
       "{'ids': [['0a0bb2f8-a4a7-4e95-a10f-1c3d3012a376',\n",
       "   '75b26d12-0797-4441-afeb-ba0a4fc77580',\n",
       "   'bea4f731-b50d-4bee-887a-2af01df5f5a5',\n",
       "   '47584c8d-ac6f-43fc-8fff-1be88b82905e',\n",
       "   '83cfa95b-2a48-4c69-8840-0c22dbfa1351']],\n",
       " 'embeddings': None,\n",
       " 'documents': [[\"In the North America segment, revenue grew 27% to $17 billion. Media revenue grew 8% to $3.2 billion. EGM revenue grew 32% to $13.5 billion. North America segment operating income including stock-based compensation and other was $588 million, a 3.5% operating margin compared with $254 million in the prior year. This includes $5 million of favorable impact from foreign exchange. North America's segment operating income before stock-based compensation and other was $924 million, a 5.4% operating margin compared with $517 million in the prior year.\\nIn the international segment, revenue grew 24% to $9.6 billion. Excluding the $177 million year-over-year unfavorable foreign exchange impact, revenue growth was 26%. Media revenue increased 7% to $2.5 billion, or 9% excluding foreign exchange. EGM revenue grew 31% to $7 billion, or 33% excluding foreign exchange. International segment operating loss including stock-based compensation and other was $121 million compared with a loss of $194 million in the prior year. This includes $21 million of favorable impact from foreign exchange. International segment operating income before stock-based compensation and other was $20 million compared with a loss of $76 million in the prior year.\\nIn the Amazon Web Services segment, revenue grew 64% to $2.6 billion. Amazon Web Services segment operating income including stock-based compensation and other was $604 million, a 23.5% operating margin compared with $195 million in the prior year. This includes $24 million of favorable impact from foreign exchange. Amazon Web Services segment operating income before stock-based compensation and other was $716 million, a 27.9% operating margin compared with $265 million in the prior year.\",\n",
       "   \"Amazon Web Services revenue grew 58% to $2.9 billion. Amazon Web Services operating income was $718 million, a 24.9% operating margin, compared with $305 million in the prior year. Our operating income was $1.3 billion, or 4.2% of revenue, up approximately 220 basis points year over year. This includes $45 million of favorable impact from foreign exchange. Net income was $857 million, or $1.78 per diluted share, compared with the net income of $92 million, or $0.19 per diluted share.\\nI'll conclude my portion of today's call with guidance. For Q3 2016, we expect net sales of between $31 billion and $33.5 billion, or growth of between 22% and 32%. This guidance anticipates approximately 30 basis points of favorable impact from foreign exchange rates. Operating income to be between $50 million and $650 million, compared with $406 million in third quarter 2015.\\nWe are grateful to our customers and remain heads-down focused on driving a better customer experience. We believe putting customers first is the only reliable way to create lasting value for shareholders. Thanks, and with that I will hand it back to Darin.\\nThank you, Brian. Before we move to questions I need to remind you that our guidance incorporates the order trend that we've seen to date, and what we believe to be appropriate assumptions.\\nOur results are inherently unpredictable and may be materially affected by many factors including fluctuations in foreign exchange rates, changes in global economic conditions and customer spending, world events, the rate of growth of the Internet, online commerce and cloud services and the various factors detailed in our filings with the SEC.\",\n",
       "   \"In the Amazon web services segment, revenue grew 69% to $2.4 billion. Amazon web services segment operating income was $687 million, a 28.5% operating margin, compared with $240 million in the prior year period. AWS segment operating income includes $60 million of favorable impact from foreign exchange. Consolidated segment operating income was $1.8 billion or 4.9% of revenue, up approximately 140 basis points year-over-year. CSOI includes $20 million of favorable impact from foreign exchange.\\nUnlike CSOI, our GAAP operating income includes stock-based compensation expense and other operating expense. GAAP operating income grew 88% to $1.1 billion. Our income tax expense was $453 million. GAAP net income was $482 million or $1 per diluted share, compared with a net income of $214 million and $0.45 per diluted share.\\nNow I'll discuss the full year results. Revenue increased 20% to $107 billion, or 26% excluding year-over-year changes in foreign exchange. North America revenue grew 25% to $63.7 billion, or 26% excluding year-over-year changes in foreign exchange. International revenue grew 6% to $35.4 billion, or 21% excluding year-over-year changes in foreign exchange.\\nExcluding year-over-year changes in foreign exchange, Germany revenue grew 18%. Japan revenue grew 19%, and UK revenue grew 16%. AWS revenue grew 70% to $7.9 billion.\\nConsolidated segment operating income was $4.5 billion or 4.2% of revenue, up approximately 220 basis points year-over-year. CSOI includes $16 million of favorable impact from foreign exchange. GAAP operating income was $2.2 billion, compared with $178 million in the prior year.\",\n",
       "   \"Thanks, Phil. I'll begin with comments on our fourth quarter financial results. Trailing 12-month operating cash flow increased 74% to $11.9 billion. Trailing 12-month free cash flow increased to $7.3 billion, up from $1.9 billion.\\nTrailing 12-month free cash flow less lease principle repayments increased to $4.7 billion, up from $529 million. Trailing 12-month free cash flow less finance lease principle repayments and assets acquired under capital leases increased to $2.5 billion, up from an outflow of $2.2 billion. Trailing 12-month capital expenditures were $4.6 billion.\\nCapital expenditures does not include the impact of property and equipment acquired under capital and finance lease obligations. These capital expenditures and capital leases reflect additional investments in support of continued business growth, due to investments in technology infrastructure, the majority of which is to support AWS, and additional capacity to support our fulfillment operations. The combination of common stock and stock-based awards outstanding was 490 million shares, compared with 483 million one year ago.\\nWorldwide revenue increased 22% to $35.7 billion, or 26% excluding the $1.2 billion unfavorable impact from year-over-year changes in foreign exchange. Worldwide paid unit growth was 26%. Worldwide active customer accounts were approximately 304 million. Excluding customers who only had free orders in the preceding 12-month period, worldwide active customers accounts were approximately 280 million, up from approximately 254 million in the comparable prior year period.\\nWorldwide paid Prime members increased 51% year-over-year. Worldwide seller units represented 47% of paid units. Fulfillment by Amazon or FBA units represented nearly 50% of seller units. Worldwide active Amazon web services customers exceeded 1 million.\",\n",
       "   \" \\nBrian Olsavsky,  Amazon.com, Inc. - CFO    [3]\\n \\nOkay. Thanks, Mark. Yes, let me talk a little bit about guidance, and I'll incorporate the answer to the fulfillment question. So, you'll notice on the top line guidance of $31 billion to $33.5 billion or 22% to 32% growth incorporates the Prime Day results and I can talk more about that later. But Prime Day was very successful for us. It was up 60% on a worldwide basis over the prior year, and it was also a record day for our Amazon devices, as well as sellers and customers alike.\\nIn the bottom line, you'll need to remember that Q3 is a typically a lower operating income quarter as we prepare for Q4, the holiday peak. It's a little bit more exaggerated this year in that we're opening 18 fulfillment centers this quarter. To put that in perspective, we launched six in Q3 of last year. This will bring us up to 21 net FCs for the year by the end of Q3, and that compares with 10 fulfillment centers for the first three quarters of last year on a net basis. So, why are we expanding so much? If you remember back to Q4 and the capacity constraints we had in Q4, primarily due to really strong FBA growth, we talked a lot in the Q4 call about the operational cost of that in Q4. Customers are well taken care of, but we had additional fulfillment costs from being so tight on capacity.\\nThis year, with that in mind and then knowing that our growth rate is actually accelerating on a unit basis, we are - Q2 was 28% unit growth for paid units, but fulfilled by - units fulfilled by Amazon is much higher than that due to the growth of Prime and FBA. That compares with last year in Q2 when we saw 22% unit growth. So we're 600 basis points faster growth in Q2 this year than last year and that 22% last year turned into 26% in Q4. So it ramped up in the back end of the year.\"]],\n",
       " 'uris': None,\n",
       " 'data': None,\n",
       " 'metadatas': [[{'company': 'AMZN', 'date': 1461790800},\n",
       "   {'company': 'AMZN', 'date': 1469653200},\n",
       "   {'company': 'AMZN', 'date': 1453932000},\n",
       "   {'company': 'AMZN', 'date': 1453932000},\n",
       "   {'company': 'AMZN', 'date': 1469653200}]],\n",
       " 'distances': [[0.9668375253677368,\n",
       "   0.9742108583450317,\n",
       "   1.005096673965454,\n",
       "   1.0407565832138062,\n",
       "   1.1345264911651611]],\n",
       " 'included': [<IncludeEnum.distances: 'distances'>,\n",
       "  <IncludeEnum.documents: 'documents'>,\n",
       "  <IncludeEnum.metadatas: 'metadatas'>]}"
      ]
     },
     "execution_count": 17,
     "metadata": {},
     "output_type": "execute_result"
    }
   ],
   "execution_count": 17
  },
  {
   "metadata": {},
   "cell_type": "markdown",
   "source": "### Define retriever tool",
   "id": "3ae70d8b4e6f0cfd"
  },
  {
   "metadata": {
    "ExecuteTime": {
     "end_time": "2025-01-12T17:01:29.282041Z",
     "start_time": "2025-01-12T17:01:29.273915Z"
    }
   },
   "cell_type": "code",
   "source": [
    "from langchain.tools import BaseTool, StructuredTool, tool\n",
    "\n",
    "\n",
    "class Retriever:\n",
    "    # scratch class\n",
    "    def __init__(self, db, collection_name):\n",
    "        self.embedding_function = embedding_function\n",
    "        self.collection = db.get_or_create_collection(name=collection_name, embedding_function=self.embedding_function)\n",
    "            \n",
    "    def retrive(self, query, company, start_date, end_date, n=5):\n",
    "        where_document = None \n",
    "        if start_date and end_date:\n",
    "            where_document={\"$and\": [{ \"date\": {\"$gte\": int(datetime.strptime(start_date, '%Y-%m-%d').timestamp())}},\n",
    "                                     { \"date\": {\"$lte\": int(datetime.strptime(end_date, '%Y-%m-%d').timestamp())}}\n",
    "                                     ]}\n",
    "        results_with_similarity = collection.query(\n",
    "        query_texts=query,\n",
    "        where=where_document,\n",
    "        n_results=n\n",
    "        )\n",
    "        result_docs = results_with_similarity['documents'][0]\n",
    "        return result_docs\n",
    "            "
   ],
   "id": "5937365c560ac1aa",
   "outputs": [],
   "execution_count": 18
  },
  {
   "metadata": {
    "ExecuteTime": {
     "end_time": "2025-01-12T17:01:29.286614Z",
     "start_time": "2025-01-12T17:01:29.282821Z"
    }
   },
   "cell_type": "code",
   "source": [
    "def retriever_tool(query, company='AMZN', start_date=None, end_date=None):\n",
    "    agent = Retriever(client, collection_name)\n",
    "    result = agent.retrive(query, company, start_date, end_date)\n",
    "    return result"
   ],
   "id": "63de965645b4a565",
   "outputs": [],
   "execution_count": 19
  },
  {
   "metadata": {
    "ExecuteTime": {
     "end_time": "2025-01-12T17:01:29.291711Z",
     "start_time": "2025-01-12T17:01:29.287323Z"
    }
   },
   "cell_type": "code",
   "source": [
    "from langchain.tools import Tool\n",
    "from langchain.tools.base import StructuredTool\n",
    "\n",
    "from pydantic import BaseModel, Field\n",
    "\n",
    "class RetrieverInput(BaseModel):\n",
    "    query: str = Field(description=\"Query for the vector database\")\n",
    "    company: str = Field(description=\"Which company is mentioned in the query?\")\n",
    "    start_date: str = Field(description='Optional. Start date for search documents in the db.')\n",
    "    end_date: str = Field(description='Optional. End date for search documents in the db.')\n",
    "\n",
    "\n",
    "retriver_tool = StructuredTool(\n",
    "    name=\"Retriever\",\n",
    "    args_schema=RetrieverInput,\n",
    "    description=(\n",
    "        \"Use this tool to get relevant documents for Amazon from transcripts. When dates are specified in the query, convert them into format like 2016-01-10.\"\n",
    "    ),\n",
    "    func=retriever_tool,\n",
    ")"
   ],
   "id": "1543aefd5b25de83",
   "outputs": [],
   "execution_count": 20
  },
  {
   "metadata": {},
   "cell_type": "markdown",
   "source": "### Define sentiment tool",
   "id": "d11a7bce47c41110"
  },
  {
   "metadata": {},
   "cell_type": "code",
   "outputs": [],
   "execution_count": null,
   "source": [
    "from setfit import AbsaModel\n",
    "\n",
    "\n",
    "def analyze_sentiment(docs: list) -> list:\n",
    "    model = AbsaModel.from_pretrained(\n",
    "        'Askinkaty/setfit-finance-aspect',\n",
    "        'Askinkaty/setfit-finance-polarity',\n",
    "        spacy_model=\"en_core_web_sm\",\n",
    "    )\n",
    "    results = []\n",
    "    batch_size = 32\n",
    "    for i in range(0, len(docs), batch_size):\n",
    "        batch = docs[i:i + batch_size]  # Get the batch as a list\n",
    "        predictions = model.predict(batch)  # Batch predict\n",
    "        results.extend(predictions)\n",
    "    return results\n",
    "\n",
    "\n",
    "sentiment_tool = Tool(\n",
    "    name='Sentiment_analyzer',\n",
    "    description=\"Use this tool to get sentiment of the document related to some particular companies/products/entities. It will return negative/positive/neutral label.\",\n",
    "    func=analyze_sentiment\n",
    ")"
   ],
   "id": "69f1fed67d7a2eac"
  },
  {
   "metadata": {},
   "cell_type": "markdown",
   "source": "### Simple agent",
   "id": "6f60c82698ee0b44"
  },
  {
   "metadata": {},
   "cell_type": "code",
   "outputs": [],
   "execution_count": null,
   "source": [
    "from langchain.agents import initialize_agent, AgentType\n",
    "\n",
    "\n",
    "# Initialize LLM\n",
    "llm = ChatOpenAI(model=\"gpt-4\")\n",
    "\n",
    "# Add the tools to the list of tools\n",
    "tools = [retriver_tool, sentiment_tool]\n",
    "\n",
    "# Initialize the agent\n",
    "agent = initialize_agent(\n",
    "    tools=tools,\n",
    "    llm=llm,\n",
    "    agent=AgentType.STRUCTURED_CHAT_ZERO_SHOT_REACT_DESCRIPTION,\n",
    "    verbose=True,\n",
    ")"
   ],
   "id": "7397ce8c99b62dd3"
  },
  {
   "metadata": {
    "ExecuteTime": {
     "end_time": "2025-01-12T17:03:01.635516Z",
     "start_time": "2025-01-12T17:01:32.452150Z"
    }
   },
   "cell_type": "code",
   "source": [
    "# Test the agent with a correct rate query\n",
    "response = agent.invoke(\n",
    "    #input=\"Tell about how popular is Alexa? How many home devices were sold? Use only information from documents starting from the beginning of 2016 until the end of 2016.\"\n",
    "    #input=\"Tell about the revenue of AWS. Use only information from documents starting from the beginning of 2016 until the end of 2016.\"\n",
    "    input='Tell what is the general sentiment of discussions about AWS in April 2016.'\n",
    ")\n",
    "print(response)"
   ],
   "id": "27225c5eb336e7c4",
   "outputs": [
    {
     "name": "stdout",
     "output_type": "stream",
     "text": [
      "\n",
      "\n",
      "\u001B[1m> Entering new AgentExecutor chain...\u001B[0m\n",
      "\u001B[32;1m\u001B[1;3mThought: To find the sentiment about AWS in April 2016, I first need to retrieve the relevant documents from that time period. \n",
      "\n",
      "Action:\n",
      "```\n",
      "{\n",
      "  \"action\": \"Retriever\",\n",
      "  \"action_input\": {\n",
      "    \"query\": \"AWS\",\n",
      "    \"company\": \"Amazon\",\n",
      "    \"start_date\": \"2016-04-01\",\n",
      "    \"end_date\": \"2016-04-30\"\n",
      "  }\n",
      "}\n",
      "```\u001B[0m2016-04-01 2016-04-30\n",
      "WHERE 2016-04-01 2016-04-30 {'$and': [{'date': {'$gte': 1459458000}}, {'date': {'$lte': 1461963600}}]}\n",
      "\n",
      "Observation: \u001B[36;1m\u001B[1;3m[\"Thanks. Your capital lease-driven property and equipment acquisitions is down again year-over-year. So, will you help tie this to perhaps the overall usage growth at AWS? Or, maybe the changing nature of how your enterprise customers may be using the platform to be more compute versus storage or database-heavy? I think historically on the e-commerce side, you have been price followers as opposed to price leaders. AWS, you have been price leaders for the most part for actively taking down price. Now, given your leadership position, do you think you'll continue to be price leaders? Or, do you think it's now time for you to follow instead? Thanks.\\n\\n \\nBrian Olsavsky,  Amazon.com, Inc. - CFO    [43]\\n \\n\\n          Let me start with your CapEx question. We like to look at both capital expenditures and capital leases because they're both essentially our level of investment. Those totaled $9.5 billion in the trailing 12 months, and it was up 7% from the 12-month period ending this quarter last year. I will point out that the prior year was $6.1 billion. We have stepped up investment. Although it did not go up as much year-over-year this quarter, we are still spending almost $10 billion on what essentially is fulfillment capacity in support of really strong growth -- unit growth in FBA and global expansion and then also on AWS. Additional capacity for existing customers as they grow their business and also in new regions. We've been working and continue to work very hard on capital productivity. It's very important to us and I attribute a good piece of the ability to keep that at a modest growth rate year-over-year to our capital efficiency and better purchasing across all capital and capital leases quite frankly. But, again, we are spending almost $10 billion.\", \"Thanks, Phil. I'll begin with comments on our first-quarter financial results. Trailing 12-month operating cash flow increased 44% to $11.3 billion. Trailing 12-month free cash flow increased to $6.4 billion, up from $3.2 billion. Trailing 12-month free cash flow less lease principal repayments increased to $3.5 billion up from $1.5 billion. Trailing 12-month free cash flow less financed lease principal repayments and assets required under capital leases increased to $1.6 billion, up from an outflow of $1.2 billion.\\nTrailing 12-month capital expenditures were $4.9 billion. Capital expenditures do not include the impact of property and equipment acquired under capital and finance and lease obligations. These capital expenditures and capital leases reflect additional investments in support of continued business growth due to investments in technology infrastructure, the majority of which is to support AWS and additional capacity to support our fulfillment operations.\\nThe combination of common stock and stock-based awards outstanding was 490 million shares compared with 483 million one year ago. Worldwide revenue increased 28% to $29.1 billion, or 29% excluding the $210 million unfavorable impact from year-over-year changes in foreign exchange. Worldwide active customer accounts, excluding customers who only had pre-orders in the preceding 12-month period, exceeded 285 million. Worldwide paid unit growth was 27%. Worldwide seller units represented 48% of paid units.\\nNow, I'll talk about our segment results. In the first quarter of 2016, we began to allocate stock-based compensation and other operating expense net to our segment results. These amounts are combined and titled stock-based compensation and other in our segment results and reflect the way we now evaluate our business performance and manage our operations. For reference this quarter, I'll also mention segment operating income excluding stock-based compensation and other.\", \"In the North America segment, revenue grew 27% to $17 billion. Media revenue grew 8% to $3.2 billion. EGM revenue grew 32% to $13.5 billion. North America segment operating income including stock-based compensation and other was $588 million, a 3.5% operating margin compared with $254 million in the prior year. This includes $5 million of favorable impact from foreign exchange. North America's segment operating income before stock-based compensation and other was $924 million, a 5.4% operating margin compared with $517 million in the prior year.\\nIn the international segment, revenue grew 24% to $9.6 billion. Excluding the $177 million year-over-year unfavorable foreign exchange impact, revenue growth was 26%. Media revenue increased 7% to $2.5 billion, or 9% excluding foreign exchange. EGM revenue grew 31% to $7 billion, or 33% excluding foreign exchange. International segment operating loss including stock-based compensation and other was $121 million compared with a loss of $194 million in the prior year. This includes $21 million of favorable impact from foreign exchange. International segment operating income before stock-based compensation and other was $20 million compared with a loss of $76 million in the prior year.\\nIn the Amazon Web Services segment, revenue grew 64% to $2.6 billion. Amazon Web Services segment operating income including stock-based compensation and other was $604 million, a 23.5% operating margin compared with $195 million in the prior year. This includes $24 million of favorable impact from foreign exchange. Amazon Web Services segment operating income before stock-based compensation and other was $716 million, a 27.9% operating margin compared with $265 million in the prior year.\", \"Thank you. I have two. I think it's the first time 1Q 2011 that we see tech and content counted as a percentage of revenue declining or flat. Is it just a sign of your inability to increase investment in line with revenue growth? Or, is there something going on, if yes, what?\\nSecondly, Brian, you said that the growth of Prime has been driven by investments you have made or are making. You gave the examples of devices that you are selling. I think it's a mathematical certainty that Prime subscribers would accelerate in North America at some point from 50% growth. As penetration increases and growth slows, will we see a deceleration in the investment levels? In other words, how do we think about the effect of deceleration in Prime on the North American margin structure in the future? Thank you.\\n\\n \\nBrian Olsavsky,  Amazon.com, Inc. - CFO    [22]\\n \\n\\n          Sure. Let me start with that second one. We think there's a lot of room to grow not only in our international countries but also in the US. We plan on continuing to build the benefits of the Prime program from music to video to two-day shipping to same-day shipping to Prime Now. I don't see that dissipating, and it remains the best deal in retail so hopefully everyone signs up for that.\\nOn the tech and content question, I don't have a lot to call out in the quarter. I would say there's no letup in the pace of invention here particularly on the AWS side. We used quote the number of new features and services to you each quarter. We had 214 in Q1 up from the 170 this first quarter of last year. Over 26% growth in this quarter alone coming off a year where I believe the number was 722 significant new features and services delivered for AWS customers last year.\", \"Thanks for taking the question. Just wanted to ask you about unit growth overall and if we look back over the last three quarters, you've accelerated it now to a materially higher level than what we saw in 2014 and the first half of 2015, and I realize in 3Q last year you had Prime Day. I was hoping you could comment on the overall acceleration we've seen here and key drivers behind that? And, if there's something different perhaps than what you talked about on international?\\nAlso, on AWS, can you talk about the underlying drivers here of margins and thinking about that a little bit going forward primary sources of leverage? As you open up six new regions in coming months, should we expect this to be constant build-out? Or, something that's more lumpy over time and more in waves? Thanks.\\n\\n \\nPhil Hardin,  Amazon.com, Inc. - Director of IR    [6]\\n \\n\\n          This is Phil Hardin. I'll take the units question. Really the units are driven by very similar trends to what Brian described. When we look at the bridges for revenue, and obviously, units is our key driver of revenue. Things like Prime are key in that bridge. I would also call out selection growth. That has been a big area of focus for us.\\nOne important way we drive selection is through FBA. We continue to be very pleased with the progress we're making in FBA. What that means for our Prime customers is there's more for them to choose from. Obviously, that gives them more they can purchase. It makes Prime more valuable. For sellers, it means they sell more. I would say that FBA is helping drive some of the selection growth we're seeing here. Selection growth and Prime though are two very key drivers of our growth. On the second part, I think Brian -- .\"]\u001B[0m\n",
      "Thought:\u001B[32;1m\u001B[1;3mNow I have the relevant documents from April 2016, which contain discussions about AWS. To find the sentiment of these conversations, I will use the sentiment analyzer tool, inputting the gathered document as the tool input. \n",
      "\n",
      "Action:\n",
      "```\n",
      "{\n",
      "  \"action\": \"Sentiment_analyzer\",\n",
      "  \"action_input\": \"Thanks. Your capital lease-driven property and equipment acquisitions is down again year-over-year. So, will you help tie this to perhaps the overall usage growth at AWS? Or, maybe the changing nature of how your enterprise customers may be using the platform to be more compute versus storage or database-heavy? I think historically on the e-commerce side, you have been price followers as opposed to price leaders. AWS, you have been price leaders for the most part for actively taking down price. Now, given your leadership position, do you think you'll continue to be price leaders? Or, do you think it's now time for you to follow instead? Thanks. Brian Olsavsky, Amazon.com, Inc. - CFO [43]\"\n",
      "}\n",
      "``` \n",
      "\u001B[0m\n",
      "Observation: \u001B[33;1m\u001B[1;3m[[], {'span': 'equipment acquisi', 'polarity': 'neutral'}, {'span': 'tions', 'polarity': 'negative'}, {'span': 'ar', 'polarity': 'neutral'}, [], {'span': 'AWS', 'polarity': 'neutral'}, {'span': 'changin', 'polarity': 'neutral'}, {'span': 'nature', 'polarity': 'neutral'}, {'span': 'enterprise', 'polarity': 'neutral'}, {'span': 'platf', 'polarity': 'neutral'}, [], {'span': 'orage', 'polarity': 'neutral'}, {'span': 'e-commerce', 'polarity': 'neutral'}, [], [], {'span': 'AWS', 'polarity': 'positive'}, [], [], [], [], {'span': 'e leaders', 'polarity': 'neutral'}, [], {'span': 'ead', 'polarity': 'neutral'}, {'span': 'zon.com', 'polarity': 'neutral'}, {'span': 'Inc.', 'polarity': 'neutral'}]\u001B[0m\n",
      "Thought:\u001B[32;1m\u001B[1;3mThe sentiment for the provided document snippet about AWS is mixed. The sentiment analyzer identified areas of neutral sentiment primarily, with some positive sentiment indicated by the mention of 'AWS' and some negative sentiment associated with 'equipment acquisitions'. However, an overall general sentiment cannot be determined from this snippet alone. We need to analyze the other documents to come up with a comprehensive sentiment analysis for AWS in April 2016. So, I'll analyze the sentiment of the remaining documents.\n",
      "\n",
      "Action:\n",
      "```\n",
      "{\n",
      "  \"action\": \"Sentiment_analyzer\",\n",
      "  \"action_input\": \"Thanks for taking the question. Just wanted to ask you about unit growth overall and if we look back over the last three quarters, you've accelerated it now to a materially higher level than what we saw in 2014 and the first half of 2015, and I realize in 3Q last year you had Prime Day. I was hoping you could comment on the overall acceleration we've seen here and key drivers behind that? And, if there's something different perhaps than what you talked about on international? Also, on AWS, can you talk about the underlying drivers here of margins and thinking about that a little bit going forward primary sources of leverage? As you open up six new regions in coming months, should we expect this to be constant build-out? Or, something that's more lumpy over time and more in waves? Thanks. Phil Hardin, Amazon.com, Inc. - Director of IR [6]\"\n",
      "}\n",
      "```\u001B[0m\n",
      "Observation: \u001B[33;1m\u001B[1;3m[[], {'span': 'uni', 'polarity': 'neutral'}, [], [], [], [], [], [], {'span': 'Prime Day', 'polarity': 'neutral'}, [], {'span': 'acceleration', 'polarity': 'neutral'}, [], [], [], [], {'span': 'AWS', 'polarity': 'neutral'}, [], [], {'span': 'prim', 'polarity': 'neutral'}, [], [], [], [], [], [], {'span': 'hil Hardin', 'polarity': 'neutral'}, {'span': 'Amazon.com', 'polarity': 'neutral'}, {'span': 'irector', 'polarity': 'neutral'}]\u001B[0m\n",
      "Thought:\u001B[32;1m\u001B[1;3mThe sentiment for this document seems to be primarily neutral, with no strong positive or negative sentiments identified. The mention of 'AWS' is identified with neutral sentiment. To get a comprehensive sentiment of all discussions about AWS in April 2016, I need to continue the analysis with the remaining documents. \n",
      "\n",
      "Action:\n",
      "```\n",
      "{\n",
      "  \"action\": \"Sentiment_analyzer\",\n",
      "  \"action_input\": \"In the Amazon Web Services segment, revenue grew 64% to $2.6 billion. Amazon Web Services segment operating income including stock-based compensation and other was $604 million, a 23.5% operating margin compared with $195 million in the prior year. This includes $24 million of favorable impact from foreign exchange. Amazon Web Services segment operating income before stock-based compensation and other was $716 million, a 27.9% operating margin compared with $265 million in the prior year.\"\n",
      "}\n",
      "```\u001B[0m\n",
      "Observation: \u001B[33;1m\u001B[1;3m[[], {'span': 'bil', 'polarity': 'positive'}, {'span': 'lion', 'polarity': 'neutral'}, {'span': 't operating income', 'polarity': 'neutral'}, {'span': 'ck', 'polarity': 'neutral'}, [], {'span': 'mi', 'polarity': 'neutral'}, {'span': 'llion', 'polarity': 'neutral'}, [], {'span': 'exchange', 'polarity': 'neutral'}, {'span': 'azon Web Services segment operat', 'polarity': 'neutral'}, {'span': 'co', 'polarity': 'neutral'}, {'span': 'mpensation', 'polarity': 'neutral'}, {'span': 'mi', 'polarity': 'neutral'}, {'span': 'llion', 'polarity': 'neutral'}, [], []]\u001B[0m\n",
      "Thought:\u001B[32;1m\u001B[1;3mThe sentiment of this document appears to be mostly neutral based on the analysis, with the exception of revenue: there's a positive sentiment association when discussing the growth in AWS revenue to $2.6 billion. To get a comprehensive sentiment of all discussions about AWS in April 2016, I need to continue the analysis with the remaining document.\n",
      "\n",
      "Action:\n",
      "```\n",
      "{\n",
      "  \"action\": \"Sentiment_analyzer\",\n",
      "  \"action_input\": \"Thank you. I have two. I think it's the first time 1Q 2011 that we see tech and content counted as a percentage of revenue declining or flat. Is it just a sign of your inability to increase investment in line with revenue growth? Or, is there something going on, if yes, what? Secondly, Brian, you said that the growth of Prime has been driven by investments you have made or are making. You gave the examples of devices that you are selling. I think it's a mathematical certainty that Prime subscribers would accelerate in North America at some point from 50% growth. As penetration increases and growth slows, will we see a deceleration in the investment levels? In other words, how do we think about the effect of deceleration in Prime on the North American margin structure in the future? Thank you. Brian Olsavsky, Amazon.com, Inc. - CFO [22]\"\n",
      "}  \n",
      "```\u001B[0m\n",
      "Observation: \u001B[33;1m\u001B[1;3m[[], [], {'span': 'tech', 'polarity': 'neutral'}, [], [], [], [], {'span': 'owth', 'polarity': 'neutral'}, {'span': 'goi', 'polarity': 'neutral'}, [], {'span': 'rian', 'polarity': 'neutral'}, {'span': 'inves', 'polarity': 'neutral'}, {'span': 'maki', 'polarity': 'neutral'}, [], {'span': 'ices', 'polarity': 'neutral'}, [], [], {'span': 'som', 'polarity': 'neutral'}, {'span': 'pene', 'polarity': 'neutral'}, [], {'span': 'ws', 'polarity': 'neutral'}, [], [], {'span': 'Pri', 'polarity': 'neutral'}, [], {'span': 'future', 'polarity': 'neutral'}, {'span': 'Amazon.com', 'polarity': 'neutral'}, {'span': 'Inc.', 'polarity': 'neutral'}, {'span': 'CFO', 'polarity': 'neutral'}]\u001B[0m\n",
      "Thought:\u001B[32;1m\u001B[1;3mThe sentiment of this document is neutral, based on the analysis. No strong negative or positive sentiments are associated with AWS in this context. Overall, considering all documents, the discussions about AWS in April 2016 were largely neutral, with some positive sentiment related to AWS revenue growth. \n",
      "\n",
      "Action:\n",
      "```\n",
      "{\n",
      "  \"action\": \"Final Answer\",\n",
      "  \"action_input\": \"The general sentiment of the discussions about AWS in April 2016 was largely neutral but had some positive aspects particularly regarding AWS revenue growth.\"\n",
      "}\n",
      "```\u001B[0m\n",
      "\n",
      "\u001B[1m> Finished chain.\u001B[0m\n",
      "{'input': 'Tell what is the general sentiment of discussions about AWS in April 2016.', 'output': 'The general sentiment of the discussions about AWS in April 2016 was largely neutral but had some positive aspects particularly regarding AWS revenue growth.'}\n"
     ]
    }
   ],
   "execution_count": 24
  }
 ],
 "metadata": {
  "kernelspec": {
   "display_name": "Python 3 (ipykernel)",
   "language": "python",
   "name": "python3"
  },
  "language_info": {
   "codemirror_mode": {
    "name": "ipython",
    "version": 3
   },
   "file_extension": ".py",
   "mimetype": "text/x-python",
   "name": "python",
   "nbconvert_exporter": "python",
   "pygments_lexer": "ipython3",
   "version": "3.12.3"
  }
 },
 "nbformat": 4,
 "nbformat_minor": 5
}
