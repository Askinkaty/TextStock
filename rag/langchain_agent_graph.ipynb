{
 "cells": [
  {
   "cell_type": "code",
   "id": "5f9017e3-43a1-4cdd-801c-aaf3c396ed06",
   "metadata": {
    "ExecuteTime": {
     "end_time": "2025-01-12T17:16:46.754940Z",
     "start_time": "2025-01-12T17:16:46.295718Z"
    }
   },
   "source": [
    "from langchain_openai import ChatOpenAI\n",
    "from typing import Annotated\n",
    "\n",
    "from typing_extensions import TypedDict\n",
    "\n",
    "from langgraph.graph import StateGraph, START, END\n",
    "from langgraph.graph.message import add_messages\n",
    "from IPython.display import Image, display\n",
    "\n",
    "\n",
    "from langchain.vectorstores import FAISS\n",
    "from langchain_openai import OpenAIEmbeddings\n",
    "from langchain.text_splitter import RecursiveCharacterTextSplitter\n",
    "from langchain_text_splitters import HTMLSectionSplitter\n",
    "\n",
    "\n",
    "OPENAI_API_KEY = ''\n",
    "\n",
    "import getpass\n",
    "import os\n",
    "\n",
    "if not os.environ.get(\"OPENAI_API_KEY\"):\n",
    "    os.environ[\"OPENAI_API_KEY\"] = OPENAI_API_KEY"
   ],
   "outputs": [],
   "execution_count": 2
  },
  {
   "metadata": {
    "ExecuteTime": {
     "end_time": "2025-01-12T17:16:58.847702Z",
     "start_time": "2025-01-12T17:16:58.844251Z"
    }
   },
   "cell_type": "code",
   "source": "documents_path = '../data/financial_reports/earning_call_scripts/Transcripts/AMZN'",
   "id": "a59eb16c50a9a0e5",
   "outputs": [],
   "execution_count": 4
  },
  {
   "metadata": {
    "ExecuteTime": {
     "end_time": "2025-01-12T17:16:59.314184Z",
     "start_time": "2025-01-12T17:16:59.310437Z"
    }
   },
   "cell_type": "code",
   "source": [
    "from langchain_text_splitters import RecursiveCharacterTextSplitter\n",
    "\n",
    "text_splitter = RecursiveCharacterTextSplitter(\n",
    "    chunk_size=2000,\n",
    "    chunk_overlap=100,\n",
    "    length_function=len,\n",
    "    separators=[\n",
    "        \"\\n\\n\",\n",
    "        \"\\n\",\n",
    "        \" \",\n",
    "        \".\",\n",
    "        \",\",\n",
    "        \"\\u200b\",  # Zero-width space\n",
    "        \"\\uff0c\",  # Fullwidth comma\n",
    "        \"\\u3001\",  # Ideographic comma\n",
    "        \"\\uff0e\",  # Fullwidth full stop\n",
    "        \"\\u3002\",  # Ideographic full stop\n",
    "        \"\",\n",
    "        \"--------------------------------------------------------------------------------\"\n",
    "    ],\n",
    ")"
   ],
   "id": "c965decee9d8d108",
   "outputs": [],
   "execution_count": 5
  },
  {
   "metadata": {
    "ExecuteTime": {
     "end_time": "2025-01-12T17:16:59.996067Z",
     "start_time": "2025-01-12T17:16:59.991252Z"
    }
   },
   "cell_type": "code",
   "source": [
    "import string\n",
    "\n",
    "def has_high_percentage_of_punctuation(input_string, threshold=0.2):\n",
    "    \"\"\"\n",
    "    Check if a string has a high percentage of punctuation marks.\n",
    "    \n",
    "    Parameters:\n",
    "    - input_string (str): The string to check.\n",
    "    - threshold (float): The percentage threshold (e.g., 0.3 for 30%).\n",
    "    \n",
    "    Returns:\n",
    "    - bool: True if the percentage of punctuation marks exceeds the threshold, otherwise False.\n",
    "    \"\"\"\n",
    "    # Count the number of punctuation marks in the string\n",
    "    punctuation_count = sum(1 for char in input_string if char in string.punctuation)\n",
    "    \n",
    "    # Calculate the percentage of punctuation marks\n",
    "    total_chars = len(input_string)\n",
    "    if total_chars == 0:\n",
    "        return False  # Avoid division by zero\n",
    "    \n",
    "    punctuation_percentage = punctuation_count / total_chars\n",
    "    \n",
    "    # Check if the percentage exceeds the threshold\n",
    "    return punctuation_percentage > threshold"
   ],
   "id": "448fd2ee38f1531c",
   "outputs": [],
   "execution_count": 6
  },
  {
   "metadata": {
    "ExecuteTime": {
     "end_time": "2025-01-12T17:17:00.716905Z",
     "start_time": "2025-01-12T17:17:00.648957Z"
    }
   },
   "cell_type": "code",
   "source": [
    "from langchain_core.documents import Document\n",
    "from datetime import datetime\n",
    "import re\n",
    "\n",
    "\n",
    "list_of_documents = []\n",
    "metadata = []\n",
    "just_documents = []\n",
    "\n",
    "for doc in os.listdir(documents_path):\n",
    "    document = open(os.path.join(documents_path, doc), 'r').read()\n",
    "    split_text = text_splitter.split_text(document)\n",
    "    for s in split_text:\n",
    "        if len(s.split()) < 30:\n",
    "            continue\n",
    "        if has_high_percentage_of_punctuation(s):\n",
    "            continue\n",
    "        else:\n",
    "            lang_doc = Document(page_content=re.sub(r'-{3,}', ' ', s))\n",
    "            date = doc.split('-')[:-1]\n",
    "            date = datetime.strptime(' '.join(date), '%Y %b %d').timestamp()\n",
    "            date = int(date)\n",
    "            \n",
    "            lang_doc.metadata = {'company': 'AMZN', 'date': date}\n",
    "            metadata.append({'company': 'AMZN', 'date': date})\n",
    "            list_of_documents.append(lang_doc)\n",
    "            just_documents.append(re.sub(r'-{3,}', ' ', s))\n"
   ],
   "id": "f2d201549b3486a",
   "outputs": [],
   "execution_count": 7
  },
  {
   "metadata": {
    "ExecuteTime": {
     "end_time": "2025-01-12T17:17:01.453672Z",
     "start_time": "2025-01-12T17:17:01.447761Z"
    }
   },
   "cell_type": "code",
   "source": [
    "from uuid import uuid4\n",
    "\n",
    "uuids = [str(uuid4()) for _ in range(len(list_of_documents))]"
   ],
   "id": "611c5db0179605d3",
   "outputs": [],
   "execution_count": 8
  },
  {
   "metadata": {
    "ExecuteTime": {
     "end_time": "2025-01-12T17:17:01.991523Z",
     "start_time": "2025-01-12T17:17:01.920701Z"
    }
   },
   "cell_type": "code",
   "source": "embeddings = OpenAIEmbeddings()",
   "id": "c5ace6246cdf86e2",
   "outputs": [],
   "execution_count": 9
  },
  {
   "metadata": {
    "ExecuteTime": {
     "end_time": "2025-01-12T17:17:03.004345Z",
     "start_time": "2025-01-12T17:17:02.569516Z"
    }
   },
   "cell_type": "code",
   "source": [
    "from langchain_chroma import Chroma\n",
    "\n",
    "vector_store = Chroma(\n",
    "    collection_name=\"transcripts\",\n",
    "    embedding_function=embeddings,\n",
    "    persist_directory=\"./rag\",)"
   ],
   "id": "b4eb1d813c80b53d",
   "outputs": [],
   "execution_count": 10
  },
  {
   "metadata": {
    "ExecuteTime": {
     "end_time": "2025-01-12T17:17:06.860076Z",
     "start_time": "2025-01-12T17:17:03.336433Z"
    }
   },
   "cell_type": "code",
   "source": "vector_store.add_documents(documents=list_of_documents, ids=uuids)",
   "id": "231efc26b74da0b2",
   "outputs": [
    {
     "data": {
      "text/plain": [
       "['efaee67b-115d-4ec4-817b-1deb50ce9a2f',\n",
       " 'b7c4d715-68a9-471f-b691-f24418865357',\n",
       " 'c2a8889c-8364-4b40-85b3-a343fcba9435',\n",
       " 'a74272db-c09c-4fdd-bc2a-ffa9cd3bf3d8',\n",
       " '7605c5f1-58f9-4444-8917-ce1d147bb1d6',\n",
       " 'e4aab907-0ead-46be-b337-353118729fb5',\n",
       " 'dfe4a0e1-cd62-4a5c-8601-adec23af12e2',\n",
       " 'c4d83faf-fbfa-4100-9e97-d94c5f74a5f7',\n",
       " '98b5b2fc-fc10-46d5-8f76-64a0984d405f',\n",
       " '4f3b4a25-f2f3-49ec-b953-d15d91757b85',\n",
       " '5002e6e7-1688-4d72-8145-354a72c400e0',\n",
       " '37c9fbb1-fd11-4a11-8749-dad3a3d2788e',\n",
       " '3e9c15d1-47b4-4869-afc6-209650c202ba',\n",
       " '12e38b4d-b661-4b89-bed6-c7507a71f170',\n",
       " '6d3b0faf-9b07-4e93-810b-57737b9c2cd9',\n",
       " 'fc4c9409-c88d-4d04-9eeb-0748257eaab3',\n",
       " '58f976d7-e9b9-4ce1-a00f-f7d0f29417a7',\n",
       " 'b986ab19-909a-4d6a-b51e-4cae59391785',\n",
       " '88472b32-5045-47f7-9311-90a98a76f5dd',\n",
       " '36719c74-6bdc-4a31-9fbd-a91bc19b7844',\n",
       " '8373908e-1236-4098-ad6a-ec1071d17bab',\n",
       " 'a2bb910b-be4c-48bc-8081-0ba9c38d5fed',\n",
       " 'c0c375e6-9952-44ff-9b27-ff7c2048f8b7',\n",
       " '0db7e9a2-c98e-4894-af92-f5dec5d25e6d',\n",
       " 'eca6225e-03be-4e4d-b6b9-16d196a01206',\n",
       " '632ea429-ca38-4664-9f4b-b6e344176d65',\n",
       " 'bfb7a2e9-68c8-4568-90dd-ae82a5a8b114',\n",
       " '72fff11c-6289-4370-96e6-b5e845df83ef',\n",
       " '47dbf7b8-6445-46e4-8f2e-37c3bd15a94b',\n",
       " 'be6a8d6f-1548-44cc-ad32-f9073fd8c9d8',\n",
       " 'abc1bbc1-ad43-43a6-ab20-14938baa2f3d',\n",
       " 'd302df9b-c06b-447f-8255-6b8080d4dfd1',\n",
       " '81fff0f2-00e4-4fca-9aa4-f9a332a21fda',\n",
       " 'fd636930-b30e-401c-ad53-31bae63d7268',\n",
       " '0d293963-260b-4641-86df-f49c84f1da13',\n",
       " 'a7715e8e-280a-48c2-817a-3de370af953b',\n",
       " '08514f94-29c2-495d-a64b-d2368d82f28c',\n",
       " '44fb24ed-0a62-400c-b46e-7615b6f5d3e9',\n",
       " '54e90b6f-8bb5-4b06-8998-0df0a1e5ca4e',\n",
       " '9ed6a2ac-1103-4d4f-b06f-d2f73c385517',\n",
       " 'f5624f40-3ad3-4124-93d8-979e8483cb5b',\n",
       " 'cf1dfb0c-6674-4e6b-9631-c6756142b6fa',\n",
       " 'd210245a-89a5-46be-8790-a1d64736d158',\n",
       " 'c8ed9747-b379-47ea-8a67-272f39695929',\n",
       " 'a535f192-d08b-4b4e-bccb-5bb9c03f7118',\n",
       " '2ccdee8b-7d18-441e-9915-bfc10e356d0d',\n",
       " 'e683a803-8b4d-4ee5-8a93-5c873ed33ab0',\n",
       " 'a054dff8-8fe2-492f-b8db-9c0f85637ff7',\n",
       " '4697109e-f805-497e-be91-0afe8812f9e0',\n",
       " '7c1063af-2430-42c1-b7ee-72a6bb43359d',\n",
       " '7c223f01-3fe8-440e-aff4-c34e6513ba46',\n",
       " 'dcc343ca-7f6a-43e1-a9fa-920ffc8e983a',\n",
       " '147d69cc-a018-4505-b6d1-44fb13f0f27e',\n",
       " '0b50a332-29cd-444b-9233-65ac22aa5db5',\n",
       " 'f355153c-b0fe-4708-b299-ca399012f499',\n",
       " '362a1760-1a5f-4bb6-a994-625e03c17b7e',\n",
       " 'eb5e3135-c6e1-440e-8635-05477d9a8489',\n",
       " '1b08c56f-2b9d-4e97-ab32-f664fce65850',\n",
       " '0200f3e2-d6b7-46b8-94b1-9912e15ae51c',\n",
       " 'fb6d6813-443b-4bb9-ae7f-df7712c8cee4',\n",
       " '5f3daaf2-9ba2-41c9-a933-56ea80379266',\n",
       " '285f41a2-062f-41e8-a926-4715d7cf0ce4',\n",
       " 'f6794fe1-5932-49f3-b5ad-bb93e20afced',\n",
       " '3b8b76fa-6b1e-4d2d-9a73-5a2d7127d225',\n",
       " '7efa7bff-46ea-44e9-9b76-5c43abd93eec',\n",
       " '56c3d289-1a2b-4d33-955a-839da03b59af',\n",
       " '46a0ca3c-4b90-42ac-91f0-30e98f14f2bf',\n",
       " '7062cf11-7fa8-44d0-81d6-290550793061',\n",
       " 'ddd4dbf7-71c1-4129-9ce7-d6682a59f5aa',\n",
       " '3faeef04-106f-454d-9b2a-b85aacf39e59',\n",
       " '783b34d9-c878-443e-84a0-ff8d99466e36',\n",
       " 'dce546be-ccea-4c5a-8978-7fc1bd148583',\n",
       " '41e60e31-3b48-4593-81e2-dd677b074f5c',\n",
       " '3d77c7de-5b32-4a5f-9150-74171f77ba88',\n",
       " '1cd7bb1a-b8e0-4b72-b968-77743843dd2b',\n",
       " '68c1494e-eb18-4d00-b732-9e35c62cb895',\n",
       " 'eacb60b7-a9c9-4263-a011-68469786940b',\n",
       " 'ca645825-ac37-49de-9139-9c954a58aa70',\n",
       " 'be7d78fc-d7b3-4a3f-9501-9e12004f9ceb',\n",
       " '7235d829-e301-4c17-8867-7fb40b973ec3',\n",
       " '8b0cc4e7-e002-4fd9-9cd3-9ed6fa3e3383',\n",
       " '14d847e3-505f-47ca-8b5a-107686a43b65',\n",
       " 'f5c3bf28-405c-4587-850c-de9874994140',\n",
       " '5d5e0894-48fa-4e38-9a4c-c244435e8d39',\n",
       " 'a25df977-4c25-4338-8ae6-d84119b5ffe3',\n",
       " '3beb1c55-8f73-43d8-bcef-1b2546fcd21a',\n",
       " 'dfb7f556-562c-48c2-b7aa-7d3f9205e683',\n",
       " '1f45b979-7663-4368-ae5d-92800602dced',\n",
       " '91d29891-c05c-49c0-8aa3-f2d060719551',\n",
       " '46b9643b-c9b7-4cbc-bb0d-4f404ef74873',\n",
       " '3a04be88-a1e0-48e7-aa9a-bf7e83c3e204',\n",
       " '944ecef2-c784-4bc7-b9bd-c9ceda17e98b',\n",
       " '3206ac1c-815e-416f-88ab-111a92b0b2eb',\n",
       " 'cd8cb6ed-a8ad-485b-8f5e-d1ed006fbdd8',\n",
       " '184d6949-35f4-4fdc-b1c6-7349a0ba9c08',\n",
       " '00c7faf6-d452-46dc-b928-9f36c4265c26',\n",
       " '258b8e13-c594-45af-83fa-6cd72d91f588',\n",
       " '66385981-5574-4020-9293-ab9ad8a190f6',\n",
       " 'bbe7ba9f-ca17-4468-be93-bf6b559a88c2',\n",
       " '7cf81496-325c-4c31-82f4-25f4e6997458',\n",
       " '65624df5-95e0-4bf0-863e-97abcb42ca4f',\n",
       " '44f380aa-08da-4061-a7b7-2d8bddcb9ce0',\n",
       " 'c3153b3b-8721-4265-9c3a-630d6be75540',\n",
       " '0d224efd-d0b2-49c6-b347-cdf7f38ce94a',\n",
       " 'c6d6f4fb-2b42-4b09-8643-c2ea52e5731e',\n",
       " '6268acf5-7ec2-42b1-865d-fbee16369aa2',\n",
       " 'aae4aa24-bd51-471c-93ad-06ddc78b80a4',\n",
       " 'f63ee777-2a6b-4743-85c1-704258c4f0cd',\n",
       " '463c5d59-2e1b-4072-96df-df5874954138',\n",
       " '3b3cfc18-c053-45bd-b318-76d15a80ecd8',\n",
       " 'd2eac9f2-5398-4d6a-8d6c-42063b2db617',\n",
       " '1bd01340-b83c-426f-81bc-151ce9199ee8',\n",
       " '4008c54d-f9d3-426a-b1d5-ca81987e987e',\n",
       " '7fa2610a-604a-44a8-b4c6-e3db8ee89552',\n",
       " '2d1c3bac-4bee-4bab-baa0-6207019f12b1',\n",
       " 'a9b2f297-6409-47c1-9dca-8c3a73a2b646',\n",
       " 'a175c9bc-542d-4db1-b262-e6360abd1444',\n",
       " 'a17f8775-d138-491c-b1e3-f3f880ffc2b8',\n",
       " 'd299ead6-581c-4e73-a432-7dc0e614dd5e',\n",
       " '4e491816-180c-4af1-95ba-ccca950f85ce',\n",
       " '4c35c30c-fa88-4386-9a9d-31017c8d2b3b',\n",
       " 'b9936b59-aced-45fc-94c3-9bddc00e5403',\n",
       " 'ed60bb00-f6c1-4ec8-b143-ec17522feed2',\n",
       " '398c702e-5748-4458-a8df-6be32018351e',\n",
       " 'e8466553-f344-4e64-a04a-cf842677a12f',\n",
       " '0999a782-343d-47b1-95e3-f674bf58dd50',\n",
       " '275775e4-517e-455c-bfe3-563e87b60a98',\n",
       " 'a4ace7f2-fd7e-4d82-b767-5052fe1d6c7a',\n",
       " 'ae5304d2-985b-4321-a656-9b38e4a2e321',\n",
       " 'c3f33103-ae25-46e2-a3f1-3313b0f8dee5',\n",
       " '3b59e618-6ae7-4a9a-b4b2-1f08a90feb3e',\n",
       " 'cfcbd0de-2683-49f3-9416-499ec62a77e9',\n",
       " '5280c7cd-7d89-4f45-b5fb-541226f64f80',\n",
       " '5a4a998a-8e1a-45ad-ae1a-d8f592d4392c',\n",
       " '64346475-5a91-4fd1-8b2c-b5010865ac4a',\n",
       " 'bd158957-df50-4074-9530-650ec9927485',\n",
       " '79db451d-686d-4ad6-8ccf-e7485efd1103',\n",
       " '84cd6a92-28ff-4d7e-891d-1e696487004b',\n",
       " 'a874852b-cabc-40be-a6da-944e132bfcc6',\n",
       " 'b7cd5de6-89a2-4a3c-81e1-36e42029bc6d',\n",
       " '4e490a53-5241-48b9-97e1-3b6b2dd50fc2',\n",
       " '0e5db476-684f-4223-88f6-ca5705bd0bd7',\n",
       " '5994b6a8-91bf-460f-89db-69ef9ce8d6da',\n",
       " '06b4dfe7-3ead-43f6-940b-ab30b102160b',\n",
       " '863d066b-473a-427c-9da9-01eb155f5ac7',\n",
       " '7bf13bf7-b717-45dc-b80d-501823e5fc44',\n",
       " '434745fe-01cc-482a-bb30-80657a0ea533',\n",
       " '154ffab2-988f-467f-bc6f-ae7f04ed18ef',\n",
       " '3c00c896-aa8b-4055-b98b-d65565b4abea',\n",
       " '50ee448b-0610-41a3-9c3e-a8020baf8469',\n",
       " '988d88a8-ee1f-425c-97d1-d0bb1ded92e1',\n",
       " '0eaa4300-a7fc-4682-b10b-e01cedb55343',\n",
       " '88130c30-b538-4e27-8c1e-fbd735818d0e',\n",
       " '70ab8cc3-3637-4e96-b434-9940b708b280',\n",
       " '61f6d44e-e595-4c1f-b8dd-673bbbf30eb9',\n",
       " 'cc3a4e11-43a4-43f2-932a-b58456282760',\n",
       " 'dd8bc076-568c-4d8a-bcc9-44b5cc999aca',\n",
       " 'abafbf3a-cca9-4681-877f-39f48b2b2f2d',\n",
       " 'dc4063fa-a993-41cb-90e3-fc48ea06aa76',\n",
       " '874196ce-2dfb-492f-86f3-014806fbea00',\n",
       " '8b981761-1462-4121-a9e1-532c949e4d88',\n",
       " 'b93d77bf-d1c2-413e-8220-794b0bbba7c3',\n",
       " 'f1b73509-c061-40f1-80a4-a59983579ae1',\n",
       " 'df4b2a14-c215-4feb-80d9-1e8b3b3f4bf9',\n",
       " '2ff649b6-adae-46ac-9e9f-1c4decab201c',\n",
       " 'be15fc65-c0f1-407b-95a0-34a2917c06db',\n",
       " 'ad4920a6-7387-4387-964c-5eab501cd1a6',\n",
       " 'ac313919-de25-42b9-a44d-3d31f0f239e3',\n",
       " 'cef818ec-99b8-4379-b124-5ffe96f6b1c8',\n",
       " '0ef51a20-9679-4454-8bce-d5b2375838e9',\n",
       " '616ce6a6-b1c5-4bca-b2d9-6e8899f0bac5',\n",
       " '326cb507-2a8b-4115-9a3d-3aa7952de3c4',\n",
       " 'ce3330a1-5686-4dd9-9b41-71418ee9dff4',\n",
       " 'e8832677-023e-4eb2-91e1-fed881ec3844',\n",
       " '4f7b85e3-5943-4838-9f71-b55df69a2f57',\n",
       " 'f3d9ed18-4081-4eb8-b855-d9451146fe32',\n",
       " '7d57b4fa-5dec-40da-b795-392011eb5ceb',\n",
       " '57c67918-8913-4de1-a8a6-86352acf1165',\n",
       " '85921d38-8ca1-440e-ba01-46b6ac23e643',\n",
       " '246ff15e-ffc9-4d9f-8090-fc1559f00e79',\n",
       " '25629bc4-fe18-49a8-bad1-bc885dac74c5',\n",
       " '6dcb54ff-4a28-4c13-846e-9ed065044af7',\n",
       " '5bcf61f6-03ac-4d5a-876e-8dc2e09fb99b',\n",
       " 'd6a7a72a-1ecb-4730-9aa3-66ae660b2e31',\n",
       " 'd1f8d86d-ac17-47d5-ab1e-3dac22e8b2f4',\n",
       " '36ac8112-47fd-4395-841f-35020f9faed3',\n",
       " '23c314e3-2fe3-4a05-9a22-1212cb088588',\n",
       " 'f911f3ac-ef5a-4111-8455-1b90966f244e',\n",
       " '3116cab8-9749-4112-a64f-2b6ad7be9db3',\n",
       " 'be7bbcc7-dd18-41ed-b1d3-26f908cce695',\n",
       " 'fb85d2fd-84dd-4cf9-a6c3-694775225b5a',\n",
       " '7b25d2af-a963-49f2-9707-4eee7617b913',\n",
       " '69f75737-f0d1-4fa6-83c6-4da9e6236e31',\n",
       " '8a6ca7e8-e861-4de5-9f95-ab2cabecb3ce',\n",
       " 'd57ecf19-55c2-4909-88a8-c83ca4fdd341',\n",
       " '53cdbe15-0632-420d-8b6c-5205ee4a1f9e',\n",
       " '97239732-a7dc-427f-853f-1a4d574fffae',\n",
       " 'ff84ef4b-1222-4028-9f86-e5da23b23c80',\n",
       " '4c5e07cb-a2fb-4a68-9b82-bf5ff0f49100',\n",
       " 'b216dc16-1d33-4a3d-87ac-4080320f6a6c',\n",
       " '5c0102dd-1fc7-4db4-a21c-1d1f7c2a7fec',\n",
       " '6797b51b-1069-47d4-a255-e4c4e652fc86',\n",
       " 'bae31ce9-e9da-4d84-964a-fe881cd8234b',\n",
       " '44ac6f61-d717-422a-83b2-2a460be00541',\n",
       " '379279bb-681f-46fc-9237-7d4dbc70391e',\n",
       " 'f12a6560-213c-4a5f-ab07-18ec49f8cec4',\n",
       " 'fda6ddf1-f89d-47fd-8c04-80ee072e5d36',\n",
       " 'a2a50f83-361f-4892-9aec-10760de2ff53',\n",
       " 'bdfb2bf0-80c1-4446-b2a3-a8e44c006b49',\n",
       " '4c357b26-2dd6-4f2d-9b24-27c8f1c8ad76',\n",
       " 'a6717415-afd0-4ac6-8d7c-2bd20121f928',\n",
       " 'f6933197-8c1a-4a7f-9c5d-8667cf93a9ca',\n",
       " '7c621f01-ef7c-4225-83d4-8585a90fce54',\n",
       " 'ddff602f-bd3d-468c-b1ab-f9bdd5e4ffd8',\n",
       " 'ace16fbe-09c6-4de8-82eb-11996795b688',\n",
       " '14d553a2-47eb-403e-8536-8f1a7caefc7c',\n",
       " 'ef3fff22-2758-4dc1-9ae3-abea9d736fbb',\n",
       " '7eac2066-5498-4eae-8c38-8a9ac681fc4d',\n",
       " '223b31cc-7765-46b3-a8e7-311a1e0eb92d',\n",
       " '10de384f-1471-48ec-81a9-a64771ce3bcb',\n",
       " '8fa9ed4e-5f7d-4c6d-9a7d-85a5f06705fc',\n",
       " '5c5acda5-b8cd-4e2a-b892-d14cee8396d3',\n",
       " '39c2731e-91df-45f2-934a-dc1e9023a970',\n",
       " 'db88aefa-341a-4b29-a056-d5fac7b8ce5b',\n",
       " '32e46eea-8886-422f-98f2-bb927eb5b31c',\n",
       " 'f12a9c94-2c82-4f6d-ba55-d560709df768',\n",
       " 'fd3372bf-5107-45b7-b3e6-ece57d017728',\n",
       " '6bb68b17-ab5e-47e6-9b7a-0e25fcc2b11b',\n",
       " '7de12d90-d2e4-47f0-bec4-c863c084ee1a',\n",
       " '3d30ece0-874f-4b4a-99d5-8d4667e7d063',\n",
       " '659af02e-d0de-4a7b-9543-c059ec92c4f1',\n",
       " '009f7107-9bb0-4f2f-be39-dafc1831bfae',\n",
       " '24176c5b-c551-4886-aefe-14480ad33d0e',\n",
       " 'd67bef34-4ed7-4a6d-ba6a-a29486650cb9',\n",
       " '98639b9b-2e73-4bab-a81b-17c2acfdcbf7',\n",
       " '7a73a79a-2b81-4b1b-92bd-ae9919823bfb',\n",
       " '71c0f154-25ab-49e2-b59f-9d06095bb5c8',\n",
       " 'a973ee2a-346f-4ad9-99c0-65e082225e6a',\n",
       " 'cce451ea-1689-4137-91b9-5c9730be444a',\n",
       " 'b8e76081-4750-4627-86e0-6a29c9522e3e',\n",
       " '3e8bc7bf-baea-4bf4-8e9c-2817d590aa6a',\n",
       " '95db2fa2-1ab6-43ea-a4aa-d26cd3e847c3',\n",
       " '3825823c-9b3b-49a4-98c9-c9a442b4fc40',\n",
       " '49037d98-18ec-4836-afac-3aa0af0cb58a',\n",
       " '5a30d95c-38b8-4417-b4f6-0c8d1c9eb457',\n",
       " '1b4e2fba-e24b-4245-ac43-86d0cb8b1760',\n",
       " '3566abec-51ef-45bc-8a05-4611c9202991',\n",
       " '88768219-d02d-47b2-8dcd-43ad8eb89a59',\n",
       " '48dffeb2-e54b-43ff-aa17-1b967f495cca',\n",
       " '030b205c-9412-43ed-a6f9-8eeb5172b33a',\n",
       " 'd6d72b9a-0350-4ca6-b615-7292c8b1ef6e',\n",
       " '27633a00-bd52-43e4-8cf8-ae1d6f8aa28c',\n",
       " '34a7f628-3db8-4ad8-b99c-f1451cbd6876',\n",
       " '8c5fc542-97e8-4fbe-b996-5463baf722bf',\n",
       " '974b8583-e8d6-4fb6-9406-e6f0fd62ce53',\n",
       " '9a82e141-332c-4ffd-b59a-8558e484b17c',\n",
       " '855646bc-308b-4458-a702-5f737c22d0fc',\n",
       " '1aa14b1a-623f-40c0-8be2-697aabae4691',\n",
       " 'e8d63e58-1951-4cce-9709-6aea75c4459a',\n",
       " '9668f0bc-93d1-4f6d-a3f6-17cddce54998']"
      ]
     },
     "execution_count": 11,
     "metadata": {},
     "output_type": "execute_result"
    }
   ],
   "execution_count": 11
  },
  {
   "metadata": {
    "ExecuteTime": {
     "end_time": "2025-01-12T17:17:06.865388Z",
     "start_time": "2025-01-12T17:17:06.861955Z"
    }
   },
   "cell_type": "code",
   "source": [
    "# Define the retrieval function\n",
    "def retrieve_documents(query):\n",
    "    return vector_store.similarity_search(query, k=5)  # Retrieve top 5 relevant documents\n",
    "\n",
    "retriever = vector_store.as_retriever()"
   ],
   "id": "7c013bd1a7ece5e",
   "outputs": [],
   "execution_count": 12
  },
  {
   "metadata": {
    "ExecuteTime": {
     "end_time": "2025-01-12T17:17:06.882103Z",
     "start_time": "2025-01-12T17:17:06.866568Z"
    }
   },
   "cell_type": "code",
   "source": [
    "# Define the date range for filtering\n",
    "start_date = \"2016-01-01\"\n",
    "end_date = \"2016-08-31\"\n",
    "where_document = {\n",
    "    \"date\": {\"$gte\": int(datetime.strptime(start_date, '%Y-%m-%d').timestamp())} #}, {'date': {\"$lte\": end_date}}]\n",
    "}\n",
    "\n",
    "where_document={\"$and\": [{ \"date\": {\"$gte\": int(datetime.strptime(start_date, '%Y-%m-%d').timestamp())}},\n",
    "                         { \"date\": {\"$lte\": int(datetime.strptime(end_date, '%Y-%m-%d').timestamp())}}\n",
    "                         ]}\n",
    "\n"
   ],
   "id": "7af93789feffb205",
   "outputs": [],
   "execution_count": 13
  },
  {
   "metadata": {
    "ExecuteTime": {
     "end_time": "2025-01-12T17:17:06.937574Z",
     "start_time": "2025-01-12T17:17:06.884294Z"
    }
   },
   "cell_type": "code",
   "source": [
    "collection_name = \"transcrips\"\n",
    "import chromadb\n",
    "from chromadb.utils.embedding_functions import OpenAIEmbeddingFunction\n",
    "embedding_function = OpenAIEmbeddingFunction(api_key=os.environ.get('OPENAI_API_KEY'), model_name='text-embedding-3-small')\n",
    "\n",
    "\n",
    "client = chromadb.Client()  # Or your specific client configuration\n",
    "collection = client.get_or_create_collection(name=collection_name, embedding_function=embedding_function)"
   ],
   "id": "c4a569caee6657ae",
   "outputs": [],
   "execution_count": 14
  },
  {
   "metadata": {
    "ExecuteTime": {
     "end_time": "2025-01-12T17:17:09.748259Z",
     "start_time": "2025-01-12T17:17:07.117817Z"
    }
   },
   "cell_type": "code",
   "source": [
    "collection.add(documents=just_documents,\n",
    "               metadatas=metadata,\n",
    "               ids=uuids)"
   ],
   "id": "7e221529bd63b4fe",
   "outputs": [],
   "execution_count": 15
  },
  {
   "metadata": {
    "ExecuteTime": {
     "end_time": "2025-01-12T17:17:10.124345Z",
     "start_time": "2025-01-12T17:17:09.757797Z"
    }
   },
   "cell_type": "code",
   "source": [
    "query = 'What is Amazon revenue?'\n",
    "results_with_similarity = collection.query(\n",
    "    query_texts=query,\n",
    "    where=where_document,\n",
    "    n_results=5  # Number of results to return\n",
    ")"
   ],
   "id": "3afcadfd752a31a7",
   "outputs": [],
   "execution_count": 17
  },
  {
   "metadata": {},
   "cell_type": "markdown",
   "source": "### Define Retriever tool",
   "id": "e01ebe7f6c5462a0"
  },
  {
   "metadata": {
    "ExecuteTime": {
     "end_time": "2025-01-12T17:17:12.077119Z",
     "start_time": "2025-01-12T17:17:12.072356Z"
    }
   },
   "cell_type": "code",
   "source": [
    "class Retriever:\n",
    "    # scratch class\n",
    "    def __init__(self, db, collection_name):\n",
    "        self.embedding_function = embedding_function\n",
    "        self.collection = db.get_or_create_collection(name=collection_name, embedding_function=self.embedding_function)\n",
    "            \n",
    "    def retrive(self, query, company=None, start_date=None, end_date=None, n=5):\n",
    "        where_document = None \n",
    "        if start_date and end_date:\n",
    "            where_document={\"$and\": [{ \"date\": {\"$gte\": int(datetime.strptime(start_date, '%Y-%m-%d').timestamp())}},\n",
    "                                     { \"date\": {\"$lte\": int(datetime.strptime(end_date, '%Y-%m-%d').timestamp())}}\n",
    "                                     ]}\n",
    "        \n",
    "        results_with_similarity = collection.query(\n",
    "        query_texts=query,\n",
    "        where=where_document,\n",
    "        n_results=n\n",
    "        )\n",
    "        result_docs = results_with_similarity['documents'][0]\n",
    "        return result_docs\n",
    "            "
   ],
   "id": "5937365c560ac1aa",
   "outputs": [],
   "execution_count": 18
  },
  {
   "metadata": {
    "ExecuteTime": {
     "end_time": "2025-01-12T17:34:08.805676Z",
     "start_time": "2025-01-12T17:34:08.802176Z"
    }
   },
   "cell_type": "code",
   "source": [
    "def retriever_function(query, company='AMZN', start_date=None, end_date=None):\n",
    "    agent = Retriever(client, collection_name)\n",
    "    result = agent.retrive(query, company, start_date, end_date)\n",
    "    return result"
   ],
   "id": "63de965645b4a565",
   "outputs": [],
   "execution_count": 62
  },
  {
   "metadata": {
    "ExecuteTime": {
     "end_time": "2025-01-12T17:34:28.370850Z",
     "start_time": "2025-01-12T17:34:28.365091Z"
    }
   },
   "cell_type": "code",
   "source": [
    "from langchain.tools import Tool\n",
    "from langchain.tools.base import StructuredTool\n",
    "\n",
    "from pydantic import BaseModel, Field\n",
    "\n",
    "class RetrieverInput(BaseModel):\n",
    "    query: str = Field(description=\"Query for the vector database\")\n",
    "    company: str = Field(description=\"Which company is mentioned in the query?\")\n",
    "    start_date: str = Field(description='Optional. Start date for searching documents in the db.')\n",
    "    end_date: str = Field(description='Optional. End date for searching documents in the db.')\n",
    "\n",
    "\n",
    "retriever_tool = StructuredTool(\n",
    "    name=\"Retriever\",\n",
    "    args_schema=RetrieverInput,\n",
    "    description=(\n",
    "        \"Use this tool to get relevant documents for Amazon from transcripts. When dates are specified in the query, convert them into format like 2016-01-10.\"\n",
    "    ),\n",
    "    func=retriever_function,\n",
    ")\n"
   ],
   "id": "1543aefd5b25de83",
   "outputs": [],
   "execution_count": 68
  },
  {
   "metadata": {
    "ExecuteTime": {
     "end_time": "2025-01-12T17:34:30.687305Z",
     "start_time": "2025-01-12T17:34:30.683350Z"
    }
   },
   "cell_type": "code",
   "source": "retriever_tool",
   "id": "b7833d5c07655966",
   "outputs": [
    {
     "data": {
      "text/plain": [
       "StructuredTool(name='Retriever', description='Use this tool to get relevant documents for Amazon from transcripts. When dates are specified in the query, convert them into format like 2016-01-10.', args_schema=<class '__main__.RetrieverInput'>, func=<function retriever_function at 0x7f69abf19a80>)"
      ]
     },
     "execution_count": 69,
     "metadata": {},
     "output_type": "execute_result"
    }
   ],
   "execution_count": 69
  },
  {
   "metadata": {},
   "cell_type": "markdown",
   "source": "### Define Sentiment tool",
   "id": "3e51421ba6c931a0"
  },
  {
   "metadata": {
    "ExecuteTime": {
     "end_time": "2025-01-12T17:34:31.174624Z",
     "start_time": "2025-01-12T17:34:31.171048Z"
    }
   },
   "cell_type": "code",
   "source": [
    "from setfit import AbsaModel\n",
    "\n",
    "def analyze_sentiment(docs: list) -> list:\n",
    "    model = AbsaModel.from_pretrained(\n",
    "        'Askinkaty/setfit-finance-aspect',\n",
    "        'Askinkaty/setfit-finance-polarity',\n",
    "        spacy_model=\"en_core_web_sm\",\n",
    "    )\n",
    "    results = []\n",
    "    batch_size = 32\n",
    "    for i in range(0, len(docs), batch_size):\n",
    "        batch = docs[i:i + batch_size]  # Get the batch as a list\n",
    "        predictions = model.predict(batch)  # Batch predict\n",
    "        results.extend(predictions)\n",
    "    return results\n"
   ],
   "id": "ecb5b40fd7d34970",
   "outputs": [],
   "execution_count": 70
  },
  {
   "metadata": {
    "ExecuteTime": {
     "end_time": "2025-01-12T17:34:31.890783Z",
     "start_time": "2025-01-12T17:34:31.887542Z"
    }
   },
   "cell_type": "code",
   "source": [
    "sentiment_tool = Tool(\n",
    "    name='Sentiment_analyzer',\n",
    "    description=\"Use this tool to get sentiment of the document related to some particular companies/products/entities. It will return negative/positive/neutral label.\",\n",
    "    func=analyze_sentiment\n",
    ")"
   ],
   "id": "cbed998fe2bcbc8",
   "outputs": [],
   "execution_count": 71
  },
  {
   "metadata": {},
   "cell_type": "markdown",
   "source": "### Combine tools together",
   "id": "2eb2361e6a8257c4"
  },
  {
   "metadata": {
    "ExecuteTime": {
     "end_time": "2025-01-12T17:34:34.751562Z",
     "start_time": "2025-01-12T17:34:34.747461Z"
    }
   },
   "cell_type": "code",
   "source": [
    "from langchain.tools.retriever import create_retriever_tool\n",
    "from langgraph.prebuilt import ToolNode\n",
    "from langchain.tools import BaseTool, StructuredTool, tool\n",
    "from langgraph.prebuilt import tools_condition\n",
    "from pydantic import BaseModel, Field\n",
    "from typing import Optional, Type\n",
    "\n",
    "tools = [retriever_tool, sentiment_tool]"
   ],
   "id": "c12da58784fc655b",
   "outputs": [],
   "execution_count": 73
  },
  {
   "metadata": {
    "ExecuteTime": {
     "end_time": "2025-01-12T17:34:36.398450Z",
     "start_time": "2025-01-12T17:34:35.319955Z"
    }
   },
   "cell_type": "code",
   "source": [
    "from langchain.agents import create_tool_calling_agent\n",
    "\n",
    "from langchain_core.prompts import ChatPromptTemplate, MessagesPlaceholder\n",
    "\n",
    "system_prompt = \"\"\" You are an expert in finance.\n",
    "        Use your tools to answer questions. If you do not have a tool to\n",
    "        answer the question, say so. \"\"\"\n",
    "\n",
    "tool_calling_prompt = ChatPromptTemplate.from_messages(\n",
    "    [\n",
    "        (\"system\", system_prompt),\n",
    "        MessagesPlaceholder(\"chat_history\", optional=True),\n",
    "        (\"human\", \"{input}\"),\n",
    "        MessagesPlaceholder(\"agent_scratchpad\"),\n",
    "    ]\n",
    ")\n",
    "\n",
    "llm = ChatOpenAI(temperature=0, streaming=True, model=\"gpt-3.5-turbo\")\n",
    "\n",
    "tool_runnable = create_tool_calling_agent(llm, tools, prompt  = tool_calling_prompt)\n",
    "tool_actions = tool_runnable.invoke({\"input\": \"What is Amazon revenue in April 2016?\", 'intermediate_steps': []})"
   ],
   "id": "e287767dc12f277e",
   "outputs": [],
   "execution_count": 74
  },
  {
   "metadata": {
    "ExecuteTime": {
     "end_time": "2025-01-12T17:34:36.936216Z",
     "start_time": "2025-01-12T17:34:36.931115Z"
    }
   },
   "cell_type": "code",
   "source": [
    "def run_tool_agent(state):\n",
    "    agent_outcome = tool_runnable.invoke(state)\n",
    "\n",
    "    #this agent will overwrite the agent outcome state variable\n",
    "    return {\"agent_outcome\": agent_outcome}"
   ],
   "id": "64d2c9eca761bb86",
   "outputs": [],
   "execution_count": 75
  },
  {
   "metadata": {
    "ExecuteTime": {
     "end_time": "2025-01-12T17:34:46.120887Z",
     "start_time": "2025-01-12T17:34:46.106616Z"
    }
   },
   "cell_type": "code",
   "source": [
    "from langgraph.prebuilt.tool_executor import ToolExecutor\n",
    "\n",
    "# tool executor invokes the tool action specified from the agent runnable\n",
    "# they will become the nodes that will be called when the agent decides on a tool action.\n",
    "\n",
    "tool_executor = ToolNode(tools)\n",
    "\n",
    "# Define the function to execute tools\n",
    "# This node will run a different tool as specified in the state variable agent_outcome\n",
    "def execute_tools(state):\n",
    "    # Get the most recent agent_outcome - this is the key added in the `agent` above\n",
    "    agent_action = state['agent_outcome']\n",
    "    if type(agent_action) is not list:\n",
    "        agent_action = [agent_action]\n",
    "    steps = []\n",
    "    # convert single actions to a list\n",
    "    \n",
    "    for action in agent_action:\n",
    "    # Execute the tool\n",
    "        output = tool_executor.invoke(action)\n",
    "        print(f\"The agent action is {action}\")\n",
    "        print(f\"The tool result is: {output}\")\n",
    "        steps.append((action, str(output)))\n",
    "    # Return the output\n",
    "    return {\"intermediate_steps\": steps}"
   ],
   "id": "1f565abd68d8fa5f",
   "outputs": [],
   "execution_count": 78
  },
  {
   "metadata": {
    "ExecuteTime": {
     "end_time": "2025-01-12T17:34:47.283267Z",
     "start_time": "2025-01-12T17:34:47.276424Z"
    }
   },
   "cell_type": "code",
   "source": [
    "from typing import TypedDict, Annotated,Union\n",
    "from langchain_core.agents import AgentAction, AgentFinish\n",
    "from langchain.agents.output_parsers.tools import ToolAgentAction\n",
    "from langchain_core.messages import BaseMessage\n",
    "import operator\n",
    "\n",
    "\n",
    "class AgentState(TypedDict):\n",
    "   # The input string from human\n",
    "   input: str\n",
    "   # The list of previous messages in the conversation\n",
    "   chat_history: list[BaseMessage]\n",
    "   # the state will be overwritten with the latest everytime the agent is run\n",
    "   agent_outcome: Union[AgentAction, list, ToolAgentAction, AgentFinish, None]\n",
    "\n",
    "   # Actions should be added to the existing, use `operator.add` to append to the list of the past intermediate steps\n",
    "   intermediate_steps: Annotated[list[Union[tuple[AgentAction, str], tuple[ToolAgentAction, str]]], operator.add]"
   ],
   "id": "97cdc54adb6be266",
   "outputs": [],
   "execution_count": 79
  },
  {
   "metadata": {
    "ExecuteTime": {
     "end_time": "2025-01-12T17:34:48.282575Z",
     "start_time": "2025-01-12T17:34:48.278573Z"
    }
   },
   "cell_type": "code",
   "source": [
    "def should_continue(data):\n",
    "    # If the agent outcome is an AgentFinish, then we return `exit` string\n",
    "    if isinstance(data['agent_outcome'], AgentFinish):\n",
    "        return \"END\"\n",
    "    # Otherwise, an AgentAction is returned\n",
    "    # This will be used when setting up the graph to define the flow\n",
    "    else:\n",
    "        return \"CONTINUE\""
   ],
   "id": "990c5f695e0f5ae0",
   "outputs": [],
   "execution_count": 80
  },
  {
   "metadata": {
    "ExecuteTime": {
     "end_time": "2025-01-12T17:34:48.992820Z",
     "start_time": "2025-01-12T17:34:48.984842Z"
    }
   },
   "cell_type": "code",
   "source": [
    "from langgraph.graph import END, StateGraph\n",
    "\n",
    "workflow = StateGraph(AgentState)\n",
    "workflow.add_node(\"agent\", run_tool_agent)\n",
    "workflow.add_node(\"action\", execute_tools)\n",
    "\n",
    "workflow.set_entry_point(\"agent\")\n",
    "\n",
    "# Add flow logic with static edge.\n",
    "# Each time a tool is invoked and completed we want to \n",
    "# return the result to the agent to assess if task is complete or to take further actions \n",
    "\n",
    "workflow.add_edge('action', 'agent')\n",
    "workflow.add_conditional_edges(\n",
    "    # starting node\n",
    "    \"agent\",\n",
    "    # logic function to run\n",
    "    should_continue,\n",
    "\n",
    "    #mapping between the logic function output and the nodes on the graph\n",
    "    {\n",
    "        # If 'continue', proceed to the action node.\n",
    "        \"CONTINUE\": \"action\",\n",
    "        # Otherwise END\n",
    "        \"END\": END\n",
    "    }\n",
    ")"
   ],
   "id": "5dc20d9b541376a",
   "outputs": [
    {
     "data": {
      "text/plain": [
       "<langgraph.graph.state.StateGraph at 0x7f69abf09690>"
      ]
     },
     "execution_count": 81,
     "metadata": {},
     "output_type": "execute_result"
    }
   ],
   "execution_count": 81
  },
  {
   "metadata": {
    "ExecuteTime": {
     "end_time": "2025-01-12T17:34:49.154568Z",
     "start_time": "2025-01-12T17:34:49.149791Z"
    }
   },
   "cell_type": "code",
   "source": [
    "from langgraph.checkpoint.memory import MemorySaver\n",
    "\n",
    "memory = MemorySaver()\n",
    "app = workflow.compile(checkpointer = memory)"
   ],
   "id": "a7e208c40618133c",
   "outputs": [],
   "execution_count": 82
  },
  {
   "metadata": {
    "ExecuteTime": {
     "end_time": "2025-01-12T17:34:50.094073Z",
     "start_time": "2025-01-12T17:34:49.886203Z"
    }
   },
   "cell_type": "code",
   "source": [
    "from IPython.display import Image, display\n",
    "\n",
    "try:\n",
    "    display(Image(app.get_graph(xray=True).draw_mermaid_png()))\n",
    "except Exception:\n",
    "    # This requires some extra dependencies and is optional\n",
    "    pass"
   ],
   "id": "3202f86e96d061a2",
   "outputs": [
    {
     "data": {
      "image/png": "[encoded data removed]",
      "text/plain": [
       "<IPython.core.display.Image object>"
      ]
     },
     "metadata": {},
     "output_type": "display_data"
    }
   ],
   "execution_count": 83
  },
  {
   "metadata": {
    "ExecuteTime": {
     "end_time": "2025-01-12T17:35:06.477003Z",
     "start_time": "2025-01-12T17:34:51.080316Z"
    }
   },
   "cell_type": "code",
   "source": [
    "inputs = {\"input\": \"Tell what is the general sentiment of discussions about AWS in April 2016?\", \"chat_history\": []} \n",
    "config = {\"configurable\": {\"thread_id\": \"1\"}}\n",
    "\n",
    "for s in app.stream(inputs, config = config):\n",
    "    print(list(s.values())[0])\n",
    "    print(\"----\")"
   ],
   "id": "8f6a5eaca191d1c9",
   "outputs": [
    {
     "name": "stdout",
     "output_type": "stream",
     "text": [
      "{'agent_outcome': [ToolAgentAction(tool='Retriever', tool_input={'query': 'AWS', 'company': 'Amazon', 'start_date': '2016-04-01', 'end_date': '2016-04-30'}, log=\"\\nInvoking: `Retriever` with `{'query': 'AWS', 'company': 'Amazon', 'start_date': '2016-04-01', 'end_date': '2016-04-30'}`\\n\\n\\n\", message_log=[AIMessage(content='', additional_kwargs={'tool_calls': [{'index': 0, 'id': 'call_TljQNml78wTbgX7busgLEJPd', 'function': {'arguments': '{\"query\":\"AWS\",\"company\":\"Amazon\",\"start_date\":\"2016-04-01\",\"end_date\":\"2016-04-30\"}', 'name': 'Retriever'}, 'type': 'function'}]}, response_metadata={'finish_reason': 'tool_calls', 'model_name': 'gpt-3.5-turbo-0125'}, id='run-cff5e1ea-5b15-4b08-a234-1d5e9f1c4808-0', tool_calls=[{'name': 'Retriever', 'args': {'query': 'AWS', 'company': 'Amazon', 'start_date': '2016-04-01', 'end_date': '2016-04-30'}, 'id': 'call_TljQNml78wTbgX7busgLEJPd', 'type': 'tool_call'}])], tool_call_id='call_TljQNml78wTbgX7busgLEJPd')]}\n",
      "----\n",
      "The agent action is tool='Retriever' tool_input={'query': 'AWS', 'company': 'Amazon', 'start_date': '2016-04-01', 'end_date': '2016-04-30'} log=\"\\nInvoking: `Retriever` with `{'query': 'AWS', 'company': 'Amazon', 'start_date': '2016-04-01', 'end_date': '2016-04-30'}`\\n\\n\\n\" message_log=[AIMessage(content='', additional_kwargs={'tool_calls': [{'index': 0, 'id': 'call_TljQNml78wTbgX7busgLEJPd', 'function': {'arguments': '{\"query\":\"AWS\",\"company\":\"Amazon\",\"start_date\":\"2016-04-01\",\"end_date\":\"2016-04-30\"}', 'name': 'Retriever'}, 'type': 'function'}]}, response_metadata={'finish_reason': 'tool_calls', 'model_name': 'gpt-3.5-turbo-0125'}, id='run-cff5e1ea-5b15-4b08-a234-1d5e9f1c4808-0', tool_calls=[{'name': 'Retriever', 'args': {'query': 'AWS', 'company': 'Amazon', 'start_date': '2016-04-01', 'end_date': '2016-04-30'}, 'id': 'call_TljQNml78wTbgX7busgLEJPd', 'type': 'tool_call'}])] tool_call_id='call_TljQNml78wTbgX7busgLEJPd'\n",
      "The tool result is: {'messages': [ToolMessage(content='[\"Thanks. Your capital lease-driven property and equipment acquisitions is down again year-over-year. So, will you help tie this to perhaps the overall usage growth at AWS? Or, maybe the changing nature of how your enterprise customers may be using the platform to be more compute versus storage or database-heavy? I think historically on the e-commerce side, you have been price followers as opposed to price leaders. AWS, you have been price leaders for the most part for actively taking down price. Now, given your leadership position, do you think you\\'ll continue to be price leaders? Or, do you think it\\'s now time for you to follow instead? Thanks.\\\\n\\\\n \\\\nBrian Olsavsky,  Amazon.com, Inc. - CFO    [43]\\\\n \\\\n\\\\n          Let me start with your CapEx question. We like to look at both capital expenditures and capital leases because they\\'re both essentially our level of investment. Those totaled $9.5 billion in the trailing 12 months, and it was up 7% from the 12-month period ending this quarter last year. I will point out that the prior year was $6.1 billion. We have stepped up investment. Although it did not go up as much year-over-year this quarter, we are still spending almost $10 billion on what essentially is fulfillment capacity in support of really strong growth -- unit growth in FBA and global expansion and then also on AWS. Additional capacity for existing customers as they grow their business and also in new regions. We\\'ve been working and continue to work very hard on capital productivity. It\\'s very important to us and I attribute a good piece of the ability to keep that at a modest growth rate year-over-year to our capital efficiency and better purchasing across all capital and capital leases quite frankly. But, again, we are spending almost $10 billion.\", \"Thanks, Phil. I\\'ll begin with comments on our first-quarter financial results. Trailing 12-month operating cash flow increased 44% to $11.3 billion. Trailing 12-month free cash flow increased to $6.4 billion, up from $3.2 billion. Trailing 12-month free cash flow less lease principal repayments increased to $3.5 billion up from $1.5 billion. Trailing 12-month free cash flow less financed lease principal repayments and assets required under capital leases increased to $1.6 billion, up from an outflow of $1.2 billion.\\\\nTrailing 12-month capital expenditures were $4.9 billion. Capital expenditures do not include the impact of property and equipment acquired under capital and finance and lease obligations. These capital expenditures and capital leases reflect additional investments in support of continued business growth due to investments in technology infrastructure, the majority of which is to support AWS and additional capacity to support our fulfillment operations.\\\\nThe combination of common stock and stock-based awards outstanding was 490 million shares compared with 483 million one year ago. Worldwide revenue increased 28% to $29.1 billion, or 29% excluding the $210 million unfavorable impact from year-over-year changes in foreign exchange. Worldwide active customer accounts, excluding customers who only had pre-orders in the preceding 12-month period, exceeded 285 million. Worldwide paid unit growth was 27%. Worldwide seller units represented 48% of paid units.\\\\nNow, I\\'ll talk about our segment results. In the first quarter of 2016, we began to allocate stock-based compensation and other operating expense net to our segment results. These amounts are combined and titled stock-based compensation and other in our segment results and reflect the way we now evaluate our business performance and manage our operations. For reference this quarter, I\\'ll also mention segment operating income excluding stock-based compensation and other.\", \"In the North America segment, revenue grew 27% to $17 billion. Media revenue grew 8% to $3.2 billion. EGM revenue grew 32% to $13.5 billion. North America segment operating income including stock-based compensation and other was $588 million, a 3.5% operating margin compared with $254 million in the prior year. This includes $5 million of favorable impact from foreign exchange. North America\\'s segment operating income before stock-based compensation and other was $924 million, a 5.4% operating margin compared with $517 million in the prior year.\\\\nIn the international segment, revenue grew 24% to $9.6 billion. Excluding the $177 million year-over-year unfavorable foreign exchange impact, revenue growth was 26%. Media revenue increased 7% to $2.5 billion, or 9% excluding foreign exchange. EGM revenue grew 31% to $7 billion, or 33% excluding foreign exchange. International segment operating loss including stock-based compensation and other was $121 million compared with a loss of $194 million in the prior year. This includes $21 million of favorable impact from foreign exchange. International segment operating income before stock-based compensation and other was $20 million compared with a loss of $76 million in the prior year.\\\\nIn the Amazon Web Services segment, revenue grew 64% to $2.6 billion. Amazon Web Services segment operating income including stock-based compensation and other was $604 million, a 23.5% operating margin compared with $195 million in the prior year. This includes $24 million of favorable impact from foreign exchange. Amazon Web Services segment operating income before stock-based compensation and other was $716 million, a 27.9% operating margin compared with $265 million in the prior year.\", \"Thank you. I have two. I think it\\'s the first time 1Q 2011 that we see tech and content counted as a percentage of revenue declining or flat. Is it just a sign of your inability to increase investment in line with revenue growth? Or, is there something going on, if yes, what?\\\\nSecondly, Brian, you said that the growth of Prime has been driven by investments you have made or are making. You gave the examples of devices that you are selling. I think it\\'s a mathematical certainty that Prime subscribers would accelerate in North America at some point from 50% growth. As penetration increases and growth slows, will we see a deceleration in the investment levels? In other words, how do we think about the effect of deceleration in Prime on the North American margin structure in the future? Thank you.\\\\n\\\\n \\\\nBrian Olsavsky,  Amazon.com, Inc. - CFO    [22]\\\\n \\\\n\\\\n          Sure. Let me start with that second one. We think there\\'s a lot of room to grow not only in our international countries but also in the US. We plan on continuing to build the benefits of the Prime program from music to video to two-day shipping to same-day shipping to Prime Now. I don\\'t see that dissipating, and it remains the best deal in retail so hopefully everyone signs up for that.\\\\nOn the tech and content question, I don\\'t have a lot to call out in the quarter. I would say there\\'s no letup in the pace of invention here particularly on the AWS side. We used quote the number of new features and services to you each quarter. We had 214 in Q1 up from the 170 this first quarter of last year. Over 26% growth in this quarter alone coming off a year where I believe the number was 722 significant new features and services delivered for AWS customers last year.\", \"Thanks for taking the question. Just wanted to ask you about unit growth overall and if we look back over the last three quarters, you\\'ve accelerated it now to a materially higher level than what we saw in 2014 and the first half of 2015, and I realize in 3Q last year you had Prime Day. I was hoping you could comment on the overall acceleration we\\'ve seen here and key drivers behind that? And, if there\\'s something different perhaps than what you talked about on international?\\\\nAlso, on AWS, can you talk about the underlying drivers here of margins and thinking about that a little bit going forward primary sources of leverage? As you open up six new regions in coming months, should we expect this to be constant build-out? Or, something that\\'s more lumpy over time and more in waves? Thanks.\\\\n\\\\n \\\\nPhil Hardin,  Amazon.com, Inc. - Director of IR    [6]\\\\n \\\\n\\\\n          This is Phil Hardin. I\\'ll take the units question. Really the units are driven by very similar trends to what Brian described. When we look at the bridges for revenue, and obviously, units is our key driver of revenue. Things like Prime are key in that bridge. I would also call out selection growth. That has been a big area of focus for us.\\\\nOne important way we drive selection is through FBA. We continue to be very pleased with the progress we\\'re making in FBA. What that means for our Prime customers is there\\'s more for them to choose from. Obviously, that gives them more they can purchase. It makes Prime more valuable. For sellers, it means they sell more. I would say that FBA is helping drive some of the selection growth we\\'re seeing here. Selection growth and Prime though are two very key drivers of our growth. On the second part, I think Brian -- .\"]', name='Retriever', tool_call_id='call_TljQNml78wTbgX7busgLEJPd')]}\n",
      "{'intermediate_steps': [(ToolAgentAction(tool='Retriever', tool_input={'query': 'AWS', 'company': 'Amazon', 'start_date': '2016-04-01', 'end_date': '2016-04-30'}, log=\"\\nInvoking: `Retriever` with `{'query': 'AWS', 'company': 'Amazon', 'start_date': '2016-04-01', 'end_date': '2016-04-30'}`\\n\\n\\n\", message_log=[AIMessage(content='', additional_kwargs={'tool_calls': [{'index': 0, 'id': 'call_TljQNml78wTbgX7busgLEJPd', 'function': {'arguments': '{\"query\":\"AWS\",\"company\":\"Amazon\",\"start_date\":\"2016-04-01\",\"end_date\":\"2016-04-30\"}', 'name': 'Retriever'}, 'type': 'function'}]}, response_metadata={'finish_reason': 'tool_calls', 'model_name': 'gpt-3.5-turbo-0125'}, id='run-cff5e1ea-5b15-4b08-a234-1d5e9f1c4808-0', tool_calls=[{'name': 'Retriever', 'args': {'query': 'AWS', 'company': 'Amazon', 'start_date': '2016-04-01', 'end_date': '2016-04-30'}, 'id': 'call_TljQNml78wTbgX7busgLEJPd', 'type': 'tool_call'}])], tool_call_id='call_TljQNml78wTbgX7busgLEJPd'), '{\\'messages\\': [ToolMessage(content=\\'[\"Thanks. Your capital lease-driven property and equipment acquisitions is down again year-over-year. So, will you help tie this to perhaps the overall usage growth at AWS? Or, maybe the changing nature of how your enterprise customers may be using the platform to be more compute versus storage or database-heavy? I think historically on the e-commerce side, you have been price followers as opposed to price leaders. AWS, you have been price leaders for the most part for actively taking down price. Now, given your leadership position, do you think you\\\\\\'ll continue to be price leaders? Or, do you think it\\\\\\'s now time for you to follow instead? Thanks.\\\\\\\\n\\\\\\\\n \\\\\\\\nBrian Olsavsky,  Amazon.com, Inc. - CFO    [43]\\\\\\\\n \\\\\\\\n\\\\\\\\n          Let me start with your CapEx question. We like to look at both capital expenditures and capital leases because they\\\\\\'re both essentially our level of investment. Those totaled $9.5 billion in the trailing 12 months, and it was up 7% from the 12-month period ending this quarter last year. I will point out that the prior year was $6.1 billion. We have stepped up investment. Although it did not go up as much year-over-year this quarter, we are still spending almost $10 billion on what essentially is fulfillment capacity in support of really strong growth -- unit growth in FBA and global expansion and then also on AWS. Additional capacity for existing customers as they grow their business and also in new regions. We\\\\\\'ve been working and continue to work very hard on capital productivity. It\\\\\\'s very important to us and I attribute a good piece of the ability to keep that at a modest growth rate year-over-year to our capital efficiency and better purchasing across all capital and capital leases quite frankly. But, again, we are spending almost $10 billion.\", \"Thanks, Phil. I\\\\\\'ll begin with comments on our first-quarter financial results. Trailing 12-month operating cash flow increased 44% to $11.3 billion. Trailing 12-month free cash flow increased to $6.4 billion, up from $3.2 billion. Trailing 12-month free cash flow less lease principal repayments increased to $3.5 billion up from $1.5 billion. Trailing 12-month free cash flow less financed lease principal repayments and assets required under capital leases increased to $1.6 billion, up from an outflow of $1.2 billion.\\\\\\\\nTrailing 12-month capital expenditures were $4.9 billion. Capital expenditures do not include the impact of property and equipment acquired under capital and finance and lease obligations. These capital expenditures and capital leases reflect additional investments in support of continued business growth due to investments in technology infrastructure, the majority of which is to support AWS and additional capacity to support our fulfillment operations.\\\\\\\\nThe combination of common stock and stock-based awards outstanding was 490 million shares compared with 483 million one year ago. Worldwide revenue increased 28% to $29.1 billion, or 29% excluding the $210 million unfavorable impact from year-over-year changes in foreign exchange. Worldwide active customer accounts, excluding customers who only had pre-orders in the preceding 12-month period, exceeded 285 million. Worldwide paid unit growth was 27%. Worldwide seller units represented 48% of paid units.\\\\\\\\nNow, I\\\\\\'ll talk about our segment results. In the first quarter of 2016, we began to allocate stock-based compensation and other operating expense net to our segment results. These amounts are combined and titled stock-based compensation and other in our segment results and reflect the way we now evaluate our business performance and manage our operations. For reference this quarter, I\\\\\\'ll also mention segment operating income excluding stock-based compensation and other.\", \"In the North America segment, revenue grew 27% to $17 billion. Media revenue grew 8% to $3.2 billion. EGM revenue grew 32% to $13.5 billion. North America segment operating income including stock-based compensation and other was $588 million, a 3.5% operating margin compared with $254 million in the prior year. This includes $5 million of favorable impact from foreign exchange. North America\\\\\\'s segment operating income before stock-based compensation and other was $924 million, a 5.4% operating margin compared with $517 million in the prior year.\\\\\\\\nIn the international segment, revenue grew 24% to $9.6 billion. Excluding the $177 million year-over-year unfavorable foreign exchange impact, revenue growth was 26%. Media revenue increased 7% to $2.5 billion, or 9% excluding foreign exchange. EGM revenue grew 31% to $7 billion, or 33% excluding foreign exchange. International segment operating loss including stock-based compensation and other was $121 million compared with a loss of $194 million in the prior year. This includes $21 million of favorable impact from foreign exchange. International segment operating income before stock-based compensation and other was $20 million compared with a loss of $76 million in the prior year.\\\\\\\\nIn the Amazon Web Services segment, revenue grew 64% to $2.6 billion. Amazon Web Services segment operating income including stock-based compensation and other was $604 million, a 23.5% operating margin compared with $195 million in the prior year. This includes $24 million of favorable impact from foreign exchange. Amazon Web Services segment operating income before stock-based compensation and other was $716 million, a 27.9% operating margin compared with $265 million in the prior year.\", \"Thank you. I have two. I think it\\\\\\'s the first time 1Q 2011 that we see tech and content counted as a percentage of revenue declining or flat. Is it just a sign of your inability to increase investment in line with revenue growth? Or, is there something going on, if yes, what?\\\\\\\\nSecondly, Brian, you said that the growth of Prime has been driven by investments you have made or are making. You gave the examples of devices that you are selling. I think it\\\\\\'s a mathematical certainty that Prime subscribers would accelerate in North America at some point from 50% growth. As penetration increases and growth slows, will we see a deceleration in the investment levels? In other words, how do we think about the effect of deceleration in Prime on the North American margin structure in the future? Thank you.\\\\\\\\n\\\\\\\\n \\\\\\\\nBrian Olsavsky,  Amazon.com, Inc. - CFO    [22]\\\\\\\\n \\\\\\\\n\\\\\\\\n          Sure. Let me start with that second one. We think there\\\\\\'s a lot of room to grow not only in our international countries but also in the US. We plan on continuing to build the benefits of the Prime program from music to video to two-day shipping to same-day shipping to Prime Now. I don\\\\\\'t see that dissipating, and it remains the best deal in retail so hopefully everyone signs up for that.\\\\\\\\nOn the tech and content question, I don\\\\\\'t have a lot to call out in the quarter. I would say there\\\\\\'s no letup in the pace of invention here particularly on the AWS side. We used quote the number of new features and services to you each quarter. We had 214 in Q1 up from the 170 this first quarter of last year. Over 26% growth in this quarter alone coming off a year where I believe the number was 722 significant new features and services delivered for AWS customers last year.\", \"Thanks for taking the question. Just wanted to ask you about unit growth overall and if we look back over the last three quarters, you\\\\\\'ve accelerated it now to a materially higher level than what we saw in 2014 and the first half of 2015, and I realize in 3Q last year you had Prime Day. I was hoping you could comment on the overall acceleration we\\\\\\'ve seen here and key drivers behind that? And, if there\\\\\\'s something different perhaps than what you talked about on international?\\\\\\\\nAlso, on AWS, can you talk about the underlying drivers here of margins and thinking about that a little bit going forward primary sources of leverage? As you open up six new regions in coming months, should we expect this to be constant build-out? Or, something that\\\\\\'s more lumpy over time and more in waves? Thanks.\\\\\\\\n\\\\\\\\n \\\\\\\\nPhil Hardin,  Amazon.com, Inc. - Director of IR    [6]\\\\\\\\n \\\\\\\\n\\\\\\\\n          This is Phil Hardin. I\\\\\\'ll take the units question. Really the units are driven by very similar trends to what Brian described. When we look at the bridges for revenue, and obviously, units is our key driver of revenue. Things like Prime are key in that bridge. I would also call out selection growth. That has been a big area of focus for us.\\\\\\\\nOne important way we drive selection is through FBA. We continue to be very pleased with the progress we\\\\\\'re making in FBA. What that means for our Prime customers is there\\\\\\'s more for them to choose from. Obviously, that gives them more they can purchase. It makes Prime more valuable. For sellers, it means they sell more. I would say that FBA is helping drive some of the selection growth we\\\\\\'re seeing here. Selection growth and Prime though are two very key drivers of our growth. On the second part, I think Brian -- .\"]\\', name=\\'Retriever\\', tool_call_id=\\'call_TljQNml78wTbgX7busgLEJPd\\')]}')]}\n",
      "----\n",
      "{'agent_outcome': [ToolAgentAction(tool='Sentiment_analyzer', tool_input=\"Thanks. Your capital lease-driven property and equipment acquisitions is down again year-over-year. So, will you help tie this to perhaps the overall usage growth at AWS? Or, maybe the changing nature of how your enterprise customers may be using the platform to be more compute versus storage or database-heavy? I think historically on the e-commerce side, you have been price followers as opposed to price leaders. AWS, you have been price leaders for the most part for actively taking down price. Now, given your leadership position, do you think you'll continue to be price leaders? Or, do you think it's now time for you to follow instead? Thanks.\\n\\n \\nBrian Olsavsky,  Amazon.com, Inc. - CFO    [43]\\n \\n\\n          Let me start with your CapEx question. We like to look at both capital expenditures and capital leases because they're both essentially our level of investment. Those totaled $9.5 billion in the trailing 12 months, and it was up 7% from the 12-month period ending this quarter last year. I will point out that the prior year was $6.1 billion. We have stepped up investment. Although it did not go up as much year-over-year this quarter, we are still spending almost $10 billion on what essentially is fulfillment capacity in support of really strong growth -- unit growth in FBA and global expansion and then also on AWS. Additional capacity for existing customers as they grow their business and also in new regions. We've been working and continue to work very hard on capital productivity. It's very important to us and I attribute a good piece of the ability to keep that at a modest growth rate year-over-year to our capital efficiency and better purchasing across all capital and capital leases quite frankly. But, again, we are spending almost $10 billion.\", log=\"\\nInvoking: `Sentiment_analyzer` with `Thanks. Your capital lease-driven property and equipment acquisitions is down again year-over-year. So, will you help tie this to perhaps the overall usage growth at AWS? Or, maybe the changing nature of how your enterprise customers may be using the platform to be more compute versus storage or database-heavy? I think historically on the e-commerce side, you have been price followers as opposed to price leaders. AWS, you have been price leaders for the most part for actively taking down price. Now, given your leadership position, do you think you'll continue to be price leaders? Or, do you think it's now time for you to follow instead? Thanks.\\n\\n \\nBrian Olsavsky,  Amazon.com, Inc. - CFO    [43]\\n \\n\\n          Let me start with your CapEx question. We like to look at both capital expenditures and capital leases because they're both essentially our level of investment. Those totaled $9.5 billion in the trailing 12 months, and it was up 7% from the 12-month period ending this quarter last year. I will point out that the prior year was $6.1 billion. We have stepped up investment. Although it did not go up as much year-over-year this quarter, we are still spending almost $10 billion on what essentially is fulfillment capacity in support of really strong growth -- unit growth in FBA and global expansion and then also on AWS. Additional capacity for existing customers as they grow their business and also in new regions. We've been working and continue to work very hard on capital productivity. It's very important to us and I attribute a good piece of the ability to keep that at a modest growth rate year-over-year to our capital efficiency and better purchasing across all capital and capital leases quite frankly. But, again, we are spending almost $10 billion.`\\n\\n\\n\", message_log=[AIMessage(content='', additional_kwargs={'tool_calls': [{'index': 0, 'id': 'call_Oq52LVyIeCDlnIbQCD7vNRUK', 'function': {'arguments': '{\"__arg1\":\"Thanks. Your capital lease-driven property and equipment acquisitions is down again year-over-year. So, will you help tie this to perhaps the overall usage growth at AWS? Or, maybe the changing nature of how your enterprise customers may be using the platform to be more compute versus storage or database-heavy? I think historically on the e-commerce side, you have been price followers as opposed to price leaders. AWS, you have been price leaders for the most part for actively taking down price. Now, given your leadership position, do you think you\\'ll continue to be price leaders? Or, do you think it\\'s now time for you to follow instead? Thanks.\\\\n\\\\n \\\\nBrian Olsavsky,  Amazon.com, Inc. - CFO    [43]\\\\n \\\\n\\\\n          Let me start with your CapEx question. We like to look at both capital expenditures and capital leases because they\\'re both essentially our level of investment. Those totaled $9.5 billion in the trailing 12 months, and it was up 7% from the 12-month period ending this quarter last year. I will point out that the prior year was $6.1 billion. We have stepped up investment. Although it did not go up as much year-over-year this quarter, we are still spending almost $10 billion on what essentially is fulfillment capacity in support of really strong growth -- unit growth in FBA and global expansion and then also on AWS. Additional capacity for existing customers as they grow their business and also in new regions. We\\'ve been working and continue to work very hard on capital productivity. It\\'s very important to us and I attribute a good piece of the ability to keep that at a modest growth rate year-over-year to our capital efficiency and better purchasing across all capital and capital leases quite frankly. But, again, we are spending almost $10 billion.\"}', 'name': 'Sentiment_analyzer'}, 'type': 'function'}]}, response_metadata={'finish_reason': 'tool_calls', 'model_name': 'gpt-3.5-turbo-0125'}, id='run-c5e2ee11-7944-4d3f-80a7-c0997e1fa28c-0', tool_calls=[{'name': 'Sentiment_analyzer', 'args': {'__arg1': \"Thanks. Your capital lease-driven property and equipment acquisitions is down again year-over-year. So, will you help tie this to perhaps the overall usage growth at AWS? Or, maybe the changing nature of how your enterprise customers may be using the platform to be more compute versus storage or database-heavy? I think historically on the e-commerce side, you have been price followers as opposed to price leaders. AWS, you have been price leaders for the most part for actively taking down price. Now, given your leadership position, do you think you'll continue to be price leaders? Or, do you think it's now time for you to follow instead? Thanks.\\n\\n \\nBrian Olsavsky,  Amazon.com, Inc. - CFO    [43]\\n \\n\\n          Let me start with your CapEx question. We like to look at both capital expenditures and capital leases because they're both essentially our level of investment. Those totaled $9.5 billion in the trailing 12 months, and it was up 7% from the 12-month period ending this quarter last year. I will point out that the prior year was $6.1 billion. We have stepped up investment. Although it did not go up as much year-over-year this quarter, we are still spending almost $10 billion on what essentially is fulfillment capacity in support of really strong growth -- unit growth in FBA and global expansion and then also on AWS. Additional capacity for existing customers as they grow their business and also in new regions. We've been working and continue to work very hard on capital productivity. It's very important to us and I attribute a good piece of the ability to keep that at a modest growth rate year-over-year to our capital efficiency and better purchasing across all capital and capital leases quite frankly. But, again, we are spending almost $10 billion.\"}, 'id': 'call_Oq52LVyIeCDlnIbQCD7vNRUK', 'type': 'tool_call'}])], tool_call_id='call_Oq52LVyIeCDlnIbQCD7vNRUK')]}\n",
      "----\n",
      "The agent action is tool='Sentiment_analyzer' tool_input=\"Thanks. Your capital lease-driven property and equipment acquisitions is down again year-over-year. So, will you help tie this to perhaps the overall usage growth at AWS? Or, maybe the changing nature of how your enterprise customers may be using the platform to be more compute versus storage or database-heavy? I think historically on the e-commerce side, you have been price followers as opposed to price leaders. AWS, you have been price leaders for the most part for actively taking down price. Now, given your leadership position, do you think you'll continue to be price leaders? Or, do you think it's now time for you to follow instead? Thanks.\\n\\n \\nBrian Olsavsky,  Amazon.com, Inc. - CFO    [43]\\n \\n\\n          Let me start with your CapEx question. We like to look at both capital expenditures and capital leases because they're both essentially our level of investment. Those totaled $9.5 billion in the trailing 12 months, and it was up 7% from the 12-month period ending this quarter last year. I will point out that the prior year was $6.1 billion. We have stepped up investment. Although it did not go up as much year-over-year this quarter, we are still spending almost $10 billion on what essentially is fulfillment capacity in support of really strong growth -- unit growth in FBA and global expansion and then also on AWS. Additional capacity for existing customers as they grow their business and also in new regions. We've been working and continue to work very hard on capital productivity. It's very important to us and I attribute a good piece of the ability to keep that at a modest growth rate year-over-year to our capital efficiency and better purchasing across all capital and capital leases quite frankly. But, again, we are spending almost $10 billion.\" log=\"\\nInvoking: `Sentiment_analyzer` with `Thanks. Your capital lease-driven property and equipment acquisitions is down again year-over-year. So, will you help tie this to perhaps the overall usage growth at AWS? Or, maybe the changing nature of how your enterprise customers may be using the platform to be more compute versus storage or database-heavy? I think historically on the e-commerce side, you have been price followers as opposed to price leaders. AWS, you have been price leaders for the most part for actively taking down price. Now, given your leadership position, do you think you'll continue to be price leaders? Or, do you think it's now time for you to follow instead? Thanks.\\n\\n \\nBrian Olsavsky,  Amazon.com, Inc. - CFO    [43]\\n \\n\\n          Let me start with your CapEx question. We like to look at both capital expenditures and capital leases because they're both essentially our level of investment. Those totaled $9.5 billion in the trailing 12 months, and it was up 7% from the 12-month period ending this quarter last year. I will point out that the prior year was $6.1 billion. We have stepped up investment. Although it did not go up as much year-over-year this quarter, we are still spending almost $10 billion on what essentially is fulfillment capacity in support of really strong growth -- unit growth in FBA and global expansion and then also on AWS. Additional capacity for existing customers as they grow their business and also in new regions. We've been working and continue to work very hard on capital productivity. It's very important to us and I attribute a good piece of the ability to keep that at a modest growth rate year-over-year to our capital efficiency and better purchasing across all capital and capital leases quite frankly. But, again, we are spending almost $10 billion.`\\n\\n\\n\" message_log=[AIMessage(content='', additional_kwargs={'tool_calls': [{'index': 0, 'id': 'call_Oq52LVyIeCDlnIbQCD7vNRUK', 'function': {'arguments': '{\"__arg1\":\"Thanks. Your capital lease-driven property and equipment acquisitions is down again year-over-year. So, will you help tie this to perhaps the overall usage growth at AWS? Or, maybe the changing nature of how your enterprise customers may be using the platform to be more compute versus storage or database-heavy? I think historically on the e-commerce side, you have been price followers as opposed to price leaders. AWS, you have been price leaders for the most part for actively taking down price. Now, given your leadership position, do you think you\\'ll continue to be price leaders? Or, do you think it\\'s now time for you to follow instead? Thanks.\\\\n\\\\n \\\\nBrian Olsavsky,  Amazon.com, Inc. - CFO    [43]\\\\n \\\\n\\\\n          Let me start with your CapEx question. We like to look at both capital expenditures and capital leases because they\\'re both essentially our level of investment. Those totaled $9.5 billion in the trailing 12 months, and it was up 7% from the 12-month period ending this quarter last year. I will point out that the prior year was $6.1 billion. We have stepped up investment. Although it did not go up as much year-over-year this quarter, we are still spending almost $10 billion on what essentially is fulfillment capacity in support of really strong growth -- unit growth in FBA and global expansion and then also on AWS. Additional capacity for existing customers as they grow their business and also in new regions. We\\'ve been working and continue to work very hard on capital productivity. It\\'s very important to us and I attribute a good piece of the ability to keep that at a modest growth rate year-over-year to our capital efficiency and better purchasing across all capital and capital leases quite frankly. But, again, we are spending almost $10 billion.\"}', 'name': 'Sentiment_analyzer'}, 'type': 'function'}]}, response_metadata={'finish_reason': 'tool_calls', 'model_name': 'gpt-3.5-turbo-0125'}, id='run-c5e2ee11-7944-4d3f-80a7-c0997e1fa28c-0', tool_calls=[{'name': 'Sentiment_analyzer', 'args': {'__arg1': \"Thanks. Your capital lease-driven property and equipment acquisitions is down again year-over-year. So, will you help tie this to perhaps the overall usage growth at AWS? Or, maybe the changing nature of how your enterprise customers may be using the platform to be more compute versus storage or database-heavy? I think historically on the e-commerce side, you have been price followers as opposed to price leaders. AWS, you have been price leaders for the most part for actively taking down price. Now, given your leadership position, do you think you'll continue to be price leaders? Or, do you think it's now time for you to follow instead? Thanks.\\n\\n \\nBrian Olsavsky,  Amazon.com, Inc. - CFO    [43]\\n \\n\\n          Let me start with your CapEx question. We like to look at both capital expenditures and capital leases because they're both essentially our level of investment. Those totaled $9.5 billion in the trailing 12 months, and it was up 7% from the 12-month period ending this quarter last year. I will point out that the prior year was $6.1 billion. We have stepped up investment. Although it did not go up as much year-over-year this quarter, we are still spending almost $10 billion on what essentially is fulfillment capacity in support of really strong growth -- unit growth in FBA and global expansion and then also on AWS. Additional capacity for existing customers as they grow their business and also in new regions. We've been working and continue to work very hard on capital productivity. It's very important to us and I attribute a good piece of the ability to keep that at a modest growth rate year-over-year to our capital efficiency and better purchasing across all capital and capital leases quite frankly. But, again, we are spending almost $10 billion.\"}, 'id': 'call_Oq52LVyIeCDlnIbQCD7vNRUK', 'type': 'tool_call'}])] tool_call_id='call_Oq52LVyIeCDlnIbQCD7vNRUK'\n",
      "The tool result is: {'messages': [ToolMessage(content='[[], {\"span\": \"equipment acquisi\", \"polarity\": \"neutral\"}, {\"span\": \"tions\", \"polarity\": \"negative\"}, {\"span\": \"ar\", \"polarity\": \"neutral\"}, [], {\"span\": \"AWS\", \"polarity\": \"neutral\"}, {\"span\": \"changin\", \"polarity\": \"neutral\"}, {\"span\": \"nature\", \"polarity\": \"neutral\"}, {\"span\": \"enterprise\", \"polarity\": \"neutral\"}, {\"span\": \"platf\", \"polarity\": \"neutral\"}, [], {\"span\": \"orage\", \"polarity\": \"neutral\"}, {\"span\": \"e-commerce\", \"polarity\": \"neutral\"}, [], [], {\"span\": \"AWS\", \"polarity\": \"positive\"}, [], [], [], [], {\"span\": \"e leaders\", \"polarity\": \"neutral\"}, [], {\"span\": \"ead\", \"polarity\": \"neutral\"}, {\"span\": \"Amazon.com\", \"polarity\": \"neutral\"}, [], [], [], [], [], [], {\"span\": \"mont\", \"polarity\": \"neutral\"}, {\"span\": \"hs\", \"polarity\": \"positive\"}, [], [], [], [], [], [], [], [], {\"span\": \"suppor\", \"polarity\": \"neutral\"}, [], {\"span\": \"FBA\", \"polarity\": \"neutral\"}, {\"span\": \"sion\", \"polarity\": \"neutral\"}, {\"span\": \"AWS\", \"polarity\": \"neutral\"}, {\"span\": \"cust\", \"polarity\": \"neutral\"}, {\"span\": \"omers\", \"polarity\": \"neutral\"}, {\"span\": \"busines\", \"polarity\": \"neutral\"}, [], [], [], {\"span\": \"vity\", \"polarity\": \"neutral\"}, [], {\"span\": \"mo\", \"polarity\": \"neutral\"}, [], [], {\"span\": \"capit\", \"polarity\": \"neutral\"}, {\"span\": \"al\", \"polarity\": \"neutral\"}, {\"span\": \"kly\", \"polarity\": \"neutral\"}, []]', name='Sentiment_analyzer', tool_call_id='call_Oq52LVyIeCDlnIbQCD7vNRUK')]}\n",
      "{'intermediate_steps': [(ToolAgentAction(tool='Sentiment_analyzer', tool_input=\"Thanks. Your capital lease-driven property and equipment acquisitions is down again year-over-year. So, will you help tie this to perhaps the overall usage growth at AWS? Or, maybe the changing nature of how your enterprise customers may be using the platform to be more compute versus storage or database-heavy? I think historically on the e-commerce side, you have been price followers as opposed to price leaders. AWS, you have been price leaders for the most part for actively taking down price. Now, given your leadership position, do you think you'll continue to be price leaders? Or, do you think it's now time for you to follow instead? Thanks.\\n\\n \\nBrian Olsavsky,  Amazon.com, Inc. - CFO    [43]\\n \\n\\n          Let me start with your CapEx question. We like to look at both capital expenditures and capital leases because they're both essentially our level of investment. Those totaled $9.5 billion in the trailing 12 months, and it was up 7% from the 12-month period ending this quarter last year. I will point out that the prior year was $6.1 billion. We have stepped up investment. Although it did not go up as much year-over-year this quarter, we are still spending almost $10 billion on what essentially is fulfillment capacity in support of really strong growth -- unit growth in FBA and global expansion and then also on AWS. Additional capacity for existing customers as they grow their business and also in new regions. We've been working and continue to work very hard on capital productivity. It's very important to us and I attribute a good piece of the ability to keep that at a modest growth rate year-over-year to our capital efficiency and better purchasing across all capital and capital leases quite frankly. But, again, we are spending almost $10 billion.\", log=\"\\nInvoking: `Sentiment_analyzer` with `Thanks. Your capital lease-driven property and equipment acquisitions is down again year-over-year. So, will you help tie this to perhaps the overall usage growth at AWS? Or, maybe the changing nature of how your enterprise customers may be using the platform to be more compute versus storage or database-heavy? I think historically on the e-commerce side, you have been price followers as opposed to price leaders. AWS, you have been price leaders for the most part for actively taking down price. Now, given your leadership position, do you think you'll continue to be price leaders? Or, do you think it's now time for you to follow instead? Thanks.\\n\\n \\nBrian Olsavsky,  Amazon.com, Inc. - CFO    [43]\\n \\n\\n          Let me start with your CapEx question. We like to look at both capital expenditures and capital leases because they're both essentially our level of investment. Those totaled $9.5 billion in the trailing 12 months, and it was up 7% from the 12-month period ending this quarter last year. I will point out that the prior year was $6.1 billion. We have stepped up investment. Although it did not go up as much year-over-year this quarter, we are still spending almost $10 billion on what essentially is fulfillment capacity in support of really strong growth -- unit growth in FBA and global expansion and then also on AWS. Additional capacity for existing customers as they grow their business and also in new regions. We've been working and continue to work very hard on capital productivity. It's very important to us and I attribute a good piece of the ability to keep that at a modest growth rate year-over-year to our capital efficiency and better purchasing across all capital and capital leases quite frankly. But, again, we are spending almost $10 billion.`\\n\\n\\n\", message_log=[AIMessage(content='', additional_kwargs={'tool_calls': [{'index': 0, 'id': 'call_Oq52LVyIeCDlnIbQCD7vNRUK', 'function': {'arguments': '{\"__arg1\":\"Thanks. Your capital lease-driven property and equipment acquisitions is down again year-over-year. So, will you help tie this to perhaps the overall usage growth at AWS? Or, maybe the changing nature of how your enterprise customers may be using the platform to be more compute versus storage or database-heavy? I think historically on the e-commerce side, you have been price followers as opposed to price leaders. AWS, you have been price leaders for the most part for actively taking down price. Now, given your leadership position, do you think you\\'ll continue to be price leaders? Or, do you think it\\'s now time for you to follow instead? Thanks.\\\\n\\\\n \\\\nBrian Olsavsky,  Amazon.com, Inc. - CFO    [43]\\\\n \\\\n\\\\n          Let me start with your CapEx question. We like to look at both capital expenditures and capital leases because they\\'re both essentially our level of investment. Those totaled $9.5 billion in the trailing 12 months, and it was up 7% from the 12-month period ending this quarter last year. I will point out that the prior year was $6.1 billion. We have stepped up investment. Although it did not go up as much year-over-year this quarter, we are still spending almost $10 billion on what essentially is fulfillment capacity in support of really strong growth -- unit growth in FBA and global expansion and then also on AWS. Additional capacity for existing customers as they grow their business and also in new regions. We\\'ve been working and continue to work very hard on capital productivity. It\\'s very important to us and I attribute a good piece of the ability to keep that at a modest growth rate year-over-year to our capital efficiency and better purchasing across all capital and capital leases quite frankly. But, again, we are spending almost $10 billion.\"}', 'name': 'Sentiment_analyzer'}, 'type': 'function'}]}, response_metadata={'finish_reason': 'tool_calls', 'model_name': 'gpt-3.5-turbo-0125'}, id='run-c5e2ee11-7944-4d3f-80a7-c0997e1fa28c-0', tool_calls=[{'name': 'Sentiment_analyzer', 'args': {'__arg1': \"Thanks. Your capital lease-driven property and equipment acquisitions is down again year-over-year. So, will you help tie this to perhaps the overall usage growth at AWS? Or, maybe the changing nature of how your enterprise customers may be using the platform to be more compute versus storage or database-heavy? I think historically on the e-commerce side, you have been price followers as opposed to price leaders. AWS, you have been price leaders for the most part for actively taking down price. Now, given your leadership position, do you think you'll continue to be price leaders? Or, do you think it's now time for you to follow instead? Thanks.\\n\\n \\nBrian Olsavsky,  Amazon.com, Inc. - CFO    [43]\\n \\n\\n          Let me start with your CapEx question. We like to look at both capital expenditures and capital leases because they're both essentially our level of investment. Those totaled $9.5 billion in the trailing 12 months, and it was up 7% from the 12-month period ending this quarter last year. I will point out that the prior year was $6.1 billion. We have stepped up investment. Although it did not go up as much year-over-year this quarter, we are still spending almost $10 billion on what essentially is fulfillment capacity in support of really strong growth -- unit growth in FBA and global expansion and then also on AWS. Additional capacity for existing customers as they grow their business and also in new regions. We've been working and continue to work very hard on capital productivity. It's very important to us and I attribute a good piece of the ability to keep that at a modest growth rate year-over-year to our capital efficiency and better purchasing across all capital and capital leases quite frankly. But, again, we are spending almost $10 billion.\"}, 'id': 'call_Oq52LVyIeCDlnIbQCD7vNRUK', 'type': 'tool_call'}])], tool_call_id='call_Oq52LVyIeCDlnIbQCD7vNRUK'), '{\\'messages\\': [ToolMessage(content=\\'[[], {\"span\": \"equipment acquisi\", \"polarity\": \"neutral\"}, {\"span\": \"tions\", \"polarity\": \"negative\"}, {\"span\": \"ar\", \"polarity\": \"neutral\"}, [], {\"span\": \"AWS\", \"polarity\": \"neutral\"}, {\"span\": \"changin\", \"polarity\": \"neutral\"}, {\"span\": \"nature\", \"polarity\": \"neutral\"}, {\"span\": \"enterprise\", \"polarity\": \"neutral\"}, {\"span\": \"platf\", \"polarity\": \"neutral\"}, [], {\"span\": \"orage\", \"polarity\": \"neutral\"}, {\"span\": \"e-commerce\", \"polarity\": \"neutral\"}, [], [], {\"span\": \"AWS\", \"polarity\": \"positive\"}, [], [], [], [], {\"span\": \"e leaders\", \"polarity\": \"neutral\"}, [], {\"span\": \"ead\", \"polarity\": \"neutral\"}, {\"span\": \"Amazon.com\", \"polarity\": \"neutral\"}, [], [], [], [], [], [], {\"span\": \"mont\", \"polarity\": \"neutral\"}, {\"span\": \"hs\", \"polarity\": \"positive\"}, [], [], [], [], [], [], [], [], {\"span\": \"suppor\", \"polarity\": \"neutral\"}, [], {\"span\": \"FBA\", \"polarity\": \"neutral\"}, {\"span\": \"sion\", \"polarity\": \"neutral\"}, {\"span\": \"AWS\", \"polarity\": \"neutral\"}, {\"span\": \"cust\", \"polarity\": \"neutral\"}, {\"span\": \"omers\", \"polarity\": \"neutral\"}, {\"span\": \"busines\", \"polarity\": \"neutral\"}, [], [], [], {\"span\": \"vity\", \"polarity\": \"neutral\"}, [], {\"span\": \"mo\", \"polarity\": \"neutral\"}, [], [], {\"span\": \"capit\", \"polarity\": \"neutral\"}, {\"span\": \"al\", \"polarity\": \"neutral\"}, {\"span\": \"kly\", \"polarity\": \"neutral\"}, []]\\', name=\\'Sentiment_analyzer\\', tool_call_id=\\'call_Oq52LVyIeCDlnIbQCD7vNRUK\\')]}')]}\n",
      "----\n",
      "{'agent_outcome': AgentFinish(return_values={'output': 'The sentiment analysis of discussions about AWS in April 2016 shows a mix of neutral, negative, and positive sentiments. Some key points include:\\n\\n- Negative sentiment: Mention of equipment acquisitions being down year-over-year.\\n- Neutral sentiment: Discussions about the changing nature of enterprise customers using the platform, e-commerce, and capital expenditures.\\n- Positive sentiment: Recognition of AWS as price leaders and the strong growth in unit growth and global expansion.\\n\\nOverall, the sentiment is a combination of factors with varying tones.'}, log='The sentiment analysis of discussions about AWS in April 2016 shows a mix of neutral, negative, and positive sentiments. Some key points include:\\n\\n- Negative sentiment: Mention of equipment acquisitions being down year-over-year.\\n- Neutral sentiment: Discussions about the changing nature of enterprise customers using the platform, e-commerce, and capital expenditures.\\n- Positive sentiment: Recognition of AWS as price leaders and the strong growth in unit growth and global expansion.\\n\\nOverall, the sentiment is a combination of factors with varying tones.')}\n",
      "----\n"
     ]
    }
   ],
   "execution_count": 84
  }
 ],
 "metadata": {
  "kernelspec": {
   "display_name": "Python 3 (ipykernel)",
   "language": "python",
   "name": "python3"
  },
  "language_info": {
   "codemirror_mode": {
    "name": "ipython",
    "version": 3
   },
   "file_extension": ".py",
   "mimetype": "text/x-python",
   "name": "python",
   "nbconvert_exporter": "python",
   "pygments_lexer": "ipython3",
   "version": "3.12.3"
  }
 },
 "nbformat": 4,
 "nbformat_minor": 5
}
