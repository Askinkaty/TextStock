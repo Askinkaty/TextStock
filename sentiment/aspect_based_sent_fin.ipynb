{
 "cells": [
  {
   "metadata": {
    "ExecuteTime": {
     "end_time": "2025-01-21T06:34:04.160528Z",
     "start_time": "2025-01-21T06:33:58.178078Z"
    }
   },
   "cell_type": "code",
   "source": [
    "from setfit import AbsaModel\n",
    "import pandas as pd\n",
    "import os\n",
    "import numpy as np\n",
    "import logging\n",
    "import random\n",
    "import torch\n",
    "import mlflow\n",
    "from setfit import AbsaTrainer, TrainingArguments\n",
    "from transformers import EarlyStoppingCallback\n",
    "from torch.utils.data import Dataset\n",
    "import copy\n",
    "\n"
   ],
   "id": "af07e477264aacfe",
   "outputs": [],
   "execution_count": 1
  },
  {
   "metadata": {
    "ExecuteTime": {
     "end_time": "2025-01-21T06:34:51.982044Z",
     "start_time": "2025-01-21T06:34:51.957120Z"
    }
   },
   "cell_type": "code",
   "source": [
    "seed_value = 42\n",
    "random.seed(seed_value)\n",
    "np.random.seed(seed_value)\n",
    "\n",
    "torch.cuda.empty_cache()\n",
    "device = torch.device('cuda' if torch.cuda.is_available() else 'cpu')\n",
    "print('Using device:', device)\n"
   ],
   "id": "53c597334efd7147",
   "outputs": [
    {
     "name": "stdout",
     "output_type": "stream",
     "text": [
      "Using device: cuda\n"
     ]
    }
   ],
   "execution_count": 2
  },
  {
   "metadata": {
    "ExecuteTime": {
     "end_time": "2025-01-21T06:34:54.990747Z",
     "start_time": "2025-01-21T06:34:54.987233Z"
    }
   },
   "cell_type": "code",
   "source": "#%env TOKENIZERS_PARALLELISM=false",
   "id": "34a4819e02a6d98d",
   "outputs": [],
   "execution_count": 3
  },
  {
   "metadata": {
    "ExecuteTime": {
     "end_time": "2025-01-21T06:34:55.773692Z",
     "start_time": "2025-01-21T06:34:55.769920Z"
    }
   },
   "cell_type": "code",
   "source": [
    "from tqdm.notebook import tqdm\n",
    "import transformers\n",
    "\n",
    "transformers.utils.logging.enable_progress_bar = lambda: tqdm\n"
   ],
   "id": "5f83632d0c4245ff",
   "outputs": [],
   "execution_count": 4
  },
  {
   "metadata": {
    "ExecuteTime": {
     "end_time": "2025-01-21T06:36:41.498406Z",
     "start_time": "2025-01-21T06:36:36.012054Z"
    }
   },
   "cell_type": "code",
   "source": [
    "model = AbsaModel.from_pretrained(\n",
    "        \"sentence-transformers/all-MiniLM-L6-v2\",\n",
    "        \"sentence-transformers/all-mpnet-base-v2\",\n",
    "        spacy_model=\"en_core_web_sm\",\n",
    "    )\n",
    "model.to(device)"
   ],
   "id": "c86c867eab129939",
   "outputs": [
    {
     "name": "stderr",
     "output_type": "stream",
     "text": [
      "model_head.pkl not found on HuggingFace Hub, initialising classification head with random weights. You should TRAIN this model on a downstream task to use it for predictions and inference.\n",
      "model_head.pkl not found on HuggingFace Hub, initialising classification head with random weights. You should TRAIN this model on a downstream task to use it for predictions and inference.\n"
     ]
    }
   ],
   "execution_count": 7
  },
  {
   "metadata": {
    "ExecuteTime": {
     "end_time": "2025-01-21T06:37:18.422403Z",
     "start_time": "2025-01-21T06:37:18.399740Z"
    }
   },
   "cell_type": "code",
   "source": [
    "data_dir = '/home/ubuntu/TextStock/data'\n",
    "model_dir = '/home/ubuntu/TextStock/models'\n",
    "output_dir = '/home/ubuntu/TextStock/models'\n",
    "table = pd.read_csv(os.path.join(data_dir, 'SEntFiN-v1.1.csv'))"
   ],
   "id": "fd290dd0c8ec2d9f",
   "outputs": [],
   "execution_count": 9
  },
  {
   "metadata": {
    "ExecuteTime": {
     "end_time": "2025-01-21T06:37:34.548170Z",
     "start_time": "2025-01-21T06:37:34.539788Z"
    }
   },
   "cell_type": "code",
   "source": "table.head()",
   "id": "616d43e8802fe7b9",
   "outputs": [
    {
     "data": {
      "text/plain": [
       "   S No.                                              Title  \\\n",
       "0      1  SpiceJet to issue 6.4 crore warrants to promoters   \n",
       "1      2                  MMTC Q2 net loss at Rs 10.4 crore   \n",
       "2      3  Mid-cap funds can deliver more, stay put: Experts   \n",
       "3      4             Mid caps now turn into market darlings   \n",
       "4      5  Market seeing patience, if not conviction: Pra...   \n",
       "\n",
       "                       Decisions  Words  \n",
       "0        {\"SpiceJet\": \"neutral\"}      8  \n",
       "1            {\"MMTC\": \"neutral\"}      8  \n",
       "2  {\"Mid-cap funds\": \"positive\"}      8  \n",
       "3       {\"Mid caps\": \"positive\"}      7  \n",
       "4          {\"Market\": \"neutral\"}      8  "
      ],
      "text/html": [
       "<div>\n",
       "<style scoped>\n",
       "    .dataframe tbody tr th:only-of-type {\n",
       "        vertical-align: middle;\n",
       "    }\n",
       "\n",
       "    .dataframe tbody tr th {\n",
       "        vertical-align: top;\n",
       "    }\n",
       "\n",
       "    .dataframe thead th {\n",
       "        text-align: right;\n",
       "    }\n",
       "</style>\n",
       "<table border=\"1\" class=\"dataframe\">\n",
       "  <thead>\n",
       "    <tr style=\"text-align: right;\">\n",
       "      <th></th>\n",
       "      <th>S No.</th>\n",
       "      <th>Title</th>\n",
       "      <th>Decisions</th>\n",
       "      <th>Words</th>\n",
       "    </tr>\n",
       "  </thead>\n",
       "  <tbody>\n",
       "    <tr>\n",
       "      <th>0</th>\n",
       "      <td>1</td>\n",
       "      <td>SpiceJet to issue 6.4 crore warrants to promoters</td>\n",
       "      <td>{\"SpiceJet\": \"neutral\"}</td>\n",
       "      <td>8</td>\n",
       "    </tr>\n",
       "    <tr>\n",
       "      <th>1</th>\n",
       "      <td>2</td>\n",
       "      <td>MMTC Q2 net loss at Rs 10.4 crore</td>\n",
       "      <td>{\"MMTC\": \"neutral\"}</td>\n",
       "      <td>8</td>\n",
       "    </tr>\n",
       "    <tr>\n",
       "      <th>2</th>\n",
       "      <td>3</td>\n",
       "      <td>Mid-cap funds can deliver more, stay put: Experts</td>\n",
       "      <td>{\"Mid-cap funds\": \"positive\"}</td>\n",
       "      <td>8</td>\n",
       "    </tr>\n",
       "    <tr>\n",
       "      <th>3</th>\n",
       "      <td>4</td>\n",
       "      <td>Mid caps now turn into market darlings</td>\n",
       "      <td>{\"Mid caps\": \"positive\"}</td>\n",
       "      <td>7</td>\n",
       "    </tr>\n",
       "    <tr>\n",
       "      <th>4</th>\n",
       "      <td>5</td>\n",
       "      <td>Market seeing patience, if not conviction: Pra...</td>\n",
       "      <td>{\"Market\": \"neutral\"}</td>\n",
       "      <td>8</td>\n",
       "    </tr>\n",
       "  </tbody>\n",
       "</table>\n",
       "</div>"
      ]
     },
     "execution_count": 11,
     "metadata": {},
     "output_type": "execute_result"
    }
   ],
   "execution_count": 11
  },
  {
   "metadata": {
    "ExecuteTime": {
     "end_time": "2025-01-21T06:37:52.764196Z",
     "start_time": "2025-01-21T06:37:52.757464Z"
    }
   },
   "cell_type": "code",
   "source": [
    "# Configure logging\n",
    "logging.basicConfig(level=logging.INFO, format='%(asctime)s - %(levelname)s - %(message)s')\n",
    "\n",
    "\n",
    "def prepare_dataset(table):\n",
    "    \"\"\"\n",
    "    Prepares the dataset by expanding rows based on the 'Decisions' column.\n",
    "    Each decision (aspect-sentiment pair) in the 'Decisions' dictionary becomes a separate row.\n",
    "\n",
    "    Args:\n",
    "        table (pd.DataFrame): Input DataFrame with a 'Decisions' column containing dictionaries of aspect-sentiment pairs.\n",
    "\n",
    "    Returns:\n",
    "        pd.DataFrame: A new DataFrame where each row represents a single aspect-sentiment pair.\n",
    "    \"\"\"\n",
    "    rows = []\n",
    "    table = table.sample(frac=1, random_state=42).reset_index(drop=True) # Added random_state for reproducibility\n",
    "    for i, row in table.iterrows():\n",
    "        try:\n",
    "            decisions = eval(row['Decisions'])\n",
    "            if isinstance(decisions, dict):\n",
    "                for k, v in decisions.items():\n",
    "                    new_row = copy.deepcopy(row)\n",
    "                    new_row['Decisions'] = [k, v]\n",
    "                    rows.append(new_row)\n",
    "            else:\n",
    "                logging.warning(f\"Skipping row {i} due to invalid 'Decisions' format: {row['Decisions']}\")\n",
    "        except Exception as e:\n",
    "            logging.error(f\"Error processing row {i}: {e}\")\n",
    "            logging.error(f\"Problematic 'Decisions' value: {row['Decisions']}\")\n",
    "\n",
    "    new_table = pd.DataFrame(rows)\n",
    "    logging.info(f\"Dataset prepared with {len(new_table)} samples.\")\n",
    "    return new_table\n"
   ],
   "id": "31d4c90e91e8ea4f",
   "outputs": [],
   "execution_count": 13
  },
  {
   "metadata": {
    "ExecuteTime": {
     "end_time": "2025-01-21T07:51:19.883346Z",
     "start_time": "2025-01-21T07:51:19.878231Z"
    }
   },
   "cell_type": "code",
   "source": [
    "def split_data(table):\n",
    "    \"\"\"Data should be shuffled already\"\"\"\n",
    "    train_ratio = 0.8\n",
    "    split_index = int(len(table) * train_ratio)\n",
    "    train_df = table[:split_index]\n",
    "    validation_all = table[split_index:]\n",
    "    \n",
    "    train_df = train_df[:1000]\n",
    "    \n",
    "    split_index_test = int(len(validation_all) * 0.5)\n",
    "    val_df = validation_all[:split_index_test]\n",
    "    val_df = val_df[:100]\n",
    "    test_df = validation_all[split_index_test:]\n",
    "    test_df = test_df[:100]\n",
    "    logging.info(f\"Data split: {len(train_df)} training, {len(val_df)} validation, {len(test_df)} test samples.\")\n",
    "    return train_df, val_df, test_df\n"
   ],
   "id": "250bb02ec99f2775",
   "outputs": [],
   "execution_count": 33
  },
  {
   "metadata": {
    "ExecuteTime": {
     "end_time": "2025-01-21T07:51:20.930081Z",
     "start_time": "2025-01-21T07:51:20.925180Z"
    }
   },
   "cell_type": "code",
   "source": [
    "class FinDataset(Dataset):\n",
    "    def __init__(self, data, max_len):\n",
    "        self.data = data\n",
    "        self.max_len = max_len\n",
    "\n",
    "    def __len__(self):\n",
    "        return len(self.data)\n",
    "\n",
    "    def __getitem__(self, idx):\n",
    "        row = self.data.iloc[idx]\n",
    "        span, label = row['Decisions']\n",
    "        ordinal = 0# if label == 'positive' else 0\n",
    "        return {\n",
    "            'text': row['Title'],\n",
    "            'span': span,\n",
    "            'label': label,\n",
    "            'ordinal': ordinal\n",
    "        }\n",
    "\n"
   ],
   "id": "b253d1f1429928c9",
   "outputs": [],
   "execution_count": 34
  },
  {
   "metadata": {
    "ExecuteTime": {
     "end_time": "2025-01-21T07:51:24.734682Z",
     "start_time": "2025-01-21T07:51:22.045105Z"
    }
   },
   "cell_type": "code",
   "source": [
    "table = pd.read_csv(os.path.join(data_dir, 'SEntFiN-v1.1.csv'))\n",
    "table = prepare_dataset(table)\n",
    "train_df, valid_df, test_df = split_data(table)"
   ],
   "id": "70a8d62b718f1637",
   "outputs": [
    {
     "name": "stderr",
     "output_type": "stream",
     "text": [
      "2025-01-21 07:51:24,705 - INFO - Dataset prepared with 14409 samples.\n",
      "2025-01-21 07:51:24,732 - INFO - Data split: 1000 training, 100 validation, 100 test samples.\n"
     ]
    }
   ],
   "execution_count": 35
  },
  {
   "metadata": {
    "ExecuteTime": {
     "end_time": "2025-01-21T07:51:32.945291Z",
     "start_time": "2025-01-21T07:51:32.935264Z"
    }
   },
   "cell_type": "code",
   "source": "train_df.head()",
   "id": "c5259de81f7b9ee2",
   "outputs": [
    {
     "data": {
      "text/plain": [
       "   S No.                                              Title  \\\n",
       "0    669  Ponzi schemes: Sebi seeks quarterly meetings o...   \n",
       "1   5334    European shares steady, pegged back by Vodafone   \n",
       "1   5334    European shares steady, pegged back by Vodafone   \n",
       "2   4437  M&M Finance plunges 8.5% as brokers cut target...   \n",
       "3   2329  Maintain 'Buy' on Wipro with target of Rs 528:...   \n",
       "\n",
       "                    Decisions  Words  \n",
       "0             [Sebi, neutral]      9  \n",
       "1        [Vodafone, negative]      7  \n",
       "1  [European shares, neutral]      7  \n",
       "2     [M&M Finance, negative]     12  \n",
       "3           [Wipro, positive]     10  "
      ],
      "text/html": [
       "<div>\n",
       "<style scoped>\n",
       "    .dataframe tbody tr th:only-of-type {\n",
       "        vertical-align: middle;\n",
       "    }\n",
       "\n",
       "    .dataframe tbody tr th {\n",
       "        vertical-align: top;\n",
       "    }\n",
       "\n",
       "    .dataframe thead th {\n",
       "        text-align: right;\n",
       "    }\n",
       "</style>\n",
       "<table border=\"1\" class=\"dataframe\">\n",
       "  <thead>\n",
       "    <tr style=\"text-align: right;\">\n",
       "      <th></th>\n",
       "      <th>S No.</th>\n",
       "      <th>Title</th>\n",
       "      <th>Decisions</th>\n",
       "      <th>Words</th>\n",
       "    </tr>\n",
       "  </thead>\n",
       "  <tbody>\n",
       "    <tr>\n",
       "      <th>0</th>\n",
       "      <td>669</td>\n",
       "      <td>Ponzi schemes: Sebi seeks quarterly meetings o...</td>\n",
       "      <td>[Sebi, neutral]</td>\n",
       "      <td>9</td>\n",
       "    </tr>\n",
       "    <tr>\n",
       "      <th>1</th>\n",
       "      <td>5334</td>\n",
       "      <td>European shares steady, pegged back by Vodafone</td>\n",
       "      <td>[Vodafone, negative]</td>\n",
       "      <td>7</td>\n",
       "    </tr>\n",
       "    <tr>\n",
       "      <th>1</th>\n",
       "      <td>5334</td>\n",
       "      <td>European shares steady, pegged back by Vodafone</td>\n",
       "      <td>[European shares, neutral]</td>\n",
       "      <td>7</td>\n",
       "    </tr>\n",
       "    <tr>\n",
       "      <th>2</th>\n",
       "      <td>4437</td>\n",
       "      <td>M&amp;M Finance plunges 8.5% as brokers cut target...</td>\n",
       "      <td>[M&amp;M Finance, negative]</td>\n",
       "      <td>12</td>\n",
       "    </tr>\n",
       "    <tr>\n",
       "      <th>3</th>\n",
       "      <td>2329</td>\n",
       "      <td>Maintain 'Buy' on Wipro with target of Rs 528:...</td>\n",
       "      <td>[Wipro, positive]</td>\n",
       "      <td>10</td>\n",
       "    </tr>\n",
       "  </tbody>\n",
       "</table>\n",
       "</div>"
      ]
     },
     "execution_count": 36,
     "metadata": {},
     "output_type": "execute_result"
    }
   ],
   "execution_count": 36
  },
  {
   "metadata": {
    "ExecuteTime": {
     "end_time": "2025-01-21T07:51:33.549202Z",
     "start_time": "2025-01-21T07:51:33.545213Z"
    }
   },
   "cell_type": "code",
   "source": [
    "train_data = FinDataset(train_df, max_len=15)\n",
    "valid_data = FinDataset(valid_df, max_len=15)\n",
    "test_data = FinDataset(test_df, max_len=15)"
   ],
   "id": "551880e8edf5888e",
   "outputs": [],
   "execution_count": 37
  },
  {
   "metadata": {
    "ExecuteTime": {
     "end_time": "2025-01-21T07:51:34.995137Z",
     "start_time": "2025-01-21T07:51:34.990030Z"
    }
   },
   "cell_type": "code",
   "source": "test_data[9]",
   "id": "eb1fef431d2f329b",
   "outputs": [
    {
     "data": {
      "text/plain": [
       "{'text': 'Carborundum Universal Q1 net down 25% at Rs 28.78 crore',\n",
       " 'span': 'Carborundum Universal',\n",
       " 'label': 'negative',\n",
       " 'ordinal': 0}"
      ]
     },
     "execution_count": 38,
     "metadata": {},
     "output_type": "execute_result"
    }
   ],
   "execution_count": 38
  },
  {
   "metadata": {
    "ExecuteTime": {
     "end_time": "2025-01-21T07:51:37.255877Z",
     "start_time": "2025-01-21T07:51:37.247871Z"
    }
   },
   "cell_type": "code",
   "source": [
    "# Set the MLflow experiment name\n",
    "mlflow_experiment_name = \"financial_sentiment_absa\"  # Choose a descriptive name\n",
    "mlflow.set_experiment(mlflow_experiment_name)"
   ],
   "id": "280988b7914172a4",
   "outputs": [
    {
     "data": {
      "text/plain": [
       "<Experiment: artifact_location='file:///home/ubuntu/TextStock/sentiment/mlruns/928194884546636435', creation_time=1737441538044, experiment_id='928194884546636435', last_update_time=1737441538044, lifecycle_stage='active', name='financial_sentiment_absa', tags={}>"
      ]
     },
     "execution_count": 39,
     "metadata": {},
     "output_type": "execute_result"
    }
   ],
   "execution_count": 39
  },
  {
   "metadata": {
    "ExecuteTime": {
     "end_time": "2025-01-21T07:51:58.083976Z",
     "start_time": "2025-01-21T07:51:58.079989Z"
    }
   },
   "cell_type": "code",
   "source": [
    "args = TrainingArguments(\n",
    "    output_dir=output_dir,\n",
    "    num_epochs=5,\n",
    "    use_amp=True,\n",
    "    batch_size=128,\n",
    "    eval_strategy=\"steps\",\n",
    "    eval_steps=100,\n",
    "    save_steps=100,\n",
    "    load_best_model_at_end=True,\n",
    "    report_to='mlflow',\n",
    "    show_progress_bar=True,\n",
    ")"
   ],
   "id": "3689ad87ecd39836",
   "outputs": [],
   "execution_count": 40
  },
  {
   "metadata": {
    "ExecuteTime": {
     "end_time": "2025-01-21T07:52:13.212399Z",
     "start_time": "2025-01-21T07:52:11.760380Z"
    }
   },
   "cell_type": "code",
   "source": [
    "trainer = AbsaTrainer(\n",
    "    model,\n",
    "    args=args,\n",
    "    train_dataset=train_data,\n",
    "    eval_dataset=valid_data,\n",
    "    callbacks=[EarlyStoppingCallback(early_stopping_patience=3)],\n",
    "    metric=\"accuracy\",\n",
    "\n",
    ")"
   ],
   "id": "f39954d6c6973479",
   "outputs": [
    {
     "name": "stderr",
     "output_type": "stream",
     "text": [
      "2025-01-21 07:52:12,848 - INFO - No `TrainingArguments` passed, using `output_dir=tmp_trainer`.\n",
      "2025-01-21 07:52:12,901 - INFO - No `loss` passed, using `losses.CoSENTLoss` as a default option.\n"
     ]
    },
    {
     "data": {
      "text/plain": [
       "Map:   0%|          | 0/2734 [00:00<?, ? examples/s]"
      ],
      "application/vnd.jupyter.widget-view+json": {
       "version_major": 2,
       "version_minor": 0,
       "model_id": "23126214873643ce8d727d5b03d95c6c"
      }
     },
     "metadata": {},
     "output_type": "display_data"
    },
    {
     "name": "stderr",
     "output_type": "stream",
     "text": [
      "2025-01-21 07:52:13,078 - INFO - No `TrainingArguments` passed, using `output_dir=tmp_trainer`.\n",
      "2025-01-21 07:52:13,131 - INFO - No `loss` passed, using `losses.CoSENTLoss` as a default option.\n"
     ]
    },
    {
     "data": {
      "text/plain": [
       "Map:   0%|          | 0/996 [00:00<?, ? examples/s]"
      ],
      "application/vnd.jupyter.widget-view+json": {
       "version_major": 2,
       "version_minor": 0,
       "model_id": "edba3e1b6199447189c1cf9f1b24b0e6"
      }
     },
     "metadata": {},
     "output_type": "display_data"
    }
   ],
   "execution_count": 42
  },
  {
   "metadata": {},
   "cell_type": "code",
   "outputs": [],
   "execution_count": null,
   "source": "trainer.train()",
   "id": "e11b3b09f3175143"
  },
  {
   "metadata": {
    "ExecuteTime": {
     "end_time": "2025-01-21T07:41:06.279720Z",
     "start_time": "2025-01-21T07:41:04.202890Z"
    }
   },
   "cell_type": "code",
   "source": [
    "# Evaluating\n",
    "metrics = trainer.evaluate(test_data)\n",
    "print(metrics)"
   ],
   "id": "456f2bd6ddd8f647",
   "outputs": [
    {
     "name": "stderr",
     "output_type": "stream",
     "text": [
      "***** Running evaluation *****\n"
     ]
    },
    {
     "data": {
      "text/plain": [
       "Batches:   0%|          | 0/4 [00:00<?, ?it/s]"
      ],
      "application/vnd.jupyter.widget-view+json": {
       "version_major": 2,
       "version_minor": 0,
       "model_id": "f4b3bc4bf54745fbb9fbb5caf5be07ef"
      }
     },
     "metadata": {},
     "output_type": "display_data"
    },
    {
     "data": {
      "text/plain": [
       "Downloading builder script:   0%|          | 0.00/4.20k [00:00<?, ?B/s]"
      ],
      "application/vnd.jupyter.widget-view+json": {
       "version_major": 2,
       "version_minor": 0,
       "model_id": "3329b7cf95ec467491c0aa57b60614c9"
      }
     },
     "metadata": {},
     "output_type": "display_data"
    },
    {
     "name": "stderr",
     "output_type": "stream",
     "text": [
      "***** Running evaluation *****\n"
     ]
    },
    {
     "data": {
      "text/plain": [
       "Batches:   0%|          | 0/2 [00:00<?, ?it/s]"
      ],
      "application/vnd.jupyter.widget-view+json": {
       "version_major": 2,
       "version_minor": 0,
       "model_id": "794b903d958a449887a39ccdb6035cdb"
      }
     },
     "metadata": {},
     "output_type": "display_data"
    },
    {
     "name": "stdout",
     "output_type": "stream",
     "text": [
      "{'aspect': {'accuracy': 0.9206349206349206}, 'polarity': {'accuracy': 0.84}}\n"
     ]
    }
   ],
   "execution_count": 27
  },
  {
   "metadata": {
    "ExecuteTime": {
     "end_time": "2025-01-21T07:41:08.465455Z",
     "start_time": "2025-01-21T07:41:08.461913Z"
    }
   },
   "cell_type": "code",
   "source": "print(metrics)",
   "id": "59b3fdf484c529e5",
   "outputs": [
    {
     "name": "stdout",
     "output_type": "stream",
     "text": [
      "{'aspect': {'accuracy': 0.9206349206349206}, 'polarity': {'accuracy': 0.84}}\n"
     ]
    }
   ],
   "execution_count": 28
  },
  {
   "metadata": {
    "ExecuteTime": {
     "end_time": "2025-01-21T07:46:39.137259Z",
     "start_time": "2025-01-21T07:46:39.064247Z"
    }
   },
   "cell_type": "code",
   "source": [
    "preds = model.predict([\n",
    "    'Sahara case: Sebi to seek help of foreign regulators',\n",
    "    'Are Indian cotton prices a bubble?',\n",
    "    \"CLSA cuts target price for RIL to Rs 1,150, but retains a 'buy' call\",\n",
    "    'Petrol, diesel prices hiked again, but OMC stocks remain subdued; IOC, HPCL in red'\n",
    "])"
   ],
   "id": "d2ceb95501722129",
   "outputs": [
    {
     "data": {
      "text/plain": [
       "Batches:   0%|          | 0/1 [00:00<?, ?it/s]"
      ],
      "application/vnd.jupyter.widget-view+json": {
       "version_major": 2,
       "version_minor": 0,
       "model_id": "db3ed31b1dfc4902a4e1a6e3aed4e6f6"
      }
     },
     "metadata": {},
     "output_type": "display_data"
    },
    {
     "data": {
      "text/plain": [
       "Batches:   0%|          | 0/1 [00:00<?, ?it/s]"
      ],
      "application/vnd.jupyter.widget-view+json": {
       "version_major": 2,
       "version_minor": 0,
       "model_id": "3ea1bbf81f90443b8eb677d65c7725e0"
      }
     },
     "metadata": {},
     "output_type": "display_data"
    }
   ],
   "execution_count": 29
  },
  {
   "metadata": {
    "ExecuteTime": {
     "end_time": "2025-01-21T07:46:40.857285Z",
     "start_time": "2025-01-21T07:46:40.849343Z"
    }
   },
   "cell_type": "code",
   "source": "texts = [t['text'] for t in test_data]",
   "id": "489e671b9f07845c",
   "outputs": [],
   "execution_count": 30
  },
  {
   "metadata": {
    "ExecuteTime": {
     "end_time": "2025-01-21T07:46:42.229719Z",
     "start_time": "2025-01-21T07:46:41.969337Z"
    }
   },
   "cell_type": "code",
   "source": "preds = model.predict(texts)",
   "id": "6d265df9beaf94af",
   "outputs": [
    {
     "data": {
      "text/plain": [
       "Batches:   0%|          | 0/6 [00:00<?, ?it/s]"
      ],
      "application/vnd.jupyter.widget-view+json": {
       "version_major": 2,
       "version_minor": 0,
       "model_id": "d609df7c539344cb91e3329f90a8573d"
      }
     },
     "metadata": {},
     "output_type": "display_data"
    },
    {
     "data": {
      "text/plain": [
       "Batches:   0%|          | 0/3 [00:00<?, ?it/s]"
      ],
      "application/vnd.jupyter.widget-view+json": {
       "version_major": 2,
       "version_minor": 0,
       "model_id": "77d0dec721a5416ca2c9ab283c4c574a"
      }
     },
     "metadata": {},
     "output_type": "display_data"
    }
   ],
   "execution_count": 31
  },
  {
   "metadata": {
    "ExecuteTime": {
     "end_time": "2025-01-21T07:46:42.930291Z",
     "start_time": "2025-01-21T07:46:42.927322Z"
    }
   },
   "cell_type": "code",
   "source": "",
   "id": "f80d10613e82a143",
   "outputs": [],
   "execution_count": 31
  },
  {
   "metadata": {
    "ExecuteTime": {
     "end_time": "2025-01-21T07:46:43.336429Z",
     "start_time": "2025-01-21T07:46:43.328290Z"
    }
   },
   "cell_type": "code",
   "source": [
    "for pair in zip([_ for _ in test_data], preds):\n",
    "    print(pair[0]['span'], pair[0]['label'], pair[1])"
   ],
   "id": "14a00bc60fa28cb4",
   "outputs": [
    {
     "name": "stdout",
     "output_type": "stream",
     "text": [
      "Deutsche Bank India neutral [{'span': 'Deutsche Bank India CEO', 'polarity': 'neutral'}]\n",
      "Axis Capital neutral []\n",
      "Kalindee Rail negative [{'span': 'Kalindee Rail', 'polarity': 'negative'}, {'span': 'Texmaco', 'polarity': 'negative'}]\n",
      "Texmaco neutral [{'span': 'Kalindee Rail', 'polarity': 'negative'}, {'span': 'Texmaco', 'polarity': 'negative'}]\n",
      "Ashok Leyland positive [{'span': 'Jefferies', 'polarity': 'positive'}, {'span': 'Ashok Leyland', 'polarity': 'positive'}]\n",
      "pharma companies negative [{'span': 'USFDA', 'polarity': 'neutral'}, {'span': 'Dalal Street', 'polarity': 'neutral'}, {'span': 'pharma companies', 'polarity': 'neutral'}]\n",
      "USFDA neutral [{'span': 'USFDA', 'polarity': 'neutral'}, {'span': 'Dalal Street', 'polarity': 'neutral'}, {'span': 'pharma companies', 'polarity': 'neutral'}]\n",
      "Oriental Bank of Commerce positive [{'span': 'Oriental Bank', 'polarity': 'neutral'}, {'span': 'Commerce Q4 Net', 'polarity': 'positive'}]\n",
      "Oriental Bank of Commerce positive [{'span': 'Oriental Bank', 'polarity': 'positive'}, {'span': 'Commerce Q1', 'polarity': 'positive'}]\n",
      "Carborundum Universal negative [{'span': 'Carborundum Universal Q1 net', 'polarity': 'negative'}]\n",
      "Markets positive [{'span': 'Markets', 'polarity': 'positive'}]\n",
      "Industrial oil negative [{'span': 'oil prices', 'polarity': 'negative'}]\n",
      "Europe shares negative [{'span': 'Europe', 'polarity': 'negative'}]\n",
      "Nifty neutral [{'span': 'Nifty', 'polarity': 'positive'}, {'span': 'Sensex', 'polarity': 'positive'}, {'span': 'Blackridge Capital Advisors', 'polarity': 'neutral'}]\n",
      "Sensex neutral [{'span': 'Nifty', 'polarity': 'positive'}, {'span': 'Sensex', 'polarity': 'positive'}, {'span': 'Blackridge Capital Advisors', 'polarity': 'neutral'}]\n",
      "Blackridge Capital Advisors neutral [{'span': 'Nifty', 'polarity': 'positive'}, {'span': 'Sensex', 'polarity': 'positive'}, {'span': 'Blackridge Capital Advisors', 'polarity': 'neutral'}]\n",
      "DAX positive [{'span': 'Germany', 'polarity': 'positive'}, {'span': 'DAX', 'polarity': 'positive'}]\n",
      "European shares negative [{'span': 'Germany', 'polarity': 'positive'}, {'span': 'DAX', 'polarity': 'positive'}]\n",
      "Oracle Financial Services negative [{'span': 'Oracle Financial Services plunges', 'polarity': 'negative'}]\n",
      "MOIL negative [{'span': 'ore prices', 'polarity': 'negative'}]\n",
      "ore negative [{'span': 'ore prices', 'polarity': 'negative'}]\n",
      "smallcap stocks positive [{'span': 'smallcap stocks', 'polarity': 'positive'}]\n",
      "farm equipment positive []\n",
      "agri stocks positive []\n",
      "private banking positive [{'span': 'midcap', 'polarity': 'positive'}]\n",
      "midcap IT positive [{'span': 'midcap', 'polarity': 'positive'}]\n",
      "pharma stocks positive [{'span': 'midcap', 'polarity': 'positive'}]\n",
      "Euro neutral [{'span': 'Euro', 'polarity': 'neutral'}, {'span': 'dollar', 'polarity': 'neutral'}]\n",
      "dollar neutral [{'span': 'Euro', 'polarity': 'neutral'}, {'span': 'dollar', 'polarity': 'neutral'}]\n",
      "Bharti Airtel Africa negative [{'span': 'Bharti Airtel Africa', 'polarity': 'negative'}]\n",
      "Asian shares positive []\n",
      "oil negative []\n",
      "Sebi neutral [{'span': 'Sebi', 'polarity': 'neutral'}, {'span': 'exchanges', 'polarity': 'neutral'}]\n",
      "Airtel neutral [{'span': 'Airtel', 'polarity': 'neutral'}]\n",
      "Kingfisher Airlines negative [{'span': 'Transglobal', 'polarity': 'neutral'}, {'span': 'Kingfisher Airlines shares', 'polarity': 'neutral'}]\n",
      "Nissan negative [{'span': 'Nissan', 'polarity': 'negative'}, {'span': 'Takata air bag', 'polarity': 'negative'}]\n",
      "Ranbaxy positive [{'span': 'Ranbaxy', 'polarity': 'positive'}]\n",
      "Castor seed negative []\n",
      "IGate neutral [{'span': 'IGate', 'polarity': 'neutral'}]\n",
      "oil positive [{'span': 'oil', 'polarity': 'positive'}]\n",
      "gas positive [{'span': 'oil', 'polarity': 'positive'}]\n",
      "Quantum Securities neutral [{'span': 'Quantum Securities', 'polarity': 'neutral'}]\n",
      "Dishman Pharma positive [{'span': 'Dishman Pharma shares', 'polarity': 'positive'}]\n",
      "Shriram Transport positive [{'span': 'Shriram Transport', 'polarity': 'neutral'}]\n",
      "Cadila Healthcare positive [{'span': 'Cadila Healthcare', 'polarity': 'positive'}]\n",
      "Sharekhan neutral [{'span': 'Cadila Healthcare', 'polarity': 'positive'}]\n",
      "IiAS neutral [{'span': 'IiAS names Hetal Dalal', 'polarity': 'neutral'}]\n",
      "public sector banks neutral [{'span': 'sector banks', 'polarity': 'neutral'}]\n",
      "Sebi neutral [{'span': 'Sebi', 'polarity': 'neutral'}]\n",
      "Prozone neutral [{'span': 'Sebi', 'polarity': 'neutral'}]\n"
     ]
    }
   ],
   "execution_count": 32
  },
  {
   "metadata": {},
   "cell_type": "code",
   "source": "#https://github.com/huggingface/setfit",
   "id": "908c66cf54274229",
   "outputs": [],
   "execution_count": null
  },
  {
   "metadata": {
    "ExecuteTime": {
     "end_time": "2024-12-27T20:04:48.917509Z",
     "start_time": "2024-12-27T20:04:47.942646Z"
    }
   },
   "cell_type": "code",
   "source": "model.save_pretrained(os.path.join(output_dir, 'setfit-absa-model-finance'))\n",
   "id": "a638678f102b02f0",
   "outputs": [
    {
     "name": "stderr",
     "output_type": "stream",
     "text": [
      "2024-12-27 20:04:47,944 - INFO - Save model to /home/ubuntu/fin_experiment/models/setfit-absa-model-finance-aspect\n",
      "2024-12-27 20:04:48,140 - INFO - Save model to /home/ubuntu/fin_experiment/models/setfit-absa-model-finance-polarity\n"
     ]
    }
   ],
   "execution_count": 28
  }
 ],
 "metadata": {
  "kernelspec": {
   "display_name": "Python 3",
   "language": "python",
   "name": "python3"
  },
  "language_info": {
   "codemirror_mode": {
    "name": "ipython",
    "version": 2
   },
   "file_extension": ".py",
   "mimetype": "text/x-python",
   "name": "python",
   "nbconvert_exporter": "python",
   "pygments_lexer": "ipython2",
   "version": "2.7.6"
  }
 },
 "nbformat": 4,
 "nbformat_minor": 5
}
