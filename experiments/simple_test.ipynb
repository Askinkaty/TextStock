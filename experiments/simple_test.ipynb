{
 "cells": [
  {
   "cell_type": "code",
   "execution_count": 10,
   "id": "abc5cbce-4f90-48b4-9919-11ed737f0f99",
   "metadata": {},
   "outputs": [
    {
     "name": "stdout",
     "output_type": "stream",
     "text": [
      "Accuracy: 0.5101\n",
      "              precision    recall  f1-score   support\n",
      "\n",
      "    Negative       0.42      0.35      0.38       171\n",
      "    Positive       0.56      0.63      0.59       227\n",
      "\n",
      "    accuracy                           0.51       398\n",
      "   macro avg       0.49      0.49      0.49       398\n",
      "weighted avg       0.50      0.51      0.50       398\n",
      "\n"
     ]
    }
   ],
   "source": [
    "from sklearn.feature_extraction.text import TfidfVectorizer\n",
    "from sklearn.svm import SVC\n",
    "from sklearn.model_selection import train_test_split\n",
    "from sklearn.metrics import accuracy_score, classification_report\n",
    "import pandas as pd\n",
    "import os\n",
    "\n",
    "# Example dataset\n",
    "data_dir = '/projappl/project_2006600/fin_experiment/data'\n",
    "data_combined_news = pd.read_csv(os.path.join(data_dir, 'data_combined_news.csv'), sep='\\t', encoding='utf-8')\n",
    "\n",
    "x = data_combined_news['All_news']\n",
    "y = data_combined_news['Label']\n",
    "\n",
    "X_train, X_valid, y_train, y_valid = train_test_split(x, y, test_size=0.2, random_state=42, shuffle=True)\n",
    "\n",
    "# Split data\n",
    "\n",
    "# TF-IDF Vectorizer\n",
    "vectorizer = TfidfVectorizer(max_features=1000)\n",
    "X_train_tfidf = vectorizer.fit_transform(X_train)\n",
    "X_test_tfidf = vectorizer.transform(X_valid)\n",
    "\n",
    "# Train SVM\n",
    "svm = SVC(kernel=\"linear\", C=1.0, random_state=42)\n",
    "svm.fit(X_train_tfidf, y_train)\n",
    "\n",
    "# Predictions\n",
    "y_pred = svm.predict(X_test_tfidf)\n",
    "\n",
    "# Evaluation\n",
    "accuracy = accuracy_score(y_valid, y_pred)\n",
    "print(f\"Accuracy: {accuracy:.4f}\")\n",
    "print(classification_report(y_valid, y_pred, target_names=[\"Negative\", \"Positive\"]))\n"
   ]
  }
 ],
 "metadata": {
  "kernelspec": {
   "display_name": "Python 3 (ipykernel)",
   "language": "python",
   "name": "python3"
  },
  "language_info": {
   "codemirror_mode": {
    "name": "ipython",
    "version": 3
   },
   "file_extension": ".py",
   "mimetype": "text/x-python",
   "name": "python",
   "nbconvert_exporter": "python",
   "pygments_lexer": "ipython3",
   "version": "3.11.9"
  }
 },
 "nbformat": 4,
 "nbformat_minor": 5
}
